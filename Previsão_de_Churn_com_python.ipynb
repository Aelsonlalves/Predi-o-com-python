{
  "cells": [
    {
      "cell_type": "markdown",
      "metadata": {
        "id": "WGXuIvvpAJxD"
      },
      "source": [
        "#0 - Introdução\n",
        "\n",
        "**Objetivo**\n",
        "\n",
        "Visamos desenvolver análise para compreender melhor e prever a ocorrência de churn no contexto de telecon, e assim conseguir auxiliar ao desenvolvimento de estratégias que permitam mitigar churn e, consequentemente, potencializar a receita da empresa.\n",
        "\n",
        "Também é de nosso interesse responder perguntas tais como:\n",
        "\n",
        "- Ter dependentes tem impacto no churn?\n",
        "- O estado civil do cliente impacta o churn?\n",
        "- Quais tipos de contratos resultam em maior permanencia no serviço da empresa?\n",
        "- O gênero e idade impactam no churn?"
      ]
    },
    {
      "cell_type": "markdown",
      "metadata": {
        "id": "cNzipuCHMMxd"
      },
      "source": [
        "#1 - Bibliotecas"
      ]
    },
    {
      "cell_type": "code",
      "execution_count": null,
      "metadata": {
        "id": "k0xd7Htuf4JI"
      },
      "outputs": [],
      "source": [
        "#Análise de dados\n",
        "import pandas as pd\n",
        "import numpy as np\n",
        "\n",
        "#Visualização\n",
        "import seaborn as sns\n",
        "import matplotlib.pyplot as plt\n",
        "#import sweetviz as sv # !pip install sweetviz\n",
        "\n",
        "#Modelagem\n",
        "from sklearn.model_selection import train_test_split, GridSearchCV, ParameterGrid, KFold\n",
        "from sklearn.metrics import roc_auc_score\n",
        "from sklearn.preprocessing import StandardScaler\n",
        "from sklearn.pipeline import Pipeline\n",
        "from sklearn.ensemble import RandomForestClassifier\n",
        "from sklearn.preprocessing import LabelEncoder\n",
        "\n",
        "\n",
        "## Configurações ##\n",
        "pd.set_option(\"max_colwidth\", 1000)\n",
        "pd.options.display.float_format = \"{:,.2f}\".format\n",
        "pd.options.plotting.backend = \"matplotlib\"\n",
        "plt.style.use(\"ggplot\")\n"
      ]
    },
    {
      "cell_type": "code",
      "execution_count": null,
      "metadata": {
        "id": "YdAe-V6egszK"
      },
      "outputs": [],
      "source": [
        "#Leitura do arquivo contendo os dados\n",
        "df = pd.read_csv('WA_Fn-UseC_-Telco-Customer-Churn.csv')"
      ]
    },
    {
      "cell_type": "markdown",
      "metadata": {
        "id": "1IVwKlTlkF_R"
      },
      "source": [
        "# 2 - Visão geral e primeiras Inspecções\n"
      ]
    },
    {
      "cell_type": "code",
      "execution_count": null,
      "metadata": {
        "id": "9RHvIlalhCbA",
        "colab": {
          "base_uri": "https://localhost:8080/",
          "height": 386
        },
        "outputId": "cfdab573-fbda-46f5-b6b1-e9f292286b44"
      },
      "outputs": [
        {
          "output_type": "execute_result",
          "data": {
            "text/plain": [
              "   customerID  gender  SeniorCitizen Partner Dependents  tenure PhoneService  \\\n",
              "0  7590-VHVEG  Female              0     Yes         No       1           No   \n",
              "1  5575-GNVDE    Male              0      No         No      34          Yes   \n",
              "2  3668-QPYBK    Male              0      No         No       2          Yes   \n",
              "3  7795-CFOCW    Male              0      No         No      45           No   \n",
              "4  9237-HQITU  Female              0      No         No       2          Yes   \n",
              "\n",
              "      MultipleLines InternetService OnlineSecurity  ... DeviceProtection  \\\n",
              "0  No phone service             DSL             No  ...               No   \n",
              "1                No             DSL            Yes  ...              Yes   \n",
              "2                No             DSL            Yes  ...               No   \n",
              "3  No phone service             DSL            Yes  ...              Yes   \n",
              "4                No     Fiber optic             No  ...               No   \n",
              "\n",
              "  TechSupport StreamingTV StreamingMovies        Contract PaperlessBilling  \\\n",
              "0          No          No              No  Month-to-month              Yes   \n",
              "1          No          No              No        One year               No   \n",
              "2          No          No              No  Month-to-month              Yes   \n",
              "3         Yes          No              No        One year               No   \n",
              "4          No          No              No  Month-to-month              Yes   \n",
              "\n",
              "               PaymentMethod MonthlyCharges  TotalCharges Churn  \n",
              "0           Electronic check          29.85         29.85    No  \n",
              "1               Mailed check          56.95        1889.5    No  \n",
              "2               Mailed check          53.85        108.15   Yes  \n",
              "3  Bank transfer (automatic)          42.30       1840.75    No  \n",
              "4           Electronic check          70.70        151.65   Yes  \n",
              "\n",
              "[5 rows x 21 columns]"
            ],
            "text/html": [
              "\n",
              "  <div id=\"df-8991a87e-0554-450f-a6c6-66aaccbff8ae\">\n",
              "    <div class=\"colab-df-container\">\n",
              "      <div>\n",
              "<style scoped>\n",
              "    .dataframe tbody tr th:only-of-type {\n",
              "        vertical-align: middle;\n",
              "    }\n",
              "\n",
              "    .dataframe tbody tr th {\n",
              "        vertical-align: top;\n",
              "    }\n",
              "\n",
              "    .dataframe thead th {\n",
              "        text-align: right;\n",
              "    }\n",
              "</style>\n",
              "<table border=\"1\" class=\"dataframe\">\n",
              "  <thead>\n",
              "    <tr style=\"text-align: right;\">\n",
              "      <th></th>\n",
              "      <th>customerID</th>\n",
              "      <th>gender</th>\n",
              "      <th>SeniorCitizen</th>\n",
              "      <th>Partner</th>\n",
              "      <th>Dependents</th>\n",
              "      <th>tenure</th>\n",
              "      <th>PhoneService</th>\n",
              "      <th>MultipleLines</th>\n",
              "      <th>InternetService</th>\n",
              "      <th>OnlineSecurity</th>\n",
              "      <th>...</th>\n",
              "      <th>DeviceProtection</th>\n",
              "      <th>TechSupport</th>\n",
              "      <th>StreamingTV</th>\n",
              "      <th>StreamingMovies</th>\n",
              "      <th>Contract</th>\n",
              "      <th>PaperlessBilling</th>\n",
              "      <th>PaymentMethod</th>\n",
              "      <th>MonthlyCharges</th>\n",
              "      <th>TotalCharges</th>\n",
              "      <th>Churn</th>\n",
              "    </tr>\n",
              "  </thead>\n",
              "  <tbody>\n",
              "    <tr>\n",
              "      <th>0</th>\n",
              "      <td>7590-VHVEG</td>\n",
              "      <td>Female</td>\n",
              "      <td>0</td>\n",
              "      <td>Yes</td>\n",
              "      <td>No</td>\n",
              "      <td>1</td>\n",
              "      <td>No</td>\n",
              "      <td>No phone service</td>\n",
              "      <td>DSL</td>\n",
              "      <td>No</td>\n",
              "      <td>...</td>\n",
              "      <td>No</td>\n",
              "      <td>No</td>\n",
              "      <td>No</td>\n",
              "      <td>No</td>\n",
              "      <td>Month-to-month</td>\n",
              "      <td>Yes</td>\n",
              "      <td>Electronic check</td>\n",
              "      <td>29.85</td>\n",
              "      <td>29.85</td>\n",
              "      <td>No</td>\n",
              "    </tr>\n",
              "    <tr>\n",
              "      <th>1</th>\n",
              "      <td>5575-GNVDE</td>\n",
              "      <td>Male</td>\n",
              "      <td>0</td>\n",
              "      <td>No</td>\n",
              "      <td>No</td>\n",
              "      <td>34</td>\n",
              "      <td>Yes</td>\n",
              "      <td>No</td>\n",
              "      <td>DSL</td>\n",
              "      <td>Yes</td>\n",
              "      <td>...</td>\n",
              "      <td>Yes</td>\n",
              "      <td>No</td>\n",
              "      <td>No</td>\n",
              "      <td>No</td>\n",
              "      <td>One year</td>\n",
              "      <td>No</td>\n",
              "      <td>Mailed check</td>\n",
              "      <td>56.95</td>\n",
              "      <td>1889.5</td>\n",
              "      <td>No</td>\n",
              "    </tr>\n",
              "    <tr>\n",
              "      <th>2</th>\n",
              "      <td>3668-QPYBK</td>\n",
              "      <td>Male</td>\n",
              "      <td>0</td>\n",
              "      <td>No</td>\n",
              "      <td>No</td>\n",
              "      <td>2</td>\n",
              "      <td>Yes</td>\n",
              "      <td>No</td>\n",
              "      <td>DSL</td>\n",
              "      <td>Yes</td>\n",
              "      <td>...</td>\n",
              "      <td>No</td>\n",
              "      <td>No</td>\n",
              "      <td>No</td>\n",
              "      <td>No</td>\n",
              "      <td>Month-to-month</td>\n",
              "      <td>Yes</td>\n",
              "      <td>Mailed check</td>\n",
              "      <td>53.85</td>\n",
              "      <td>108.15</td>\n",
              "      <td>Yes</td>\n",
              "    </tr>\n",
              "    <tr>\n",
              "      <th>3</th>\n",
              "      <td>7795-CFOCW</td>\n",
              "      <td>Male</td>\n",
              "      <td>0</td>\n",
              "      <td>No</td>\n",
              "      <td>No</td>\n",
              "      <td>45</td>\n",
              "      <td>No</td>\n",
              "      <td>No phone service</td>\n",
              "      <td>DSL</td>\n",
              "      <td>Yes</td>\n",
              "      <td>...</td>\n",
              "      <td>Yes</td>\n",
              "      <td>Yes</td>\n",
              "      <td>No</td>\n",
              "      <td>No</td>\n",
              "      <td>One year</td>\n",
              "      <td>No</td>\n",
              "      <td>Bank transfer (automatic)</td>\n",
              "      <td>42.30</td>\n",
              "      <td>1840.75</td>\n",
              "      <td>No</td>\n",
              "    </tr>\n",
              "    <tr>\n",
              "      <th>4</th>\n",
              "      <td>9237-HQITU</td>\n",
              "      <td>Female</td>\n",
              "      <td>0</td>\n",
              "      <td>No</td>\n",
              "      <td>No</td>\n",
              "      <td>2</td>\n",
              "      <td>Yes</td>\n",
              "      <td>No</td>\n",
              "      <td>Fiber optic</td>\n",
              "      <td>No</td>\n",
              "      <td>...</td>\n",
              "      <td>No</td>\n",
              "      <td>No</td>\n",
              "      <td>No</td>\n",
              "      <td>No</td>\n",
              "      <td>Month-to-month</td>\n",
              "      <td>Yes</td>\n",
              "      <td>Electronic check</td>\n",
              "      <td>70.70</td>\n",
              "      <td>151.65</td>\n",
              "      <td>Yes</td>\n",
              "    </tr>\n",
              "  </tbody>\n",
              "</table>\n",
              "<p>5 rows × 21 columns</p>\n",
              "</div>\n",
              "      <button class=\"colab-df-convert\" onclick=\"convertToInteractive('df-8991a87e-0554-450f-a6c6-66aaccbff8ae')\"\n",
              "              title=\"Convert this dataframe to an interactive table.\"\n",
              "              style=\"display:none;\">\n",
              "        \n",
              "  <svg xmlns=\"http://www.w3.org/2000/svg\" height=\"24px\"viewBox=\"0 0 24 24\"\n",
              "       width=\"24px\">\n",
              "    <path d=\"M0 0h24v24H0V0z\" fill=\"none\"/>\n",
              "    <path d=\"M18.56 5.44l.94 2.06.94-2.06 2.06-.94-2.06-.94-.94-2.06-.94 2.06-2.06.94zm-11 1L8.5 8.5l.94-2.06 2.06-.94-2.06-.94L8.5 2.5l-.94 2.06-2.06.94zm10 10l.94 2.06.94-2.06 2.06-.94-2.06-.94-.94-2.06-.94 2.06-2.06.94z\"/><path d=\"M17.41 7.96l-1.37-1.37c-.4-.4-.92-.59-1.43-.59-.52 0-1.04.2-1.43.59L10.3 9.45l-7.72 7.72c-.78.78-.78 2.05 0 2.83L4 21.41c.39.39.9.59 1.41.59.51 0 1.02-.2 1.41-.59l7.78-7.78 2.81-2.81c.8-.78.8-2.07 0-2.86zM5.41 20L4 18.59l7.72-7.72 1.47 1.35L5.41 20z\"/>\n",
              "  </svg>\n",
              "      </button>\n",
              "      \n",
              "  <style>\n",
              "    .colab-df-container {\n",
              "      display:flex;\n",
              "      flex-wrap:wrap;\n",
              "      gap: 12px;\n",
              "    }\n",
              "\n",
              "    .colab-df-convert {\n",
              "      background-color: #E8F0FE;\n",
              "      border: none;\n",
              "      border-radius: 50%;\n",
              "      cursor: pointer;\n",
              "      display: none;\n",
              "      fill: #1967D2;\n",
              "      height: 32px;\n",
              "      padding: 0 0 0 0;\n",
              "      width: 32px;\n",
              "    }\n",
              "\n",
              "    .colab-df-convert:hover {\n",
              "      background-color: #E2EBFA;\n",
              "      box-shadow: 0px 1px 2px rgba(60, 64, 67, 0.3), 0px 1px 3px 1px rgba(60, 64, 67, 0.15);\n",
              "      fill: #174EA6;\n",
              "    }\n",
              "\n",
              "    [theme=dark] .colab-df-convert {\n",
              "      background-color: #3B4455;\n",
              "      fill: #D2E3FC;\n",
              "    }\n",
              "\n",
              "    [theme=dark] .colab-df-convert:hover {\n",
              "      background-color: #434B5C;\n",
              "      box-shadow: 0px 1px 3px 1px rgba(0, 0, 0, 0.15);\n",
              "      filter: drop-shadow(0px 1px 2px rgba(0, 0, 0, 0.3));\n",
              "      fill: #FFFFFF;\n",
              "    }\n",
              "  </style>\n",
              "\n",
              "      <script>\n",
              "        const buttonEl =\n",
              "          document.querySelector('#df-8991a87e-0554-450f-a6c6-66aaccbff8ae button.colab-df-convert');\n",
              "        buttonEl.style.display =\n",
              "          google.colab.kernel.accessAllowed ? 'block' : 'none';\n",
              "\n",
              "        async function convertToInteractive(key) {\n",
              "          const element = document.querySelector('#df-8991a87e-0554-450f-a6c6-66aaccbff8ae');\n",
              "          const dataTable =\n",
              "            await google.colab.kernel.invokeFunction('convertToInteractive',\n",
              "                                                     [key], {});\n",
              "          if (!dataTable) return;\n",
              "\n",
              "          const docLinkHtml = 'Like what you see? Visit the ' +\n",
              "            '<a target=\"_blank\" href=https://colab.research.google.com/notebooks/data_table.ipynb>data table notebook</a>'\n",
              "            + ' to learn more about interactive tables.';\n",
              "          element.innerHTML = '';\n",
              "          dataTable['output_type'] = 'display_data';\n",
              "          await google.colab.output.renderOutput(dataTable, element);\n",
              "          const docLink = document.createElement('div');\n",
              "          docLink.innerHTML = docLinkHtml;\n",
              "          element.appendChild(docLink);\n",
              "        }\n",
              "      </script>\n",
              "    </div>\n",
              "  </div>\n",
              "  "
            ]
          },
          "metadata": {},
          "execution_count": 735
        }
      ],
      "source": [
        "df.head()"
      ]
    },
    {
      "cell_type": "code",
      "execution_count": null,
      "metadata": {
        "id": "XRn2Lr-8hhan",
        "colab": {
          "base_uri": "https://localhost:8080/"
        },
        "outputId": "f29da3c0-3529-4b83-f7bc-4fc546810592"
      },
      "outputs": [
        {
          "output_type": "stream",
          "name": "stdout",
          "text": [
            "<class 'pandas.core.frame.DataFrame'>\n",
            "RangeIndex: 7043 entries, 0 to 7042\n",
            "Data columns (total 21 columns):\n",
            " #   Column            Non-Null Count  Dtype  \n",
            "---  ------            --------------  -----  \n",
            " 0   customerID        7043 non-null   object \n",
            " 1   gender            7043 non-null   object \n",
            " 2   SeniorCitizen     7043 non-null   int64  \n",
            " 3   Partner           7043 non-null   object \n",
            " 4   Dependents        7043 non-null   object \n",
            " 5   tenure            7043 non-null   int64  \n",
            " 6   PhoneService      7043 non-null   object \n",
            " 7   MultipleLines     7043 non-null   object \n",
            " 8   InternetService   7043 non-null   object \n",
            " 9   OnlineSecurity    7043 non-null   object \n",
            " 10  OnlineBackup      7043 non-null   object \n",
            " 11  DeviceProtection  7043 non-null   object \n",
            " 12  TechSupport       7043 non-null   object \n",
            " 13  StreamingTV       7043 non-null   object \n",
            " 14  StreamingMovies   7043 non-null   object \n",
            " 15  Contract          7043 non-null   object \n",
            " 16  PaperlessBilling  7043 non-null   object \n",
            " 17  PaymentMethod     7043 non-null   object \n",
            " 18  MonthlyCharges    7043 non-null   float64\n",
            " 19  TotalCharges      7043 non-null   object \n",
            " 20  Churn             7043 non-null   object \n",
            "dtypes: float64(1), int64(2), object(18)\n",
            "memory usage: 1.1+ MB\n"
          ]
        }
      ],
      "source": [
        "#Informações sobre as features\n",
        "df.info()"
      ]
    },
    {
      "cell_type": "code",
      "execution_count": null,
      "metadata": {
        "id": "mfAZw2m0yy2T",
        "colab": {
          "base_uri": "https://localhost:8080/"
        },
        "outputId": "a7b48ac4-3028-4315-f1e0-ff9e99d45222"
      },
      "outputs": [
        {
          "output_type": "execute_result",
          "data": {
            "text/plain": [
              "(7043, 21)"
            ]
          },
          "metadata": {},
          "execution_count": 737
        }
      ],
      "source": [
        "df.shape"
      ]
    },
    {
      "cell_type": "code",
      "execution_count": null,
      "metadata": {
        "id": "0t5YH3tpiEdj",
        "colab": {
          "base_uri": "https://localhost:8080/",
          "height": 505
        },
        "outputId": "26bc267c-90c2-450a-fce3-0a73e5d64f62"
      },
      "outputs": [
        {
          "output_type": "execute_result",
          "data": {
            "text/plain": [
              "        customerID gender  SeniorCitizen Partner Dependents   tenure  \\\n",
              "count         7043   7043       7,043.00    7043       7043 7,043.00   \n",
              "unique        7043      2            NaN       2          2      NaN   \n",
              "top     7590-VHVEG   Male            NaN      No         No      NaN   \n",
              "freq             1   3555            NaN    3641       4933      NaN   \n",
              "mean           NaN    NaN           0.16     NaN        NaN    32.37   \n",
              "std            NaN    NaN           0.37     NaN        NaN    24.56   \n",
              "min            NaN    NaN           0.00     NaN        NaN     0.00   \n",
              "25%            NaN    NaN           0.00     NaN        NaN     9.00   \n",
              "50%            NaN    NaN           0.00     NaN        NaN    29.00   \n",
              "75%            NaN    NaN           0.00     NaN        NaN    55.00   \n",
              "max            NaN    NaN           1.00     NaN        NaN    72.00   \n",
              "\n",
              "       PhoneService MultipleLines InternetService OnlineSecurity  ...  \\\n",
              "count          7043          7043            7043           7043  ...   \n",
              "unique            2             3               3              3  ...   \n",
              "top             Yes            No     Fiber optic             No  ...   \n",
              "freq           6361          3390            3096           3498  ...   \n",
              "mean            NaN           NaN             NaN            NaN  ...   \n",
              "std             NaN           NaN             NaN            NaN  ...   \n",
              "min             NaN           NaN             NaN            NaN  ...   \n",
              "25%             NaN           NaN             NaN            NaN  ...   \n",
              "50%             NaN           NaN             NaN            NaN  ...   \n",
              "75%             NaN           NaN             NaN            NaN  ...   \n",
              "max             NaN           NaN             NaN            NaN  ...   \n",
              "\n",
              "       DeviceProtection TechSupport StreamingTV StreamingMovies  \\\n",
              "count              7043        7043        7043            7043   \n",
              "unique                3           3           3               3   \n",
              "top                  No          No          No              No   \n",
              "freq               3095        3473        2810            2785   \n",
              "mean                NaN         NaN         NaN             NaN   \n",
              "std                 NaN         NaN         NaN             NaN   \n",
              "min                 NaN         NaN         NaN             NaN   \n",
              "25%                 NaN         NaN         NaN             NaN   \n",
              "50%                 NaN         NaN         NaN             NaN   \n",
              "75%                 NaN         NaN         NaN             NaN   \n",
              "max                 NaN         NaN         NaN             NaN   \n",
              "\n",
              "              Contract PaperlessBilling     PaymentMethod MonthlyCharges  \\\n",
              "count             7043             7043              7043       7,043.00   \n",
              "unique               3                2                 4            NaN   \n",
              "top     Month-to-month              Yes  Electronic check            NaN   \n",
              "freq              3875             4171              2365            NaN   \n",
              "mean               NaN              NaN               NaN          64.76   \n",
              "std                NaN              NaN               NaN          30.09   \n",
              "min                NaN              NaN               NaN          18.25   \n",
              "25%                NaN              NaN               NaN          35.50   \n",
              "50%                NaN              NaN               NaN          70.35   \n",
              "75%                NaN              NaN               NaN          89.85   \n",
              "max                NaN              NaN               NaN         118.75   \n",
              "\n",
              "        TotalCharges Churn  \n",
              "count           7043  7043  \n",
              "unique          6531     2  \n",
              "top                     No  \n",
              "freq              11  5174  \n",
              "mean             NaN   NaN  \n",
              "std              NaN   NaN  \n",
              "min              NaN   NaN  \n",
              "25%              NaN   NaN  \n",
              "50%              NaN   NaN  \n",
              "75%              NaN   NaN  \n",
              "max              NaN   NaN  \n",
              "\n",
              "[11 rows x 21 columns]"
            ],
            "text/html": [
              "\n",
              "  <div id=\"df-ec6fbd06-f636-456d-945a-0bf7f9ad6064\">\n",
              "    <div class=\"colab-df-container\">\n",
              "      <div>\n",
              "<style scoped>\n",
              "    .dataframe tbody tr th:only-of-type {\n",
              "        vertical-align: middle;\n",
              "    }\n",
              "\n",
              "    .dataframe tbody tr th {\n",
              "        vertical-align: top;\n",
              "    }\n",
              "\n",
              "    .dataframe thead th {\n",
              "        text-align: right;\n",
              "    }\n",
              "</style>\n",
              "<table border=\"1\" class=\"dataframe\">\n",
              "  <thead>\n",
              "    <tr style=\"text-align: right;\">\n",
              "      <th></th>\n",
              "      <th>customerID</th>\n",
              "      <th>gender</th>\n",
              "      <th>SeniorCitizen</th>\n",
              "      <th>Partner</th>\n",
              "      <th>Dependents</th>\n",
              "      <th>tenure</th>\n",
              "      <th>PhoneService</th>\n",
              "      <th>MultipleLines</th>\n",
              "      <th>InternetService</th>\n",
              "      <th>OnlineSecurity</th>\n",
              "      <th>...</th>\n",
              "      <th>DeviceProtection</th>\n",
              "      <th>TechSupport</th>\n",
              "      <th>StreamingTV</th>\n",
              "      <th>StreamingMovies</th>\n",
              "      <th>Contract</th>\n",
              "      <th>PaperlessBilling</th>\n",
              "      <th>PaymentMethod</th>\n",
              "      <th>MonthlyCharges</th>\n",
              "      <th>TotalCharges</th>\n",
              "      <th>Churn</th>\n",
              "    </tr>\n",
              "  </thead>\n",
              "  <tbody>\n",
              "    <tr>\n",
              "      <th>count</th>\n",
              "      <td>7043</td>\n",
              "      <td>7043</td>\n",
              "      <td>7,043.00</td>\n",
              "      <td>7043</td>\n",
              "      <td>7043</td>\n",
              "      <td>7,043.00</td>\n",
              "      <td>7043</td>\n",
              "      <td>7043</td>\n",
              "      <td>7043</td>\n",
              "      <td>7043</td>\n",
              "      <td>...</td>\n",
              "      <td>7043</td>\n",
              "      <td>7043</td>\n",
              "      <td>7043</td>\n",
              "      <td>7043</td>\n",
              "      <td>7043</td>\n",
              "      <td>7043</td>\n",
              "      <td>7043</td>\n",
              "      <td>7,043.00</td>\n",
              "      <td>7043</td>\n",
              "      <td>7043</td>\n",
              "    </tr>\n",
              "    <tr>\n",
              "      <th>unique</th>\n",
              "      <td>7043</td>\n",
              "      <td>2</td>\n",
              "      <td>NaN</td>\n",
              "      <td>2</td>\n",
              "      <td>2</td>\n",
              "      <td>NaN</td>\n",
              "      <td>2</td>\n",
              "      <td>3</td>\n",
              "      <td>3</td>\n",
              "      <td>3</td>\n",
              "      <td>...</td>\n",
              "      <td>3</td>\n",
              "      <td>3</td>\n",
              "      <td>3</td>\n",
              "      <td>3</td>\n",
              "      <td>3</td>\n",
              "      <td>2</td>\n",
              "      <td>4</td>\n",
              "      <td>NaN</td>\n",
              "      <td>6531</td>\n",
              "      <td>2</td>\n",
              "    </tr>\n",
              "    <tr>\n",
              "      <th>top</th>\n",
              "      <td>7590-VHVEG</td>\n",
              "      <td>Male</td>\n",
              "      <td>NaN</td>\n",
              "      <td>No</td>\n",
              "      <td>No</td>\n",
              "      <td>NaN</td>\n",
              "      <td>Yes</td>\n",
              "      <td>No</td>\n",
              "      <td>Fiber optic</td>\n",
              "      <td>No</td>\n",
              "      <td>...</td>\n",
              "      <td>No</td>\n",
              "      <td>No</td>\n",
              "      <td>No</td>\n",
              "      <td>No</td>\n",
              "      <td>Month-to-month</td>\n",
              "      <td>Yes</td>\n",
              "      <td>Electronic check</td>\n",
              "      <td>NaN</td>\n",
              "      <td></td>\n",
              "      <td>No</td>\n",
              "    </tr>\n",
              "    <tr>\n",
              "      <th>freq</th>\n",
              "      <td>1</td>\n",
              "      <td>3555</td>\n",
              "      <td>NaN</td>\n",
              "      <td>3641</td>\n",
              "      <td>4933</td>\n",
              "      <td>NaN</td>\n",
              "      <td>6361</td>\n",
              "      <td>3390</td>\n",
              "      <td>3096</td>\n",
              "      <td>3498</td>\n",
              "      <td>...</td>\n",
              "      <td>3095</td>\n",
              "      <td>3473</td>\n",
              "      <td>2810</td>\n",
              "      <td>2785</td>\n",
              "      <td>3875</td>\n",
              "      <td>4171</td>\n",
              "      <td>2365</td>\n",
              "      <td>NaN</td>\n",
              "      <td>11</td>\n",
              "      <td>5174</td>\n",
              "    </tr>\n",
              "    <tr>\n",
              "      <th>mean</th>\n",
              "      <td>NaN</td>\n",
              "      <td>NaN</td>\n",
              "      <td>0.16</td>\n",
              "      <td>NaN</td>\n",
              "      <td>NaN</td>\n",
              "      <td>32.37</td>\n",
              "      <td>NaN</td>\n",
              "      <td>NaN</td>\n",
              "      <td>NaN</td>\n",
              "      <td>NaN</td>\n",
              "      <td>...</td>\n",
              "      <td>NaN</td>\n",
              "      <td>NaN</td>\n",
              "      <td>NaN</td>\n",
              "      <td>NaN</td>\n",
              "      <td>NaN</td>\n",
              "      <td>NaN</td>\n",
              "      <td>NaN</td>\n",
              "      <td>64.76</td>\n",
              "      <td>NaN</td>\n",
              "      <td>NaN</td>\n",
              "    </tr>\n",
              "    <tr>\n",
              "      <th>std</th>\n",
              "      <td>NaN</td>\n",
              "      <td>NaN</td>\n",
              "      <td>0.37</td>\n",
              "      <td>NaN</td>\n",
              "      <td>NaN</td>\n",
              "      <td>24.56</td>\n",
              "      <td>NaN</td>\n",
              "      <td>NaN</td>\n",
              "      <td>NaN</td>\n",
              "      <td>NaN</td>\n",
              "      <td>...</td>\n",
              "      <td>NaN</td>\n",
              "      <td>NaN</td>\n",
              "      <td>NaN</td>\n",
              "      <td>NaN</td>\n",
              "      <td>NaN</td>\n",
              "      <td>NaN</td>\n",
              "      <td>NaN</td>\n",
              "      <td>30.09</td>\n",
              "      <td>NaN</td>\n",
              "      <td>NaN</td>\n",
              "    </tr>\n",
              "    <tr>\n",
              "      <th>min</th>\n",
              "      <td>NaN</td>\n",
              "      <td>NaN</td>\n",
              "      <td>0.00</td>\n",
              "      <td>NaN</td>\n",
              "      <td>NaN</td>\n",
              "      <td>0.00</td>\n",
              "      <td>NaN</td>\n",
              "      <td>NaN</td>\n",
              "      <td>NaN</td>\n",
              "      <td>NaN</td>\n",
              "      <td>...</td>\n",
              "      <td>NaN</td>\n",
              "      <td>NaN</td>\n",
              "      <td>NaN</td>\n",
              "      <td>NaN</td>\n",
              "      <td>NaN</td>\n",
              "      <td>NaN</td>\n",
              "      <td>NaN</td>\n",
              "      <td>18.25</td>\n",
              "      <td>NaN</td>\n",
              "      <td>NaN</td>\n",
              "    </tr>\n",
              "    <tr>\n",
              "      <th>25%</th>\n",
              "      <td>NaN</td>\n",
              "      <td>NaN</td>\n",
              "      <td>0.00</td>\n",
              "      <td>NaN</td>\n",
              "      <td>NaN</td>\n",
              "      <td>9.00</td>\n",
              "      <td>NaN</td>\n",
              "      <td>NaN</td>\n",
              "      <td>NaN</td>\n",
              "      <td>NaN</td>\n",
              "      <td>...</td>\n",
              "      <td>NaN</td>\n",
              "      <td>NaN</td>\n",
              "      <td>NaN</td>\n",
              "      <td>NaN</td>\n",
              "      <td>NaN</td>\n",
              "      <td>NaN</td>\n",
              "      <td>NaN</td>\n",
              "      <td>35.50</td>\n",
              "      <td>NaN</td>\n",
              "      <td>NaN</td>\n",
              "    </tr>\n",
              "    <tr>\n",
              "      <th>50%</th>\n",
              "      <td>NaN</td>\n",
              "      <td>NaN</td>\n",
              "      <td>0.00</td>\n",
              "      <td>NaN</td>\n",
              "      <td>NaN</td>\n",
              "      <td>29.00</td>\n",
              "      <td>NaN</td>\n",
              "      <td>NaN</td>\n",
              "      <td>NaN</td>\n",
              "      <td>NaN</td>\n",
              "      <td>...</td>\n",
              "      <td>NaN</td>\n",
              "      <td>NaN</td>\n",
              "      <td>NaN</td>\n",
              "      <td>NaN</td>\n",
              "      <td>NaN</td>\n",
              "      <td>NaN</td>\n",
              "      <td>NaN</td>\n",
              "      <td>70.35</td>\n",
              "      <td>NaN</td>\n",
              "      <td>NaN</td>\n",
              "    </tr>\n",
              "    <tr>\n",
              "      <th>75%</th>\n",
              "      <td>NaN</td>\n",
              "      <td>NaN</td>\n",
              "      <td>0.00</td>\n",
              "      <td>NaN</td>\n",
              "      <td>NaN</td>\n",
              "      <td>55.00</td>\n",
              "      <td>NaN</td>\n",
              "      <td>NaN</td>\n",
              "      <td>NaN</td>\n",
              "      <td>NaN</td>\n",
              "      <td>...</td>\n",
              "      <td>NaN</td>\n",
              "      <td>NaN</td>\n",
              "      <td>NaN</td>\n",
              "      <td>NaN</td>\n",
              "      <td>NaN</td>\n",
              "      <td>NaN</td>\n",
              "      <td>NaN</td>\n",
              "      <td>89.85</td>\n",
              "      <td>NaN</td>\n",
              "      <td>NaN</td>\n",
              "    </tr>\n",
              "    <tr>\n",
              "      <th>max</th>\n",
              "      <td>NaN</td>\n",
              "      <td>NaN</td>\n",
              "      <td>1.00</td>\n",
              "      <td>NaN</td>\n",
              "      <td>NaN</td>\n",
              "      <td>72.00</td>\n",
              "      <td>NaN</td>\n",
              "      <td>NaN</td>\n",
              "      <td>NaN</td>\n",
              "      <td>NaN</td>\n",
              "      <td>...</td>\n",
              "      <td>NaN</td>\n",
              "      <td>NaN</td>\n",
              "      <td>NaN</td>\n",
              "      <td>NaN</td>\n",
              "      <td>NaN</td>\n",
              "      <td>NaN</td>\n",
              "      <td>NaN</td>\n",
              "      <td>118.75</td>\n",
              "      <td>NaN</td>\n",
              "      <td>NaN</td>\n",
              "    </tr>\n",
              "  </tbody>\n",
              "</table>\n",
              "<p>11 rows × 21 columns</p>\n",
              "</div>\n",
              "      <button class=\"colab-df-convert\" onclick=\"convertToInteractive('df-ec6fbd06-f636-456d-945a-0bf7f9ad6064')\"\n",
              "              title=\"Convert this dataframe to an interactive table.\"\n",
              "              style=\"display:none;\">\n",
              "        \n",
              "  <svg xmlns=\"http://www.w3.org/2000/svg\" height=\"24px\"viewBox=\"0 0 24 24\"\n",
              "       width=\"24px\">\n",
              "    <path d=\"M0 0h24v24H0V0z\" fill=\"none\"/>\n",
              "    <path d=\"M18.56 5.44l.94 2.06.94-2.06 2.06-.94-2.06-.94-.94-2.06-.94 2.06-2.06.94zm-11 1L8.5 8.5l.94-2.06 2.06-.94-2.06-.94L8.5 2.5l-.94 2.06-2.06.94zm10 10l.94 2.06.94-2.06 2.06-.94-2.06-.94-.94-2.06-.94 2.06-2.06.94z\"/><path d=\"M17.41 7.96l-1.37-1.37c-.4-.4-.92-.59-1.43-.59-.52 0-1.04.2-1.43.59L10.3 9.45l-7.72 7.72c-.78.78-.78 2.05 0 2.83L4 21.41c.39.39.9.59 1.41.59.51 0 1.02-.2 1.41-.59l7.78-7.78 2.81-2.81c.8-.78.8-2.07 0-2.86zM5.41 20L4 18.59l7.72-7.72 1.47 1.35L5.41 20z\"/>\n",
              "  </svg>\n",
              "      </button>\n",
              "      \n",
              "  <style>\n",
              "    .colab-df-container {\n",
              "      display:flex;\n",
              "      flex-wrap:wrap;\n",
              "      gap: 12px;\n",
              "    }\n",
              "\n",
              "    .colab-df-convert {\n",
              "      background-color: #E8F0FE;\n",
              "      border: none;\n",
              "      border-radius: 50%;\n",
              "      cursor: pointer;\n",
              "      display: none;\n",
              "      fill: #1967D2;\n",
              "      height: 32px;\n",
              "      padding: 0 0 0 0;\n",
              "      width: 32px;\n",
              "    }\n",
              "\n",
              "    .colab-df-convert:hover {\n",
              "      background-color: #E2EBFA;\n",
              "      box-shadow: 0px 1px 2px rgba(60, 64, 67, 0.3), 0px 1px 3px 1px rgba(60, 64, 67, 0.15);\n",
              "      fill: #174EA6;\n",
              "    }\n",
              "\n",
              "    [theme=dark] .colab-df-convert {\n",
              "      background-color: #3B4455;\n",
              "      fill: #D2E3FC;\n",
              "    }\n",
              "\n",
              "    [theme=dark] .colab-df-convert:hover {\n",
              "      background-color: #434B5C;\n",
              "      box-shadow: 0px 1px 3px 1px rgba(0, 0, 0, 0.15);\n",
              "      filter: drop-shadow(0px 1px 2px rgba(0, 0, 0, 0.3));\n",
              "      fill: #FFFFFF;\n",
              "    }\n",
              "  </style>\n",
              "\n",
              "      <script>\n",
              "        const buttonEl =\n",
              "          document.querySelector('#df-ec6fbd06-f636-456d-945a-0bf7f9ad6064 button.colab-df-convert');\n",
              "        buttonEl.style.display =\n",
              "          google.colab.kernel.accessAllowed ? 'block' : 'none';\n",
              "\n",
              "        async function convertToInteractive(key) {\n",
              "          const element = document.querySelector('#df-ec6fbd06-f636-456d-945a-0bf7f9ad6064');\n",
              "          const dataTable =\n",
              "            await google.colab.kernel.invokeFunction('convertToInteractive',\n",
              "                                                     [key], {});\n",
              "          if (!dataTable) return;\n",
              "\n",
              "          const docLinkHtml = 'Like what you see? Visit the ' +\n",
              "            '<a target=\"_blank\" href=https://colab.research.google.com/notebooks/data_table.ipynb>data table notebook</a>'\n",
              "            + ' to learn more about interactive tables.';\n",
              "          element.innerHTML = '';\n",
              "          dataTable['output_type'] = 'display_data';\n",
              "          await google.colab.output.renderOutput(dataTable, element);\n",
              "          const docLink = document.createElement('div');\n",
              "          docLink.innerHTML = docLinkHtml;\n",
              "          element.appendChild(docLink);\n",
              "        }\n",
              "      </script>\n",
              "    </div>\n",
              "  </div>\n",
              "  "
            ]
          },
          "metadata": {},
          "execution_count": 738
        }
      ],
      "source": [
        "#Informação estatística preliminar\n",
        "df.describe(include=\"all\")"
      ]
    },
    {
      "cell_type": "code",
      "execution_count": null,
      "metadata": {
        "id": "jNrGepI0EaIm",
        "colab": {
          "base_uri": "https://localhost:8080/"
        },
        "outputId": "266cb827-ad80-42b7-95ef-784e63156eea"
      },
      "outputs": [
        {
          "output_type": "execute_result",
          "data": {
            "text/plain": [
              "customerID          0\n",
              "gender              0\n",
              "SeniorCitizen       0\n",
              "Partner             0\n",
              "Dependents          0\n",
              "tenure              0\n",
              "PhoneService        0\n",
              "MultipleLines       0\n",
              "InternetService     0\n",
              "OnlineSecurity      0\n",
              "OnlineBackup        0\n",
              "DeviceProtection    0\n",
              "TechSupport         0\n",
              "StreamingTV         0\n",
              "StreamingMovies     0\n",
              "Contract            0\n",
              "PaperlessBilling    0\n",
              "PaymentMethod       0\n",
              "MonthlyCharges      0\n",
              "TotalCharges        0\n",
              "Churn               0\n",
              "dtype: int64"
            ]
          },
          "metadata": {},
          "execution_count": 739
        }
      ],
      "source": [
        "#Verificando para dados faltantes\n",
        "df.isnull().sum()"
      ]
    },
    {
      "cell_type": "code",
      "execution_count": null,
      "metadata": {
        "id": "Osl5L0a9EruT"
      },
      "outputs": [],
      "source": [
        "#df['TotalCharges'].replace(\" \", \"0\", inplace=True)\n",
        "#df['TotalCharges'] = df['TotalCharges'].astype(float)"
      ]
    },
    {
      "cell_type": "code",
      "execution_count": null,
      "metadata": {
        "id": "3Jv1UDvNSWcv",
        "colab": {
          "base_uri": "https://localhost:8080/"
        },
        "outputId": "6f27ad22-f408-4821-a835-bfe5175a59d1"
      },
      "outputs": [
        {
          "output_type": "execute_result",
          "data": {
            "text/plain": [
              "488      \n",
              "753      \n",
              "936      \n",
              "1082     \n",
              "1340     \n",
              "3331     \n",
              "3826     \n",
              "4380     \n",
              "5218     \n",
              "6670     \n",
              "6754     \n",
              "Name: TotalCharges, dtype: object"
            ]
          },
          "metadata": {},
          "execution_count": 741
        }
      ],
      "source": [
        "#Não são missing exatamente, são 'espaços'. Possível erro de digitação.\n",
        "df['TotalCharges'].loc[df['TotalCharges'] == ' ']"
      ]
    },
    {
      "cell_type": "code",
      "execution_count": null,
      "metadata": {
        "id": "6twFbnAvctPp",
        "colab": {
          "base_uri": "https://localhost:8080/",
          "height": 36
        },
        "outputId": "5e40e5d2-4d76-45b6-bbe1-8826f3e29606"
      },
      "outputs": [
        {
          "output_type": "execute_result",
          "data": {
            "text/plain": [
              "' '"
            ],
            "application/vnd.google.colaboratory.intrinsic+json": {
              "type": "string"
            }
          },
          "metadata": {},
          "execution_count": 742
        }
      ],
      "source": [
        "df[\"TotalCharges\"].min()"
      ]
    },
    {
      "cell_type": "markdown",
      "metadata": {
        "id": "yunusE1LNRo8"
      },
      "source": [
        "OBSERVAÇÃO: Existe algum valor vazio na feature TotalCharges, a substituição acima resolve o problema, mas ela só será usada depois do split. "
      ]
    },
    {
      "cell_type": "code",
      "execution_count": null,
      "metadata": {
        "id": "uqL-oHtzNIU4",
        "colab": {
          "base_uri": "https://localhost:8080/"
        },
        "outputId": "74a50057-d2de-4163-e85e-0e99bbb6d20f"
      },
      "outputs": [
        {
          "output_type": "stream",
          "name": "stdout",
          "text": [
            "<class 'pandas.core.frame.DataFrame'>\n",
            "RangeIndex: 7043 entries, 0 to 7042\n",
            "Data columns (total 21 columns):\n",
            " #   Column            Non-Null Count  Dtype  \n",
            "---  ------            --------------  -----  \n",
            " 0   customerID        7043 non-null   object \n",
            " 1   gender            7043 non-null   object \n",
            " 2   SeniorCitizen     7043 non-null   int64  \n",
            " 3   Partner           7043 non-null   object \n",
            " 4   Dependents        7043 non-null   object \n",
            " 5   tenure            7043 non-null   int64  \n",
            " 6   PhoneService      7043 non-null   object \n",
            " 7   MultipleLines     7043 non-null   object \n",
            " 8   InternetService   7043 non-null   object \n",
            " 9   OnlineSecurity    7043 non-null   object \n",
            " 10  OnlineBackup      7043 non-null   object \n",
            " 11  DeviceProtection  7043 non-null   object \n",
            " 12  TechSupport       7043 non-null   object \n",
            " 13  StreamingTV       7043 non-null   object \n",
            " 14  StreamingMovies   7043 non-null   object \n",
            " 15  Contract          7043 non-null   object \n",
            " 16  PaperlessBilling  7043 non-null   object \n",
            " 17  PaymentMethod     7043 non-null   object \n",
            " 18  MonthlyCharges    7043 non-null   float64\n",
            " 19  TotalCharges      7043 non-null   object \n",
            " 20  Churn             7043 non-null   object \n",
            "dtypes: float64(1), int64(2), object(18)\n",
            "memory usage: 1.1+ MB\n"
          ]
        }
      ],
      "source": [
        "df.info()"
      ]
    },
    {
      "cell_type": "markdown",
      "metadata": {
        "id": "AvBoS-agM9Jw"
      },
      "source": [
        "DICIONÁRIO DE DADOS\n",
        "\n",
        "  \n",
        "\n",
        "*   CustomerID - ID do cliente\n",
        "*   gender - Sexo do cliente, F ou M\n",
        "\n",
        "*   SeniorCitizen - se o cliente é idoso ou não (1 ou 0)\n",
        "*   Partner - Se o cliente tem parceiro ou não  (1 ou 0)\n",
        "\n",
        "*   Dependents - Se o cliente tem dependentes ou não (1 ou 0)\n",
        "\n",
        "*   Tenue - Número de meses que o cliente permaneceu na companhia\n",
        "*   PhoneService - Se o cliente tem serviço telefônico (Sim ou Não)\n",
        "\n",
        "\n",
        "*   MultipleLines - Se o cliente tem multiplas linhas ou não (Não, sim ou Sem seviço de telefonia)\n",
        "\n",
        "*   InternetService - Provedor de internet do cliente (DSL, Fibra optica ou não)\n",
        "\n",
        "*   OnlineSecurity - Se o cliente tem segurança online ou não (Sim, Não, Sem serviço de internet)\n",
        "*   OnlineBackup - Se o cliente tem backup online ou não (Sim, Não, Sem serviço de internet)\n",
        "\n",
        "\n",
        "*   DeviceProtection - Se o cliente tem proteção do dispositivo ou não (Sim, Não, Sem serviço de internet)\n",
        "\n",
        "*   TechSupport - Se o cliente tem suporte técnico ou não (Sim, Não, Sem serviço de internet)\n",
        "\n",
        "*   StreamingTV - Se o cliente tem steaming de TV ou não (Yes, No, No internet service)\n",
        "\n",
        "*   StreamingMovies - Se o cliente tem streaming de filmes ou não (Sim, Não, Sem serviço de internet)\n",
        "*   Contract - O prazo do contrato do cliente (mês a mês, um ano, dois anos)\n",
        "\n",
        "*   PaperlessBilling - Se o cliente tem faturamento sem papel ou não (Sim, Não)\n",
        "\n",
        "\n",
        "*   PaymentMethod - O método de pagamento do cliente (Cheque eletrônico, Cheque enviado, Transferência bancária (automática), Cartão de crédito (automático))\n",
        "\n",
        "\n",
        "*   MontlyCharges - O valor cobrado do cliente mensalmente\n",
        "*   TotalCharges - O valor total cobrado do cliente\n",
        "\n",
        "\n",
        "*   Churn (Target) - Se o cliente se desligou ou não (Sim ou Não)\n",
        "\n",
        "\n",
        "\n",
        "\n",
        "\n",
        "\n",
        "\n",
        "\n",
        "\n",
        "\n",
        "\n",
        "\n"
      ]
    },
    {
      "cell_type": "markdown",
      "metadata": {
        "id": "9jv41p0vkBsA"
      },
      "source": [
        "#2 - Análise exploratória univariada\n",
        "\n"
      ]
    },
    {
      "cell_type": "code",
      "execution_count": null,
      "metadata": {
        "id": "7exO1UlCj9yH",
        "colab": {
          "base_uri": "https://localhost:8080/",
          "height": 615
        },
        "outputId": "04d46b18-d517-4789-e209-caf23e8cb6d6"
      },
      "outputs": [
        {
          "output_type": "execute_result",
          "data": {
            "text/plain": [
              "array([[<Axes: title={'center': 'SeniorCitizen'}>,\n",
              "        <Axes: title={'center': 'tenure'}>],\n",
              "       [<Axes: title={'center': 'MonthlyCharges'}>, <Axes: >]],\n",
              "      dtype=object)"
            ]
          },
          "metadata": {},
          "execution_count": 744
        },
        {
          "output_type": "display_data",
          "data": {
            "text/plain": [
              "<Figure size 800x600 with 4 Axes>"
            ],
            "image/png": "[encoded data removed]"
          },
          "metadata": {}
        }
      ],
      "source": [
        "#Visualisação geral do dataframe\n",
        "df.hist(bins=100, figsize = [8,6])"
      ]
    },
    {
      "cell_type": "markdown",
      "metadata": {
        "id": "bHPM3c1Cm6RG"
      },
      "source": [
        "Gênero\n",
        "\n",
        "Sexo dos clientes, masculino ou feminino. Categórico. "
      ]
    },
    {
      "cell_type": "code",
      "execution_count": null,
      "metadata": {
        "id": "RhtKs5YdM0vX",
        "colab": {
          "base_uri": "https://localhost:8080/"
        },
        "outputId": "308e7b8e-52ce-4942-d5a6-8ba809753f06"
      },
      "outputs": [
        {
          "output_type": "execute_result",
          "data": {
            "text/plain": [
              "0       Female\n",
              "1         Male\n",
              "2         Male\n",
              "3         Male\n",
              "4       Female\n",
              "         ...  \n",
              "7038      Male\n",
              "7039    Female\n",
              "7040    Female\n",
              "7041      Male\n",
              "7042      Male\n",
              "Name: gender, Length: 7043, dtype: object"
            ]
          },
          "metadata": {},
          "execution_count": 745
        }
      ],
      "source": [
        "df[\"gender\"]\n"
      ]
    },
    {
      "cell_type": "code",
      "execution_count": null,
      "metadata": {
        "id": "I1TubPxoD4Wp",
        "colab": {
          "base_uri": "https://localhost:8080/"
        },
        "outputId": "1eeec409-2221-4871-9b91-a13e0f2ae733"
      },
      "outputs": [
        {
          "output_type": "execute_result",
          "data": {
            "text/plain": [
              "count     7043\n",
              "unique       2\n",
              "top       Male\n",
              "freq      3555\n",
              "Name: gender, dtype: object"
            ]
          },
          "metadata": {},
          "execution_count": 746
        }
      ],
      "source": [
        "#Informações gerais\n",
        "df[\"gender\"].describe()\n"
      ]
    },
    {
      "cell_type": "code",
      "execution_count": null,
      "metadata": {
        "id": "-cXHokvGSNN5",
        "colab": {
          "base_uri": "https://localhost:8080/"
        },
        "outputId": "07583186-c199-46d5-8835-f24918498223"
      },
      "outputs": [
        {
          "output_type": "execute_result",
          "data": {
            "text/plain": [
              "Male      3555\n",
              "Female    3488\n",
              "Name: gender, dtype: int64"
            ]
          },
          "metadata": {},
          "execution_count": 747
        }
      ],
      "source": [
        "#Contagem por gênero\n",
        "df[\"gender\"].value_counts()"
      ]
    },
    {
      "cell_type": "code",
      "source": [
        "height = list(df[\"gender\"].value_counts())\n",
        "x_value = list(df[\"gender\"].value_counts().index)\n",
        "\n",
        "#plot\n",
        "bar_width = 0.5\n",
        "fig, ax = plt.subplots(figsize=[8,8])\n",
        "bar_plot = ax.bar(x_value, height, bar_width, color=['#0d5c75','#199fb1'])\n",
        "\n",
        "plt.ylim([0,4500])\n",
        "plt.bar_label(bar_plot)\n",
        "plt.title('Distribuição por gênero')\n",
        "plt.xlabel('sexo')\n",
        "plt.ylabel('Frequência')\n",
        "plt.xticks(np.arange(2),['Masculino', 'Feminino'])\n"
      ],
      "metadata": {
        "id": "3DsjW777EeSR",
        "colab": {
          "base_uri": "https://localhost:8080/",
          "height": 776
        },
        "outputId": "78075c74-066f-43be-f01c-135c6bd01b6d"
      },
      "execution_count": null,
      "outputs": [
        {
          "output_type": "execute_result",
          "data": {
            "text/plain": [
              "([<matplotlib.axis.XTick at 0x7f15a6f64100>,\n",
              "  <matplotlib.axis.XTick at 0x7f15a6f640d0>],\n",
              " [Text(0, 0, 'Masculino'), Text(1, 0, 'Feminino')])"
            ]
          },
          "metadata": {},
          "execution_count": 748
        },
        {
          "output_type": "display_data",
          "data": {
            "text/plain": [
              "<Figure size 800x800 with 1 Axes>"
            ],
            "image/png": "[encoded data removed]"
          },
          "metadata": {}
        }
      ]
    },
    {
      "cell_type": "markdown",
      "metadata": {
        "id": "nOOVdPiV7qDo"
      },
      "source": [
        "A distribuição de gênero parece balanceada nos dados presentes."
      ]
    },
    {
      "cell_type": "markdown",
      "metadata": {
        "id": "QYbg_OR6TaRz"
      },
      "source": [
        "#Idosos\n",
        "\n",
        "Se é idoso ou não (1 ou 0). Variável categórica."
      ]
    },
    {
      "cell_type": "code",
      "execution_count": null,
      "metadata": {
        "id": "iKBIqnGUGKBl",
        "colab": {
          "base_uri": "https://localhost:8080/"
        },
        "outputId": "33674fae-7b39-4682-cd43-061fbc07bf76"
      },
      "outputs": [
        {
          "output_type": "execute_result",
          "data": {
            "text/plain": [
              "0       0\n",
              "1       0\n",
              "2       0\n",
              "3       0\n",
              "4       0\n",
              "       ..\n",
              "7038    0\n",
              "7039    0\n",
              "7040    0\n",
              "7041    1\n",
              "7042    0\n",
              "Name: SeniorCitizen, Length: 7043, dtype: int64"
            ]
          },
          "metadata": {},
          "execution_count": 749
        }
      ],
      "source": [
        "df[\"SeniorCitizen\"]"
      ]
    },
    {
      "cell_type": "code",
      "execution_count": null,
      "metadata": {
        "id": "g1xIruaMTm2p",
        "colab": {
          "base_uri": "https://localhost:8080/"
        },
        "outputId": "a4fc1a89-cb82-43af-96ab-9ca507eee59f"
      },
      "outputs": [
        {
          "output_type": "execute_result",
          "data": {
            "text/plain": [
              "dtype('int64')"
            ]
          },
          "metadata": {},
          "execution_count": 750
        }
      ],
      "source": [
        "df[\"SeniorCitizen\"].dtypes"
      ]
    },
    {
      "cell_type": "code",
      "execution_count": null,
      "metadata": {
        "id": "7QH_rcb9T2li",
        "colab": {
          "base_uri": "https://localhost:8080/"
        },
        "outputId": "8a4305cc-0cfc-41f4-ece8-4fb3800e950b"
      },
      "outputs": [
        {
          "output_type": "execute_result",
          "data": {
            "text/plain": [
              "0    5901\n",
              "1    1142\n",
              "Name: SeniorCitizen, dtype: int64"
            ]
          },
          "metadata": {},
          "execution_count": 751
        }
      ],
      "source": [
        "#contagem de clientes idosos\n",
        "df[\"SeniorCitizen\"].value_counts()"
      ]
    },
    {
      "cell_type": "code",
      "execution_count": null,
      "metadata": {
        "id": "QWC2B5cig13t",
        "colab": {
          "base_uri": "https://localhost:8080/",
          "height": 752
        },
        "outputId": "eb5983c1-3cfd-4519-b316-f6142e76409f"
      },
      "outputs": [
        {
          "output_type": "execute_result",
          "data": {
            "text/plain": [
              "([<matplotlib.axis.XTick at 0x7f15a6e46fd0>,\n",
              "  <matplotlib.axis.XTick at 0x7f15a6e46fa0>],\n",
              " [Text(0, 0, 'Não-idoso'), Text(1, 0, 'Idoso')])"
            ]
          },
          "metadata": {},
          "execution_count": 752
        },
        {
          "output_type": "display_data",
          "data": {
            "text/plain": [
              "<Figure size 800x800 with 1 Axes>"
            ],
            "image/png": "[encoded data removed]"
          },
          "metadata": {}
        }
      ],
      "source": [
        "height = list(df[\"SeniorCitizen\"].value_counts())\n",
        "x_value = list(df[\"SeniorCitizen\"].value_counts().index)\n",
        "\n",
        "#plot\n",
        "bar_width = 0.5\n",
        "fig, ax = plt.subplots(figsize=[8,8])\n",
        "bar_plot = ax.bar(x_value, height, bar_width, color=['#0d5c75','#199fb1'])\n",
        "\n",
        "plt.bar_label(bar_plot)\n",
        "plt.ylim([0, 7000])\n",
        "plt.title('Clientes idosos')\n",
        "plt.ylabel('Frequência')\n",
        "plt.xticks(np.arange(2), ['Não-idoso', 'Idoso'])\n",
        "\n"
      ]
    },
    {
      "cell_type": "markdown",
      "metadata": {
        "id": "MszpVGWxL_uZ"
      },
      "source": [
        "Temos 5901 clientes não-idosos e 1142 idosos, os quais representam ~16% dos clientes."
      ]
    },
    {
      "cell_type": "markdown",
      "metadata": {
        "id": "FAcBzbdiMraM"
      },
      "source": [
        "#Parceiro\n",
        "\n",
        "Se o cliente tem, ou não, parceiro (yes ou no). Variável categórica.\n",
        "\n",
        "Hipótese: ter parceiro influencia o churn. (explorado na análise multivariada)"
      ]
    },
    {
      "cell_type": "code",
      "execution_count": null,
      "metadata": {
        "id": "9XTIfFTjNXMh",
        "colab": {
          "base_uri": "https://localhost:8080/"
        },
        "outputId": "53fa29a0-c110-413f-c0cb-5c05a2bfd325"
      },
      "outputs": [
        {
          "output_type": "execute_result",
          "data": {
            "text/plain": [
              "0       Yes\n",
              "1        No\n",
              "2        No\n",
              "3        No\n",
              "4        No\n",
              "       ... \n",
              "7038    Yes\n",
              "7039    Yes\n",
              "7040    Yes\n",
              "7041    Yes\n",
              "7042     No\n",
              "Name: Partner, Length: 7043, dtype: object"
            ]
          },
          "metadata": {},
          "execution_count": 753
        }
      ],
      "source": [
        "df[\"Partner\"]"
      ]
    },
    {
      "cell_type": "code",
      "execution_count": null,
      "metadata": {
        "id": "xM0fWP8mNid5",
        "colab": {
          "base_uri": "https://localhost:8080/"
        },
        "outputId": "3b84560b-e910-425d-f726-fc58c5e88cf0"
      },
      "outputs": [
        {
          "output_type": "execute_result",
          "data": {
            "text/plain": [
              "count     7043\n",
              "unique       2\n",
              "top         No\n",
              "freq      3641\n",
              "Name: Partner, dtype: object"
            ]
          },
          "metadata": {},
          "execution_count": 754
        }
      ],
      "source": [
        "#Informações gerais\n",
        "df[\"Partner\"].describe()"
      ]
    },
    {
      "cell_type": "markdown",
      "metadata": {
        "id": "sH2omUM8-whO"
      },
      "source": [
        "Maior ocorrência de clientes solteiros."
      ]
    },
    {
      "cell_type": "code",
      "execution_count": null,
      "metadata": {
        "id": "3co3rKXuNu45"
      },
      "outputs": [],
      "source": [
        "#Contagem de clientes com parceiro\n",
        "cont_parceiros = df[\"Partner\"].value_counts()"
      ]
    },
    {
      "cell_type": "code",
      "execution_count": null,
      "metadata": {
        "id": "rQKMQWdnASjz",
        "colab": {
          "base_uri": "https://localhost:8080/",
          "height": 740
        },
        "outputId": "9367cbde-9e11-4465-a1b2-f9a5da1efec5"
      },
      "outputs": [
        {
          "output_type": "execute_result",
          "data": {
            "text/plain": [
              "Text(0, 0.5, 'frequência')"
            ]
          },
          "metadata": {},
          "execution_count": 756
        },
        {
          "output_type": "display_data",
          "data": {
            "text/plain": [
              "<Figure size 800x800 with 1 Axes>"
            ],
            "image/png": "[encoded data removed]"
          },
          "metadata": {}
        }
      ],
      "source": [
        "bar_altura = list(cont_parceiros)\n",
        "x_valores = list(cont_parceiros.index)\n",
        "\n",
        "#plot \n",
        "bar_larg = 0.5\n",
        "fig, ax = plt.subplots(figsize=[8,8])\n",
        "bar_plot = ax.bar(x_valores, bar_altura, bar_larg, color=['#0d5c75','#199fb1'])\n",
        "\n",
        "plt.bar_label(bar_plot)\n",
        "plt.ylim([0,4000])\n",
        "plt.title('Distribuição de clientes por estado civil')\n",
        "plt.xticks(np.arange(2), ['Solteiro', 'Com parceiro']) #mudando o rótulos dos valores xplt.xlabel('Estado civil')\n",
        "plt.xlabel('Estado civil')\n",
        "plt.ylabel('frequência')"
      ]
    },
    {
      "cell_type": "markdown",
      "metadata": {
        "id": "PFLxxSMjN5lr"
      },
      "source": [
        "A distribuição de clientes com parceiro é bem balanceada.\n"
      ]
    },
    {
      "cell_type": "markdown",
      "metadata": {
        "id": "ss_uqWcQ2cFW"
      },
      "source": [
        "Há uma predominância de clientes solteiros. Essa diferença deve ser levada em consideração para futuros insights."
      ]
    },
    {
      "cell_type": "markdown",
      "metadata": {
        "id": "Qu8WkVGY4kNL"
      },
      "source": [
        "#Dependents\n",
        "\n",
        "Se o cliente tem dependentes ou não (1 ou 0). Variável categórica.\n",
        "\n",
        "**Hipótese**: ter ou não dependentes influencia o churn. (explorado na análise bivariada)."
      ]
    },
    {
      "cell_type": "code",
      "execution_count": null,
      "metadata": {
        "id": "1He0M9n_5MDj",
        "colab": {
          "base_uri": "https://localhost:8080/"
        },
        "outputId": "83adaa45-ba9d-40d2-b717-1e66b5e28a78"
      },
      "outputs": [
        {
          "output_type": "execute_result",
          "data": {
            "text/plain": [
              "0        No\n",
              "1        No\n",
              "2        No\n",
              "3        No\n",
              "4        No\n",
              "       ... \n",
              "7038    Yes\n",
              "7039    Yes\n",
              "7040    Yes\n",
              "7041     No\n",
              "7042     No\n",
              "Name: Dependents, Length: 7043, dtype: object"
            ]
          },
          "metadata": {},
          "execution_count": 757
        }
      ],
      "source": [
        "df['Dependents']"
      ]
    },
    {
      "cell_type": "code",
      "execution_count": null,
      "metadata": {
        "id": "P59R4B9V5RfY",
        "colab": {
          "base_uri": "https://localhost:8080/"
        },
        "outputId": "bf07b19a-764a-475b-9015-d512bb49f578"
      },
      "outputs": [
        {
          "output_type": "execute_result",
          "data": {
            "text/plain": [
              "count     7043\n",
              "unique       2\n",
              "top         No\n",
              "freq      4933\n",
              "Name: Dependents, dtype: object"
            ]
          },
          "metadata": {},
          "execution_count": 758
        }
      ],
      "source": [
        "#estatísticas básicas\n",
        "df['Dependents'].describe()"
      ]
    },
    {
      "cell_type": "code",
      "execution_count": null,
      "metadata": {
        "id": "rwQbxpXrIuJQ",
        "colab": {
          "base_uri": "https://localhost:8080/"
        },
        "outputId": "45f52d0b-a6af-40c7-d2eb-965dc9ac89de"
      },
      "outputs": [
        {
          "output_type": "execute_result",
          "data": {
            "text/plain": [
              "No     4933\n",
              "Yes    2110\n",
              "Name: Dependents, dtype: int64"
            ]
          },
          "metadata": {},
          "execution_count": 759
        }
      ],
      "source": [
        "#contagem de clientes com dependentes\n",
        "cont_depend = df['Dependents'].value_counts()\n",
        "cont_depend"
      ]
    },
    {
      "cell_type": "code",
      "source": [
        "#plotando\n",
        "bar_altura_depend = list(cont_depend)\n",
        "x_valores_depend = list(cont_depend.index)\n",
        "\n",
        "#barras\n",
        "bar_larg = 0.5\n",
        "fig, ax = plt.subplots(figsize=[8,8])\n",
        "bar_plot_depend = ax.bar(x_valores_depend, bar_altura_depend, bar_larg, color=['#0d5c75','#199fb1'])\n",
        "\n",
        "plt.bar_label(bar_plot_depend)\n",
        "plt.ylim([0,6000])\n",
        "plt.title('Distribuição de clientes com dependentes')\n",
        "plt.xticks(np.arange(2), ['Sem dependentes', 'Com dependentes']) #mudando o rótulos dos valores x\n",
        "plt.ylabel('frequência')"
      ],
      "metadata": {
        "id": "Ye4PQBEDSO09",
        "colab": {
          "base_uri": "https://localhost:8080/",
          "height": 717
        },
        "outputId": "11340ffc-9a1e-41c0-9828-7c1665b7a120"
      },
      "execution_count": null,
      "outputs": [
        {
          "output_type": "execute_result",
          "data": {
            "text/plain": [
              "Text(0, 0.5, 'frequência')"
            ]
          },
          "metadata": {},
          "execution_count": 760
        },
        {
          "output_type": "display_data",
          "data": {
            "text/plain": [
              "<Figure size 800x800 with 1 Axes>"
            ],
            "image/png": "[encoded data removed]"
          },
          "metadata": {}
        }
      ]
    },
    {
      "cell_type": "markdown",
      "metadata": {
        "id": "0rX3OP9-JLPc"
      },
      "source": [
        "Há uma diferença considerável entre clientes com dependentes e sem."
      ]
    },
    {
      "cell_type": "markdown",
      "metadata": {
        "id": "DxVuGXg5f-fy"
      },
      "source": [
        "#Tenure\n",
        "\n",
        "Número de meses que o cliente permaneceu na companhia - variável discreta numérica. \n",
        "\n",
        "Obs: diretamente relacionada com a variável contract."
      ]
    },
    {
      "cell_type": "code",
      "execution_count": null,
      "metadata": {
        "id": "CtuWCXqTgb3X",
        "colab": {
          "base_uri": "https://localhost:8080/"
        },
        "outputId": "3fdc9190-6429-48ea-a422-5fc66ebe63cf"
      },
      "outputs": [
        {
          "output_type": "execute_result",
          "data": {
            "text/plain": [
              "0        1\n",
              "1       34\n",
              "2        2\n",
              "3       45\n",
              "4        2\n",
              "        ..\n",
              "7038    24\n",
              "7039    72\n",
              "7040    11\n",
              "7041     4\n",
              "7042    66\n",
              "Name: tenure, Length: 7043, dtype: int64"
            ]
          },
          "metadata": {},
          "execution_count": 761
        }
      ],
      "source": [
        "df['tenure']"
      ]
    },
    {
      "cell_type": "code",
      "execution_count": null,
      "metadata": {
        "id": "gucowe1Rgn4u",
        "colab": {
          "base_uri": "https://localhost:8080/"
        },
        "outputId": "d1a242e0-b845-4404-e23d-0ca0afcaa8ae"
      },
      "outputs": [
        {
          "output_type": "execute_result",
          "data": {
            "text/plain": [
              "count   7,043.00\n",
              "mean       32.37\n",
              "std        24.56\n",
              "min         0.00\n",
              "25%         9.00\n",
              "50%        29.00\n",
              "75%        55.00\n",
              "max        72.00\n",
              "Name: tenure, dtype: float64"
            ]
          },
          "metadata": {},
          "execution_count": 762
        }
      ],
      "source": [
        "#Estatística báscia da feature\n",
        "df['tenure'].describe()"
      ]
    },
    {
      "cell_type": "markdown",
      "metadata": {
        "id": "BZOluOr4xXSF"
      },
      "source": [
        "Clientes permanecem em média 32 meses no serviço. O que equivale a aproximadamente 2,6 anos."
      ]
    },
    {
      "cell_type": "code",
      "execution_count": null,
      "metadata": {
        "id": "fMzHpzTKhFOU",
        "colab": {
          "base_uri": "https://localhost:8080/",
          "height": 741
        },
        "outputId": "092f10d6-290f-4b8f-cc11-4907bfe216df"
      },
      "outputs": [
        {
          "output_type": "execute_result",
          "data": {
            "text/plain": [
              "Text(0.5, 0, 'Meses')"
            ]
          },
          "metadata": {},
          "execution_count": 763
        },
        {
          "output_type": "display_data",
          "data": {
            "text/plain": [
              "<Figure size 800x800 with 1 Axes>"
            ],
            "image/png": "[encoded data removed]"
          },
          "metadata": {}
        }
      ],
      "source": [
        "#Plotando\n",
        "plt.figure(figsize = [8,8])\n",
        "counts, edges, bars = plt.hist(df.tenure, edgecolor = 'white',\n",
        "                               color = ['#199fb1'])\n",
        "\n",
        "plt.bar_label(bars)\n",
        "\n",
        "plt.title('Distribuição por meses de permanência')\n",
        "plt.xlabel('Meses')"
      ]
    },
    {
      "cell_type": "code",
      "execution_count": null,
      "metadata": {
        "id": "VKSUBqPMjwFH",
        "colab": {
          "base_uri": "https://localhost:8080/"
        },
        "outputId": "fb21f974-f31f-4185-e5ce-0e6da4163c66"
      },
      "outputs": [
        {
          "output_type": "execute_result",
          "data": {
            "text/plain": [
              "613"
            ]
          },
          "metadata": {},
          "execution_count": 764
        }
      ],
      "source": [
        "#Quantos ocorrências de até 1 mês?\n",
        "df[\"tenure\"].loc[df[\"tenure\"] == 1].count()"
      ]
    },
    {
      "cell_type": "markdown",
      "metadata": {
        "id": "JAf9lQ9ElykQ"
      },
      "source": [
        "Ao menos 624 clientes ficaram apenas 1 mês ou menos na empresa."
      ]
    },
    {
      "cell_type": "code",
      "execution_count": null,
      "metadata": {
        "id": "tAHkNaFqlxpC",
        "colab": {
          "base_uri": "https://localhost:8080/"
        },
        "outputId": "4a931d93-1183-46ab-9850-5d95d9e6df25"
      },
      "outputs": [
        {
          "output_type": "execute_result",
          "data": {
            "text/plain": [
              "4974"
            ]
          },
          "metadata": {},
          "execution_count": 765
        }
      ],
      "source": [
        "#E mais de 1 ano?\n",
        "df[\"tenure\"].loc[df[\"tenure\"] >= 12].count()"
      ]
    },
    {
      "cell_type": "markdown",
      "metadata": {
        "id": "DbHMavKUmnZw"
      },
      "source": [
        "4974 clientes ficaram ao menos 1 ano no serviço. \n",
        "\n",
        "Aparentemente a contagem contínua dos meses de permanência pode não ser suficiente por si, uma vez que os clientes estão sujeitos a três tipos específicos de contratos, as duas features parecem ser melhor entendidas juntas."
      ]
    },
    {
      "cell_type": "code",
      "execution_count": null,
      "metadata": {
        "id": "6L7F2BkYuewr",
        "colab": {
          "base_uri": "https://localhost:8080/"
        },
        "outputId": "5da5dc88-9a9a-4891-f84d-1bbee06e49d5"
      },
      "outputs": [
        {
          "output_type": "execute_result",
          "data": {
            "text/plain": [
              "362"
            ]
          },
          "metadata": {},
          "execution_count": 766
        }
      ],
      "source": [
        "df[\"tenure\"].loc[df[\"tenure\"] == 72].count()"
      ]
    },
    {
      "cell_type": "markdown",
      "metadata": {
        "id": "vny1Q60H1zan"
      },
      "source": [
        "362 clientes permaneceram (até a data de coleta dos dados) 72 meses no serviço, o que equivale a 6 anos. São clientes já fidelizados."
      ]
    },
    {
      "cell_type": "markdown",
      "metadata": {
        "id": "DZkGstcS2VkQ"
      },
      "source": [
        "Pergunta: \n",
        "\n",
        "Qual a porcentagem de clientes com mais de 2 anos? "
      ]
    },
    {
      "cell_type": "code",
      "execution_count": null,
      "metadata": {
        "id": "JPZy2L1fmc3_",
        "colab": {
          "base_uri": "https://localhost:8080/"
        },
        "outputId": "6344c84e-33a6-4c7d-ff95-1212b9de571e"
      },
      "outputs": [
        {
          "output_type": "execute_result",
          "data": {
            "text/plain": [
              "3927"
            ]
          },
          "metadata": {},
          "execution_count": 767
        }
      ],
      "source": [
        "#porcentagem de clientes há mais de 2 anos com a empresa\n",
        "client_count_2anos = df[\"tenure\"].loc[df[\"tenure\"] >= 24].count()\n",
        "client_count_2anos"
      ]
    },
    {
      "cell_type": "code",
      "execution_count": null,
      "metadata": {
        "id": "wwtQVsFxr7tn",
        "colab": {
          "base_uri": "https://localhost:8080/"
        },
        "outputId": "dfeb1802-1ea9-477e-c561-bd39334eeaae"
      },
      "outputs": [
        {
          "output_type": "execute_result",
          "data": {
            "text/plain": [
              "55.75748970609116"
            ]
          },
          "metadata": {},
          "execution_count": 768
        }
      ],
      "source": [
        "porcent_client_2anos = (client_count_2anos/df[\"customerID\"].count())*100\n",
        "porcent_client_2anos"
      ]
    },
    {
      "cell_type": "markdown",
      "metadata": {
        "id": "Ri7rIIC8s85L"
      },
      "source": [
        "55.7% dos clientes no conjunto de dados permaneceram 2 anos ou mais na empresa. \n"
      ]
    },
    {
      "cell_type": "markdown",
      "metadata": {
        "id": "fM0_TSKRuLDN"
      },
      "source": [
        "#PhoneService\n",
        "\n",
        "Se o cliente tem serviço telefônico (Sim ou Não). Categórica."
      ]
    },
    {
      "cell_type": "code",
      "execution_count": null,
      "metadata": {
        "id": "zVByx8HysdUV",
        "colab": {
          "base_uri": "https://localhost:8080/"
        },
        "outputId": "ce1f24a2-73e5-4b38-a7e6-4c6c47058dcb"
      },
      "outputs": [
        {
          "output_type": "execute_result",
          "data": {
            "text/plain": [
              "0        No\n",
              "1       Yes\n",
              "2       Yes\n",
              "3        No\n",
              "4       Yes\n",
              "       ... \n",
              "7038    Yes\n",
              "7039    Yes\n",
              "7040     No\n",
              "7041    Yes\n",
              "7042    Yes\n",
              "Name: PhoneService, Length: 7043, dtype: object"
            ]
          },
          "metadata": {},
          "execution_count": 769
        }
      ],
      "source": [
        "df[\"PhoneService\"]"
      ]
    },
    {
      "cell_type": "code",
      "execution_count": null,
      "metadata": {
        "id": "PtkQAM2ivvDx",
        "colab": {
          "base_uri": "https://localhost:8080/"
        },
        "outputId": "088d411a-fe0f-4e99-a203-29f55ae82a90"
      },
      "outputs": [
        {
          "output_type": "execute_result",
          "data": {
            "text/plain": [
              "count     7043\n",
              "unique       2\n",
              "top        Yes\n",
              "freq      6361\n",
              "Name: PhoneService, dtype: object"
            ]
          },
          "metadata": {},
          "execution_count": 770
        }
      ],
      "source": [
        "#Estatística básica\n",
        "df[\"PhoneService\"].describe()"
      ]
    },
    {
      "cell_type": "markdown",
      "metadata": {
        "id": "PUAzsXhAwmCu"
      },
      "source": [
        "Uma parcela consideravelmente maior dos clientes têm serviço de telefonia."
      ]
    },
    {
      "cell_type": "code",
      "execution_count": null,
      "metadata": {
        "id": "lFN7ECxlwsg8"
      },
      "outputs": [],
      "source": [
        "#90% dos clientes têm serviço de telefonia\n",
        "PhoneService_count = df[\"PhoneService\"].value_counts()"
      ]
    },
    {
      "cell_type": "code",
      "source": [
        "#plot\n",
        "bar_alt_phoneservice = list(PhoneService_count)\n",
        "x_valores_phoneservice = list(PhoneService_count.index)\n",
        "\n",
        "#barras\n",
        "bar_larg = 0.5\n",
        "fig, ax = plt.subplots(figsize = [8,8])\n",
        "bar_plot = ax.bar(x_valores_phoneservice, bar_alt_phoneservice, color=['#0d5c75','#199fb1'])\n",
        "\n",
        "#rótulos\n",
        "plt.bar_label(bar_plot)\n",
        "plt.ylim(0,7000)\n",
        "plt.title(\"Clientes com serviço de telefonia\")\n",
        "plt.ylabel(\"Frequência\")\n",
        "plt.xticks(np.arange(2), ['Sim', 'Não'])"
      ],
      "metadata": {
        "id": "G40KuDc44K4T",
        "colab": {
          "base_uri": "https://localhost:8080/",
          "height": 752
        },
        "outputId": "886298ae-63b5-4958-f275-c41e13a46c99"
      },
      "execution_count": null,
      "outputs": [
        {
          "output_type": "execute_result",
          "data": {
            "text/plain": [
              "([<matplotlib.axis.XTick at 0x7f15a6c97f10>,\n",
              "  <matplotlib.axis.XTick at 0x7f15a6c97ee0>],\n",
              " [Text(0, 0, 'Sim'), Text(1, 0, 'Não')])"
            ]
          },
          "metadata": {},
          "execution_count": 772
        },
        {
          "output_type": "display_data",
          "data": {
            "text/plain": [
              "<Figure size 800x800 with 1 Axes>"
            ],
            "image/png": "[encoded data removed]"
          },
          "metadata": {}
        }
      ]
    },
    {
      "cell_type": "markdown",
      "metadata": {
        "id": "9yQEdx6c82zl"
      },
      "source": [
        "Como visto quase todos os clientes no conjunto de dados têm serviço de telefonia. Resultado já esperado."
      ]
    },
    {
      "cell_type": "markdown",
      "metadata": {
        "id": "g7jK0eAL9Eim"
      },
      "source": [
        "#MultipleLines\n",
        "\n",
        "Se o cliente tem multiplas linhas ou não (Não, sim ou Sem seviço de telefonia). Variável categórica."
      ]
    },
    {
      "cell_type": "code",
      "execution_count": null,
      "metadata": {
        "id": "WyhaCm7R9RTA",
        "colab": {
          "base_uri": "https://localhost:8080/"
        },
        "outputId": "ddf4a541-7822-4585-d891-fd5aba58adc0"
      },
      "outputs": [
        {
          "output_type": "execute_result",
          "data": {
            "text/plain": [
              "0       No phone service\n",
              "1                     No\n",
              "2                     No\n",
              "3       No phone service\n",
              "4                     No\n",
              "              ...       \n",
              "7038                 Yes\n",
              "7039                 Yes\n",
              "7040    No phone service\n",
              "7041                 Yes\n",
              "7042                  No\n",
              "Name: MultipleLines, Length: 7043, dtype: object"
            ]
          },
          "metadata": {},
          "execution_count": 773
        }
      ],
      "source": [
        "df[\"MultipleLines\"]"
      ]
    },
    {
      "cell_type": "code",
      "execution_count": null,
      "metadata": {
        "id": "5-B-DvsH9pj1",
        "colab": {
          "base_uri": "https://localhost:8080/"
        },
        "outputId": "c90ecbd6-eff7-4fd2-cf43-58a76fa419a4"
      },
      "outputs": [
        {
          "output_type": "execute_result",
          "data": {
            "text/plain": [
              "count     7043\n",
              "unique       3\n",
              "top         No\n",
              "freq      3390\n",
              "Name: MultipleLines, dtype: object"
            ]
          },
          "metadata": {},
          "execution_count": 774
        }
      ],
      "source": [
        "df[\"MultipleLines\"].describe()"
      ]
    },
    {
      "cell_type": "code",
      "execution_count": null,
      "metadata": {
        "id": "b3AnRRY3-RY_"
      },
      "outputs": [],
      "source": [
        "multiplelines_count = df[\"MultipleLines\"].value_counts()"
      ]
    },
    {
      "cell_type": "code",
      "source": [
        "#plot\n",
        "bar_alt_multiplelines = list(multiplelines_count)\n",
        "x_valores_multiplelines = list(multiplelines_count.index)\n",
        "\n",
        "#barras\n",
        "bar_larg = 0.5\n",
        "fig, ax = plt.subplots(figsize = [8,8])\n",
        "bar_plot = ax.bar(x_valores_multiplelines, bar_alt_multiplelines, \n",
        "                  bar_larg, color = ['#0d5c75', '#199fb1', '#a5d1e1'])\n",
        "\n",
        "#rótulos\n",
        "plt.bar_label(bar_plot)\n",
        "plt.title('Clientes com multiplas linhas')\n",
        "plt.ylim(0,4000)\n",
        "plt.ylabel('Frequência')\n",
        "plt.xticks(np.arange(3),['Não', 'Sim','Sem telefone']) #mudando rótulos dos Xs"
      ],
      "metadata": {
        "id": "W_bgCRC48oI3",
        "colab": {
          "base_uri": "https://localhost:8080/",
          "height": 769
        },
        "outputId": "9fa31cac-2002-44de-aefa-5c26340fa7cf"
      },
      "execution_count": null,
      "outputs": [
        {
          "output_type": "execute_result",
          "data": {
            "text/plain": [
              "([<matplotlib.axis.XTick at 0x7f15a6c1bdc0>,\n",
              "  <matplotlib.axis.XTick at 0x7f15a6c1bd90>,\n",
              "  <matplotlib.axis.XTick at 0x7f15a6c1b550>],\n",
              " [Text(0, 0, 'Não'), Text(1, 0, 'Sim'), Text(2, 0, 'Sem telefone')])"
            ]
          },
          "metadata": {},
          "execution_count": 776
        },
        {
          "output_type": "display_data",
          "data": {
            "text/plain": [
              "<Figure size 800x800 with 1 Axes>"
            ],
            "image/png": "[encoded data removed]"
          },
          "metadata": {}
        }
      ]
    },
    {
      "cell_type": "markdown",
      "metadata": {
        "id": "dfJJmTpjrSW6"
      },
      "source": [
        "#InternetService \n",
        "\n",
        "Provedor de internet do cliente (DSL, Fibra optica ou não). Variável categórica. "
      ]
    },
    {
      "cell_type": "code",
      "execution_count": null,
      "metadata": {
        "id": "WZOWCWKnrMUJ",
        "colab": {
          "base_uri": "https://localhost:8080/"
        },
        "outputId": "a0c9a6d0-5efd-4e12-e072-18190c72dc03"
      },
      "outputs": [
        {
          "output_type": "execute_result",
          "data": {
            "text/plain": [
              "0               DSL\n",
              "1               DSL\n",
              "2               DSL\n",
              "3               DSL\n",
              "4       Fiber optic\n",
              "           ...     \n",
              "7038            DSL\n",
              "7039    Fiber optic\n",
              "7040            DSL\n",
              "7041    Fiber optic\n",
              "7042    Fiber optic\n",
              "Name: InternetService, Length: 7043, dtype: object"
            ]
          },
          "metadata": {},
          "execution_count": 777
        }
      ],
      "source": [
        "df['InternetService']"
      ]
    },
    {
      "cell_type": "code",
      "execution_count": null,
      "metadata": {
        "id": "8pQJuDukGier",
        "colab": {
          "base_uri": "https://localhost:8080/"
        },
        "outputId": "c22e349e-206f-4814-a399-2b8d5261f2fd"
      },
      "outputs": [
        {
          "output_type": "execute_result",
          "data": {
            "text/plain": [
              "count            7043\n",
              "unique              3\n",
              "top       Fiber optic\n",
              "freq             3096\n",
              "Name: InternetService, dtype: object"
            ]
          },
          "metadata": {},
          "execution_count": 778
        }
      ],
      "source": [
        "df['InternetService'].describe()"
      ]
    },
    {
      "cell_type": "code",
      "execution_count": null,
      "metadata": {
        "id": "NkqP4iRDFY14",
        "colab": {
          "base_uri": "https://localhost:8080/"
        },
        "outputId": "88e158f3-6653-4ca4-9162-a5bc01b6f36e"
      },
      "outputs": [
        {
          "output_type": "execute_result",
          "data": {
            "text/plain": [
              "array(['DSL', 'Fiber optic', 'No'], dtype=object)"
            ]
          },
          "metadata": {},
          "execution_count": 779
        }
      ],
      "source": [
        "#valores únicos\n",
        "df['InternetService'].unique()"
      ]
    },
    {
      "cell_type": "code",
      "execution_count": null,
      "metadata": {
        "id": "AMeuw4fwFt13",
        "colab": {
          "base_uri": "https://localhost:8080/"
        },
        "outputId": "347399d9-a3fd-4838-cbf9-0daca8a959c4"
      },
      "outputs": [
        {
          "output_type": "execute_result",
          "data": {
            "text/plain": [
              "Fiber optic    3096\n",
              "DSL            2421\n",
              "No             1526\n",
              "Name: InternetService, dtype: int64"
            ]
          },
          "metadata": {},
          "execution_count": 780
        }
      ],
      "source": [
        "#Porcentagem\n",
        "df['InternetService'].value_counts()"
      ]
    },
    {
      "cell_type": "markdown",
      "metadata": {
        "id": "o13Zvub3F024"
      },
      "source": [
        "Maior parte dos clientes (3096, ou seja, 44%) tem serviço de internet por fibra óptica, consideravelmente maior que DSL."
      ]
    },
    {
      "cell_type": "code",
      "execution_count": null,
      "metadata": {
        "id": "Xqr0ZU8PG88Q"
      },
      "outputs": [],
      "source": [
        "#contagem\n",
        "count_inter_service = df['InternetService'].value_counts()"
      ]
    },
    {
      "cell_type": "code",
      "source": [
        "#plot\n",
        "bar_alt_inter_service = list(count_inter_service)\n",
        "x_valores_inter_service = list(count_inter_service.index)\n",
        "\n",
        "#barras\n",
        "bar_larg = 0.5\n",
        "fig, ax = plt.subplots(figsize=[8,8])\n",
        "bar_plot = ax.bar(x_valores_inter_service, bar_alt_inter_service,\n",
        "                  bar_larg, color = ['#0d5c75', '#199fb1', '#a5d1e1'])\n",
        "\n",
        "#rótulos\n",
        "plt.bar_label(bar_plot)\n",
        "plt.ylim(0,3500)\n",
        "plt.title('Provedor de internet do cliente')\n",
        "plt.ylabel('Frequência')\n",
        "plt.xticks(np.arange(3), ['Fibra óptica', 'DSL', 'Não'])"
      ],
      "metadata": {
        "id": "trc5mBF5Crf7",
        "colab": {
          "base_uri": "https://localhost:8080/",
          "height": 769
        },
        "outputId": "dcfc6722-e32b-4824-801f-ec90ae15a89c"
      },
      "execution_count": null,
      "outputs": [
        {
          "output_type": "execute_result",
          "data": {
            "text/plain": [
              "([<matplotlib.axis.XTick at 0x7f15a6b98280>,\n",
              "  <matplotlib.axis.XTick at 0x7f15a6b98250>,\n",
              "  <matplotlib.axis.XTick at 0x7f15a6bb9f10>],\n",
              " [Text(0, 0, 'Fibra óptica'), Text(1, 0, 'DSL'), Text(2, 0, 'Não')])"
            ]
          },
          "metadata": {},
          "execution_count": 782
        },
        {
          "output_type": "display_data",
          "data": {
            "text/plain": [
              "<Figure size 800x800 with 1 Axes>"
            ],
            "image/png": "[encoded data removed]"
          },
          "metadata": {}
        }
      ]
    },
    {
      "cell_type": "markdown",
      "metadata": {
        "id": "gIzUynkBO5s6"
      },
      "source": [
        "#OnlineSecurity\n",
        "\n",
        "Se o cliente tem segurança online ou não (Sim, Não, Sem serviço de internet). Variável categórica."
      ]
    },
    {
      "cell_type": "code",
      "execution_count": null,
      "metadata": {
        "id": "qQFgZ60NPggx",
        "colab": {
          "base_uri": "https://localhost:8080/"
        },
        "outputId": "8e9a9314-3767-4f1e-ee74-fca4aecd08c7"
      },
      "outputs": [
        {
          "output_type": "execute_result",
          "data": {
            "text/plain": [
              "0        No\n",
              "1       Yes\n",
              "2       Yes\n",
              "3       Yes\n",
              "4        No\n",
              "       ... \n",
              "7038    Yes\n",
              "7039     No\n",
              "7040    Yes\n",
              "7041     No\n",
              "7042    Yes\n",
              "Name: OnlineSecurity, Length: 7043, dtype: object"
            ]
          },
          "metadata": {},
          "execution_count": 783
        }
      ],
      "source": [
        "df[\"OnlineSecurity\"]"
      ]
    },
    {
      "cell_type": "code",
      "execution_count": null,
      "metadata": {
        "id": "6GWQ28KwPk6G",
        "colab": {
          "base_uri": "https://localhost:8080/"
        },
        "outputId": "d2eacfe5-f2d3-44ee-9f8e-20d647b036c9"
      },
      "outputs": [
        {
          "output_type": "execute_result",
          "data": {
            "text/plain": [
              "count     7043\n",
              "unique       3\n",
              "top         No\n",
              "freq      3498\n",
              "Name: OnlineSecurity, dtype: object"
            ]
          },
          "metadata": {},
          "execution_count": 784
        }
      ],
      "source": [
        "df[\"OnlineSecurity\"].describe()"
      ]
    },
    {
      "cell_type": "code",
      "source": [
        "#elementos únicos na feature\n",
        "df[\"OnlineSecurity\"].unique()"
      ],
      "metadata": {
        "id": "IGZEUAAOUgtq",
        "colab": {
          "base_uri": "https://localhost:8080/"
        },
        "outputId": "cdd100c6-b51b-4a64-b02a-4c86185abea3"
      },
      "execution_count": null,
      "outputs": [
        {
          "output_type": "execute_result",
          "data": {
            "text/plain": [
              "array(['No', 'Yes', 'No internet service'], dtype=object)"
            ]
          },
          "metadata": {},
          "execution_count": 785
        }
      ]
    },
    {
      "cell_type": "markdown",
      "metadata": {
        "id": "evVpDRbKPs_K"
      },
      "source": [
        "Maioria dos clientes não tem serviço de segurança online."
      ]
    },
    {
      "cell_type": "code",
      "execution_count": null,
      "metadata": {
        "id": "D1inX_qcP0qN",
        "colab": {
          "base_uri": "https://localhost:8080/"
        },
        "outputId": "731054bc-481e-48d4-d396-ffb064289a31"
      },
      "outputs": [
        {
          "output_type": "execute_result",
          "data": {
            "text/plain": [
              "No                     3498\n",
              "Yes                    2019\n",
              "No internet service    1526\n",
              "Name: OnlineSecurity, dtype: int64"
            ]
          },
          "metadata": {},
          "execution_count": 786
        }
      ],
      "source": [
        "count_onlinesec = df[\"OnlineSecurity\"].value_counts()\n",
        "count_onlinesec"
      ]
    },
    {
      "cell_type": "code",
      "source": [
        "#plot\n",
        "bar_alt_onlinesec = list(count_onlinesec)\n",
        "x_valores_onlinesec = list(count_onlinesec.index)\n",
        "\n",
        "#barras \n",
        "bar_larg = 0.5\n",
        "fig, ax = plt.subplots(figsize = [8,8])\n",
        "bar_plot = ax.bar(x_valores_onlinesec, bar_alt_onlinesec,\n",
        "                  bar_larg, color = ['#0d5c75', '#199fb1', '#a5d1e1'])\n",
        "\n",
        "#rótulos\n",
        "plt.bar_label(bar_plot)\n",
        "plt.ylim(0,4000)\n",
        "plt.title(\"Clientes com serviço de segurança online\")\n",
        "plt.ylabel(\"Frequência\")\n",
        "plt.xticks(np.arange(3), [\"Não\",\"Sim\", \"Sem internet\"])\n",
        "                  "
      ],
      "metadata": {
        "id": "UwFJpAh1TxDn",
        "colab": {
          "base_uri": "https://localhost:8080/",
          "height": 769
        },
        "outputId": "3c605e15-ca60-4f3f-dad1-800ad32551c4"
      },
      "execution_count": null,
      "outputs": [
        {
          "output_type": "execute_result",
          "data": {
            "text/plain": [
              "([<matplotlib.axis.XTick at 0x7f15a6b0b640>,\n",
              "  <matplotlib.axis.XTick at 0x7f15a6b0b610>,\n",
              "  <matplotlib.axis.XTick at 0x7f15a6b7efa0>],\n",
              " [Text(0, 0, 'Não'), Text(1, 0, 'Sim'), Text(2, 0, 'Sem internet')])"
            ]
          },
          "metadata": {},
          "execution_count": 787
        },
        {
          "output_type": "display_data",
          "data": {
            "text/plain": [
              "<Figure size 800x800 with 1 Axes>"
            ],
            "image/png": "[encoded data removed]"
          },
          "metadata": {}
        }
      ]
    },
    {
      "cell_type": "markdown",
      "metadata": {
        "id": "yeLnLHO6TS_L"
      },
      "source": [
        "Serviço de segurança online não é algo popular entre os clientes. "
      ]
    },
    {
      "cell_type": "markdown",
      "metadata": {
        "id": "qAP41YhATtWr"
      },
      "source": [
        "#OnlineBackup\n",
        "\n",
        " OnlineBackup - Se o cliente tem backup online ou não (Sim, Não, Sem serviço de internet)."
      ]
    },
    {
      "cell_type": "code",
      "execution_count": null,
      "metadata": {
        "id": "JKSztUkHTsdL",
        "colab": {
          "base_uri": "https://localhost:8080/"
        },
        "outputId": "51750553-9804-4062-c7cd-460bbe2c6119"
      },
      "outputs": [
        {
          "output_type": "execute_result",
          "data": {
            "text/plain": [
              "0       Yes\n",
              "1        No\n",
              "2       Yes\n",
              "3        No\n",
              "4        No\n",
              "       ... \n",
              "7038     No\n",
              "7039    Yes\n",
              "7040     No\n",
              "7041     No\n",
              "7042     No\n",
              "Name: OnlineBackup, Length: 7043, dtype: object"
            ]
          },
          "metadata": {},
          "execution_count": 788
        }
      ],
      "source": [
        "df[\"OnlineBackup\"]"
      ]
    },
    {
      "cell_type": "code",
      "execution_count": null,
      "metadata": {
        "id": "W53E3CZqUNE_",
        "colab": {
          "base_uri": "https://localhost:8080/"
        },
        "outputId": "a24cf4cb-6563-4494-9136-fc2f9591ef3d"
      },
      "outputs": [
        {
          "output_type": "execute_result",
          "data": {
            "text/plain": [
              "count     7043\n",
              "unique       3\n",
              "top         No\n",
              "freq      3088\n",
              "Name: OnlineBackup, dtype: object"
            ]
          },
          "metadata": {},
          "execution_count": 789
        }
      ],
      "source": [
        "df[\"OnlineBackup\"].describe()"
      ]
    },
    {
      "cell_type": "markdown",
      "metadata": {
        "id": "u9X7QdRjamaf"
      },
      "source": [
        "Resultados bastante parecidos com o caso de segurança online, aparentemente também não é um serviço popular entre clientes."
      ]
    },
    {
      "cell_type": "code",
      "execution_count": null,
      "metadata": {
        "id": "vY5r1fC2aluz",
        "colab": {
          "base_uri": "https://localhost:8080/"
        },
        "outputId": "4b19fff4-8dac-4e83-e39a-7fcea5edf216"
      },
      "outputs": [
        {
          "output_type": "execute_result",
          "data": {
            "text/plain": [
              "array(['Yes', 'No', 'No internet service'], dtype=object)"
            ]
          },
          "metadata": {},
          "execution_count": 790
        }
      ],
      "source": [
        "df[\"OnlineBackup\"].unique()"
      ]
    },
    {
      "cell_type": "code",
      "execution_count": null,
      "metadata": {
        "id": "nvmrlYh3a2OI",
        "colab": {
          "base_uri": "https://localhost:8080/"
        },
        "outputId": "05852073-f286-4bba-d9ea-b19c1872f5a6"
      },
      "outputs": [
        {
          "output_type": "execute_result",
          "data": {
            "text/plain": [
              "No                     3088\n",
              "Yes                    2429\n",
              "No internet service    1526\n",
              "Name: OnlineBackup, dtype: int64"
            ]
          },
          "metadata": {},
          "execution_count": 791
        }
      ],
      "source": [
        "count_backup = df[\"OnlineBackup\"].value_counts()\n",
        "count_backup "
      ]
    },
    {
      "cell_type": "code",
      "execution_count": null,
      "metadata": {
        "id": "0VG2yl7nbB_y",
        "colab": {
          "base_uri": "https://localhost:8080/",
          "height": 769
        },
        "outputId": "675177a6-97e2-40b4-b94c-83473e8dff8b"
      },
      "outputs": [
        {
          "output_type": "execute_result",
          "data": {
            "text/plain": [
              "([<matplotlib.axis.XTick at 0x7f15a6afec10>,\n",
              "  <matplotlib.axis.XTick at 0x7f15a6afebe0>,\n",
              "  <matplotlib.axis.XTick at 0x7f15a6afe3a0>],\n",
              " [Text(0, 0, 'Não'), Text(1, 0, 'Sim'), Text(2, 0, 'Sem internet')])"
            ]
          },
          "metadata": {},
          "execution_count": 792
        },
        {
          "output_type": "display_data",
          "data": {
            "text/plain": [
              "<Figure size 800x800 with 1 Axes>"
            ],
            "image/png": "[encoded data removed]"
          },
          "metadata": {}
        }
      ],
      "source": [
        "#plot\n",
        "bar_alt_backup = list(count_backup)\n",
        "x_valores_backup = list(count_backup.index)\n",
        "\n",
        "#barras \n",
        "bar_larg = 0.5\n",
        "fig, ax = plt.subplots(figsize = [8,8])\n",
        "bar_plot = ax.bar(x_valores_backup, bar_alt_backup,\n",
        "                  bar_larg, color = ['#0d5c75', '#199fb1', '#a5d1e1'])\n",
        "\n",
        "#rótulos\n",
        "plt.bar_label(bar_plot)\n",
        "plt.ylim(0,3500)\n",
        "plt.title(\"Clientes com backup online\")\n",
        "plt.ylabel(\"Frequência\")\n",
        "plt.xticks(np.arange(3), [\"Não\",\"Sim\", \"Sem internet\"])"
      ]
    },
    {
      "cell_type": "markdown",
      "metadata": {
        "id": "r42Q73AfdQeD"
      },
      "source": [
        "Apesar de ainda uma maioria não ter serviço de backup, é ele mais popular entre os clientes que o serviço de segurança online. "
      ]
    },
    {
      "cell_type": "markdown",
      "metadata": {
        "id": "l4uYVlv3icjt"
      },
      "source": [
        "#DeviceProtection\n",
        "\n",
        "DeviceProtection - Se o cliente tem proteção do dispositivo ou não (Sim, Não, Sem serviço de internet). Variável categórica."
      ]
    },
    {
      "cell_type": "code",
      "execution_count": null,
      "metadata": {
        "id": "qfQ3Bp5pibXl",
        "colab": {
          "base_uri": "https://localhost:8080/"
        },
        "outputId": "b5a8b3e0-70b9-4f46-df06-d07d011d1a71"
      },
      "outputs": [
        {
          "output_type": "execute_result",
          "data": {
            "text/plain": [
              "0        No\n",
              "1       Yes\n",
              "2        No\n",
              "3       Yes\n",
              "4        No\n",
              "       ... \n",
              "7038    Yes\n",
              "7039    Yes\n",
              "7040     No\n",
              "7041     No\n",
              "7042    Yes\n",
              "Name: DeviceProtection, Length: 7043, dtype: object"
            ]
          },
          "metadata": {},
          "execution_count": 793
        }
      ],
      "source": [
        "df[\"DeviceProtection\"]"
      ]
    },
    {
      "cell_type": "code",
      "execution_count": null,
      "metadata": {
        "id": "A3QS504LjLFR",
        "colab": {
          "base_uri": "https://localhost:8080/"
        },
        "outputId": "f210ca5a-9225-4c3a-cc6b-73d629c6737c"
      },
      "outputs": [
        {
          "output_type": "execute_result",
          "data": {
            "text/plain": [
              "array(['No', 'Yes', 'No internet service'], dtype=object)"
            ]
          },
          "metadata": {},
          "execution_count": 794
        }
      ],
      "source": [
        "df[\"DeviceProtection\"].unique()"
      ]
    },
    {
      "cell_type": "markdown",
      "metadata": {
        "id": "WnSSFxbmjXrz"
      },
      "source": [
        "Mais uma feature com 'no internet service', provavelmente todas as features relativas a segurança do cliente terão."
      ]
    },
    {
      "cell_type": "code",
      "execution_count": null,
      "metadata": {
        "id": "waClDiwUjW02",
        "colab": {
          "base_uri": "https://localhost:8080/"
        },
        "outputId": "8499569c-6164-47e5-8cd2-0cc42ffff2a7"
      },
      "outputs": [
        {
          "output_type": "execute_result",
          "data": {
            "text/plain": [
              "count     7043\n",
              "unique       3\n",
              "top         No\n",
              "freq      3095\n",
              "Name: DeviceProtection, dtype: object"
            ]
          },
          "metadata": {},
          "execution_count": 795
        }
      ],
      "source": [
        "df[\"DeviceProtection\"].describe()"
      ]
    },
    {
      "cell_type": "code",
      "execution_count": null,
      "metadata": {
        "id": "vnv0BTTnj3tC",
        "colab": {
          "base_uri": "https://localhost:8080/"
        },
        "outputId": "a342738b-0f55-46e0-f607-0e469fcbc547"
      },
      "outputs": [
        {
          "output_type": "execute_result",
          "data": {
            "text/plain": [
              "No                     3095\n",
              "Yes                    2422\n",
              "No internet service    1526\n",
              "Name: DeviceProtection, dtype: int64"
            ]
          },
          "metadata": {},
          "execution_count": 796
        }
      ],
      "source": [
        "#porcentagem\n",
        "count_dev_protec = df[\"DeviceProtection\"].value_counts()\n",
        "count_dev_protec"
      ]
    },
    {
      "cell_type": "code",
      "execution_count": null,
      "metadata": {
        "id": "jTyPaD64kN-4",
        "colab": {
          "base_uri": "https://localhost:8080/",
          "height": 769
        },
        "outputId": "f819dcd1-8e1c-4b09-a364-0c84fc4feb44"
      },
      "outputs": [
        {
          "output_type": "execute_result",
          "data": {
            "text/plain": [
              "([<matplotlib.axis.XTick at 0x7f15a6a6bd30>,\n",
              "  <matplotlib.axis.XTick at 0x7f15a6a6bfd0>,\n",
              "  <matplotlib.axis.XTick at 0x7f15a6a6baf0>],\n",
              " [Text(0, 0, 'Não'), Text(1, 0, 'Sim'), Text(2, 0, 'Sem internet')])"
            ]
          },
          "metadata": {},
          "execution_count": 797
        },
        {
          "output_type": "display_data",
          "data": {
            "text/plain": [
              "<Figure size 800x800 with 1 Axes>"
            ],
            "image/png": "[encoded data removed]"
          },
          "metadata": {}
        }
      ],
      "source": [
        "#plot\n",
        "bar_alt_dev_protec = list(count_dev_protec)\n",
        "x_valores_dev_protec = list(count_dev_protec.index)\n",
        "\n",
        "#barras \n",
        "bar_larg = 0.5\n",
        "fig, ax = plt.subplots(figsize = [8,8])\n",
        "bar_plot = ax.bar(x_valores_dev_protec, bar_alt_dev_protec,\n",
        "                  bar_larg, color = ['#0d5c75', '#199fb1', '#a5d1e1'])\n",
        "\n",
        "#rótulos\n",
        "plt.bar_label(bar_plot)\n",
        "plt.ylim(0,3500)\n",
        "plt.title(\"Clientes com proteção de dispositivo\")\n",
        "plt.ylabel(\"Frequência\")\n",
        "plt.xticks(np.arange(3), [\"Não\",\"Sim\", \"Sem internet\"])"
      ]
    },
    {
      "cell_type": "markdown",
      "metadata": {
        "id": "Y-McD9aCq2Kq"
      },
      "source": [
        "#TechSupport\n",
        "\n",
        "Se o cliente tem suporte técnico ou não (Sim, Não, Sem serviço de internet). Variável categórica."
      ]
    },
    {
      "cell_type": "code",
      "execution_count": null,
      "metadata": {
        "id": "3LWwNCnosV1H",
        "colab": {
          "base_uri": "https://localhost:8080/"
        },
        "outputId": "3d2ccc55-130e-4abd-9485-34a6ea645032"
      },
      "outputs": [
        {
          "output_type": "execute_result",
          "data": {
            "text/plain": [
              "0        No\n",
              "1        No\n",
              "2        No\n",
              "3       Yes\n",
              "4        No\n",
              "       ... \n",
              "7038    Yes\n",
              "7039     No\n",
              "7040     No\n",
              "7041     No\n",
              "7042    Yes\n",
              "Name: TechSupport, Length: 7043, dtype: object"
            ]
          },
          "metadata": {},
          "execution_count": 798
        }
      ],
      "source": [
        "df[\"TechSupport\"]"
      ]
    },
    {
      "cell_type": "code",
      "execution_count": null,
      "metadata": {
        "id": "_x5Ki836sZy8",
        "colab": {
          "base_uri": "https://localhost:8080/"
        },
        "outputId": "cc4eacbf-1915-4bca-c367-c1f87efc6ae4"
      },
      "outputs": [
        {
          "output_type": "execute_result",
          "data": {
            "text/plain": [
              "array(['No', 'Yes', 'No internet service'], dtype=object)"
            ]
          },
          "metadata": {},
          "execution_count": 799
        }
      ],
      "source": [
        "#valores únicos\n",
        "df[\"TechSupport\"].unique()"
      ]
    },
    {
      "cell_type": "code",
      "execution_count": null,
      "metadata": {
        "id": "JJ0fNSe6sj8k",
        "colab": {
          "base_uri": "https://localhost:8080/"
        },
        "outputId": "f5c1cbf2-781a-4780-e4ad-bcf009757bbe"
      },
      "outputs": [
        {
          "output_type": "execute_result",
          "data": {
            "text/plain": [
              "count     7043\n",
              "unique       3\n",
              "top         No\n",
              "freq      3473\n",
              "Name: TechSupport, dtype: object"
            ]
          },
          "metadata": {},
          "execution_count": 800
        }
      ],
      "source": [
        "#estatística geral\n",
        "df[\"TechSupport\"].describe()"
      ]
    },
    {
      "cell_type": "markdown",
      "metadata": {
        "id": "Ik7z5TIMssIz"
      },
      "source": [
        "A maioria dos clientes não assina suporte técnico. Aparentemente é uma tendência no que diz respeito a serviços de segurança."
      ]
    },
    {
      "cell_type": "code",
      "execution_count": null,
      "metadata": {
        "id": "COlSmh3otzT5",
        "colab": {
          "base_uri": "https://localhost:8080/"
        },
        "outputId": "8463572a-88c1-4fff-aca0-45e585ad8de5"
      },
      "outputs": [
        {
          "output_type": "execute_result",
          "data": {
            "text/plain": [
              "No                     3473\n",
              "Yes                    2044\n",
              "No internet service    1526\n",
              "Name: TechSupport, dtype: int64"
            ]
          },
          "metadata": {},
          "execution_count": 801
        }
      ],
      "source": [
        "#contagem\n",
        "count_Tech_Sup = df[\"TechSupport\"].value_counts()\n",
        "count_Tech_Sup"
      ]
    },
    {
      "cell_type": "code",
      "execution_count": null,
      "metadata": {
        "id": "38pjJAi_uQTZ",
        "colab": {
          "base_uri": "https://localhost:8080/",
          "height": 770
        },
        "outputId": "3a271f79-ca7b-453b-8c71-0f38a4d8bf21"
      },
      "outputs": [
        {
          "output_type": "execute_result",
          "data": {
            "text/plain": [
              "([<matplotlib.axis.XTick at 0x7f15a69e7df0>,\n",
              "  <matplotlib.axis.XTick at 0x7f15a69e7dc0>,\n",
              "  <matplotlib.axis.XTick at 0x7f15a69e7580>],\n",
              " [Text(0, 0, 'Não'), Text(1, 0, 'Sim'), Text(2, 0, 'Sem internet')])"
            ]
          },
          "metadata": {},
          "execution_count": 802
        },
        {
          "output_type": "display_data",
          "data": {
            "text/plain": [
              "<Figure size 800x800 with 1 Axes>"
            ],
            "image/png": "[encoded data removed]"
          },
          "metadata": {}
        }
      ],
      "source": [
        "#plot\n",
        "bar_alt_Tech_Sup = list(count_Tech_Sup)\n",
        "x_valores_Tech_Sup = list(count_Tech_Sup.index)\n",
        "\n",
        "#barras \n",
        "bar_larg = 0.5\n",
        "fig, ax = plt.subplots(figsize = [8,8])\n",
        "bar_plot = ax.bar(x_valores_Tech_Sup, bar_alt_Tech_Sup,\n",
        "                  bar_larg, color = ['#0d5c75', '#199fb1', '#a5d1e1'])\n",
        "\n",
        "#rótulos\n",
        "plt.bar_label(bar_plot)\n",
        "plt.ylim(0,3800)\n",
        "plt.title(\"Clientes com suporte técnico\")\n",
        "plt.ylabel(\"Frequência\")\n",
        "plt.xticks(np.arange(3), [\"Não\",\"Sim\", \"Sem internet\"])"
      ]
    },
    {
      "cell_type": "markdown",
      "metadata": {
        "id": "98VZiOb1d7TM"
      },
      "source": [
        "Os serviços de segurança são bastante presentes entre os clientes, mas em todos os casos (tipos de serviços de segurança) a norma é não tê-los. Talvez oferecer algum tipo de serviço de segurança em conjunto seja uma estratégia interessante. A análise bivariada poderá produzir melhores insights."
      ]
    },
    {
      "cell_type": "markdown",
      "metadata": {
        "id": "UEuS6972xqUx"
      },
      "source": [
        "##StreamingTV\n",
        "\n",
        " Se o cliente tem steaming de TV ou não (Yes, No, No internet service). Variável categórica."
      ]
    },
    {
      "cell_type": "code",
      "execution_count": null,
      "metadata": {
        "id": "meNcHD1nx8Qe",
        "colab": {
          "base_uri": "https://localhost:8080/"
        },
        "outputId": "c24910f5-1754-466b-d2f8-5ded422fb32f"
      },
      "outputs": [
        {
          "output_type": "execute_result",
          "data": {
            "text/plain": [
              "0        No\n",
              "1        No\n",
              "2        No\n",
              "3        No\n",
              "4        No\n",
              "       ... \n",
              "7038    Yes\n",
              "7039    Yes\n",
              "7040     No\n",
              "7041     No\n",
              "7042    Yes\n",
              "Name: StreamingTV, Length: 7043, dtype: object"
            ]
          },
          "metadata": {},
          "execution_count": 803
        }
      ],
      "source": [
        "df[\"StreamingTV\"]"
      ]
    },
    {
      "cell_type": "code",
      "execution_count": null,
      "metadata": {
        "id": "-gsTYwFdyBvh",
        "colab": {
          "base_uri": "https://localhost:8080/"
        },
        "outputId": "8c728218-7823-4d8c-aea8-bcf1004fa29c"
      },
      "outputs": [
        {
          "output_type": "execute_result",
          "data": {
            "text/plain": [
              "array(['No', 'Yes', 'No internet service'], dtype=object)"
            ]
          },
          "metadata": {},
          "execution_count": 804
        }
      ],
      "source": [
        "#valores únicos\n",
        "df[\"StreamingTV\"].unique()"
      ]
    },
    {
      "cell_type": "code",
      "execution_count": null,
      "metadata": {
        "id": "99wMskLQyGz7",
        "colab": {
          "base_uri": "https://localhost:8080/"
        },
        "outputId": "c7ddea8d-fd1c-4687-cab9-917d8900148e"
      },
      "outputs": [
        {
          "output_type": "execute_result",
          "data": {
            "text/plain": [
              "No                     2810\n",
              "Yes                    2707\n",
              "No internet service    1526\n",
              "Name: StreamingTV, dtype: int64"
            ]
          },
          "metadata": {},
          "execution_count": 805
        }
      ],
      "source": [
        "#porcentagem\n",
        "count_streaming = df[\"StreamingTV\"].value_counts()\n",
        "count_streaming"
      ]
    },
    {
      "cell_type": "code",
      "execution_count": null,
      "metadata": {
        "id": "fBOQaKBZUkPN",
        "colab": {
          "base_uri": "https://localhost:8080/",
          "height": 769
        },
        "outputId": "d988b333-e27a-48de-a4ac-4cedc7cd4413"
      },
      "outputs": [
        {
          "output_type": "execute_result",
          "data": {
            "text/plain": [
              "([<matplotlib.axis.XTick at 0x7f15a69611c0>,\n",
              "  <matplotlib.axis.XTick at 0x7f15a6961190>,\n",
              "  <matplotlib.axis.XTick at 0x7f15a6961310>],\n",
              " [Text(0, 0, 'Não'), Text(1, 0, 'Sim'), Text(2, 0, 'Sem serviço de internet')])"
            ]
          },
          "metadata": {},
          "execution_count": 806
        },
        {
          "output_type": "display_data",
          "data": {
            "text/plain": [
              "<Figure size 800x800 with 1 Axes>"
            ],
            "image/png": "[encoded data removed]"
          },
          "metadata": {}
        }
      ],
      "source": [
        "#Plot\n",
        "bar_alt_streaming = list(count_streaming)\n",
        "x_valores_streaming = list(count_streaming.index)\n",
        "\n",
        "#Barras\n",
        "bar_larg = 0.5\n",
        "fig, ax = plt.subplots(figsize = [8,8])\n",
        "bar_plot = ax.bar(x_valores_streaming, bar_alt_streaming,\n",
        "                  bar_larg, color = ['#0d5c75', '#199fb1', '#a5d1e1'] )\n",
        "\n",
        "#rótulos\n",
        "plt.title(\"Clientes com streaming de TV\")\n",
        "plt.ylim(0, 3500)\n",
        "plt.ylabel(\"Frequência\")\n",
        "plt.bar_label(bar_plot)\n",
        "plt.xticks(np.arange(3), [\"Não\",\"Sim\", \"Sem serviço de internet\"])"
      ]
    },
    {
      "cell_type": "markdown",
      "metadata": {
        "id": "4aHM39OSWsbv"
      },
      "source": [
        "Streaming de tv é um serviço popular dentre os clientes. "
      ]
    },
    {
      "cell_type": "markdown",
      "metadata": {
        "id": "ykok5HyiXLJc"
      },
      "source": [
        "##Streaming Movies\n",
        "\n",
        "Se o cliente tem streaming de filmes ou não (Sim, Não, Sem serviço de internet).Variável categórica."
      ]
    },
    {
      "cell_type": "code",
      "execution_count": null,
      "metadata": {
        "id": "a13I8g2iW0Z8",
        "colab": {
          "base_uri": "https://localhost:8080/"
        },
        "outputId": "057e8813-753d-4e3e-a151-c78d917666e7"
      },
      "outputs": [
        {
          "output_type": "execute_result",
          "data": {
            "text/plain": [
              "0        No\n",
              "1        No\n",
              "2        No\n",
              "3        No\n",
              "4        No\n",
              "       ... \n",
              "7038    Yes\n",
              "7039    Yes\n",
              "7040     No\n",
              "7041     No\n",
              "7042    Yes\n",
              "Name: StreamingMovies, Length: 7043, dtype: object"
            ]
          },
          "metadata": {},
          "execution_count": 807
        }
      ],
      "source": [
        "df[\"StreamingMovies\"]"
      ]
    },
    {
      "cell_type": "code",
      "execution_count": null,
      "metadata": {
        "id": "cBLqbS1tXjTj",
        "colab": {
          "base_uri": "https://localhost:8080/"
        },
        "outputId": "ccf1b1f4-7e50-4b9f-fe50-6247fd43264f"
      },
      "outputs": [
        {
          "output_type": "execute_result",
          "data": {
            "text/plain": [
              "count     7043\n",
              "unique       3\n",
              "top         No\n",
              "freq      2785\n",
              "Name: StreamingMovies, dtype: object"
            ]
          },
          "metadata": {},
          "execution_count": 808
        }
      ],
      "source": [
        "#info estatísticas gerais\n",
        "df[\"StreamingMovies\"].describe()"
      ]
    },
    {
      "cell_type": "code",
      "execution_count": null,
      "metadata": {
        "id": "gsH0lo9ZXyVd",
        "colab": {
          "base_uri": "https://localhost:8080/"
        },
        "outputId": "fcd8d08d-ba6d-4524-fa20-0c81df8be775"
      },
      "outputs": [
        {
          "output_type": "execute_result",
          "data": {
            "text/plain": [
              "array(['No', 'Yes', 'No internet service'], dtype=object)"
            ]
          },
          "metadata": {},
          "execution_count": 809
        }
      ],
      "source": [
        "df[\"StreamingMovies\"].unique()"
      ]
    },
    {
      "cell_type": "code",
      "execution_count": null,
      "metadata": {
        "id": "nVkm94EMYul4",
        "colab": {
          "base_uri": "https://localhost:8080/"
        },
        "outputId": "7f1410da-ac7c-4021-a6d9-030b8aa0bdd5"
      },
      "outputs": [
        {
          "output_type": "execute_result",
          "data": {
            "text/plain": [
              "No                     2785\n",
              "Yes                    2732\n",
              "No internet service    1526\n",
              "Name: StreamingMovies, dtype: int64"
            ]
          },
          "metadata": {},
          "execution_count": 810
        }
      ],
      "source": [
        "#contagem\n",
        "count_streaming_M = df[\"StreamingMovies\"].value_counts()\n",
        "count_streaming_M"
      ]
    },
    {
      "cell_type": "code",
      "execution_count": null,
      "metadata": {
        "id": "fZWsNQ_4ZaYx",
        "colab": {
          "base_uri": "https://localhost:8080/",
          "height": 769
        },
        "outputId": "e17ebdb9-2143-494a-c296-a565b736ab1b"
      },
      "outputs": [
        {
          "output_type": "execute_result",
          "data": {
            "text/plain": [
              "([<matplotlib.axis.XTick at 0x7f15a68d4f40>,\n",
              "  <matplotlib.axis.XTick at 0x7f15a68d4f10>,\n",
              "  <matplotlib.axis.XTick at 0x7f15a68d46d0>],\n",
              " [Text(0, 0, 'Não'), Text(1, 0, 'Sim'), Text(2, 0, 'Sem serviço de internet')])"
            ]
          },
          "metadata": {},
          "execution_count": 811
        },
        {
          "output_type": "display_data",
          "data": {
            "text/plain": [
              "<Figure size 800x800 with 1 Axes>"
            ],
            "image/png": "[encoded data removed]"
          },
          "metadata": {}
        }
      ],
      "source": [
        "#Plot\n",
        "bar_alt_streaming_M = list(count_streaming_M)\n",
        "x_valores_streaming_M = list(count_streaming_M.index)\n",
        "\n",
        "#Barras\n",
        "bar_larg = 0.5\n",
        "fig, ax = plt.subplots(figsize = [8,8])\n",
        "bar_plot = ax.bar(x_valores_streaming_M, bar_alt_streaming_M,\n",
        "                  bar_larg, color = ['#0d5c75', '#199fb1', '#a5d1e1'] )\n",
        "\n",
        "#rótulos\n",
        "plt.title(\"Clientes com streaming de filmes\")\n",
        "plt.ylim(0, 3500)\n",
        "plt.ylabel(\"Frequência\")\n",
        "plt.bar_label(bar_plot)\n",
        "plt.xticks(np.arange(3), [\"Não\",\"Sim\", \"Sem serviço de internet\"])"
      ]
    },
    {
      "cell_type": "markdown",
      "metadata": {
        "id": "opx-tz6GacA0"
      },
      "source": [
        "Praticamente metade dos clientes com serviço de internet assinam serviço de streaming de filmes.\n",
        "\n",
        "Serviços de streaming tanto de TV quanto de filmes são bastante populares entre os clientes de modo que ~50% dos clientes com internet têm serviços de streaming."
      ]
    },
    {
      "cell_type": "markdown",
      "metadata": {
        "id": "iOt7wcrgbBSV"
      },
      "source": [
        "##Contract\n",
        "\n",
        "O prazo do contrato do cliente (mês a mês, um ano, dois anos). Variável categórica."
      ]
    },
    {
      "cell_type": "code",
      "source": [
        "df[\"Contract\"]"
      ],
      "metadata": {
        "id": "3tvSACFliLNP",
        "colab": {
          "base_uri": "https://localhost:8080/"
        },
        "outputId": "39652b46-5ef3-485e-98ac-fcd9d7727bf5"
      },
      "execution_count": null,
      "outputs": [
        {
          "output_type": "execute_result",
          "data": {
            "text/plain": [
              "0       Month-to-month\n",
              "1             One year\n",
              "2       Month-to-month\n",
              "3             One year\n",
              "4       Month-to-month\n",
              "             ...      \n",
              "7038          One year\n",
              "7039          One year\n",
              "7040    Month-to-month\n",
              "7041    Month-to-month\n",
              "7042          Two year\n",
              "Name: Contract, Length: 7043, dtype: object"
            ]
          },
          "metadata": {},
          "execution_count": 812
        }
      ]
    },
    {
      "cell_type": "code",
      "source": [
        "#Estatística geral\n",
        "df[\"Contract\"].describe()"
      ],
      "metadata": {
        "id": "MsN5kd9EiatX",
        "colab": {
          "base_uri": "https://localhost:8080/"
        },
        "outputId": "696c0cd1-d621-4bce-8919-255f5a71baf5"
      },
      "execution_count": null,
      "outputs": [
        {
          "output_type": "execute_result",
          "data": {
            "text/plain": [
              "count               7043\n",
              "unique                 3\n",
              "top       Month-to-month\n",
              "freq                3875\n",
              "Name: Contract, dtype: object"
            ]
          },
          "metadata": {},
          "execution_count": 813
        }
      ]
    },
    {
      "cell_type": "code",
      "source": [
        "df[\"Contract\"].unique()"
      ],
      "metadata": {
        "id": "oZvS0aZ1iiyE",
        "colab": {
          "base_uri": "https://localhost:8080/"
        },
        "outputId": "7f7dcbed-b53d-47d1-f5ff-c3cc40b8a24d"
      },
      "execution_count": null,
      "outputs": [
        {
          "output_type": "execute_result",
          "data": {
            "text/plain": [
              "array(['Month-to-month', 'One year', 'Two year'], dtype=object)"
            ]
          },
          "metadata": {},
          "execution_count": 814
        }
      ]
    },
    {
      "cell_type": "code",
      "source": [
        "#sem dados nulos\n",
        "df[\"Contract\"].isnull().sum()"
      ],
      "metadata": {
        "id": "lfYpBnbLilM1",
        "colab": {
          "base_uri": "https://localhost:8080/"
        },
        "outputId": "a80cc9db-94c1-4c92-a091-fc8bdd2e9f82"
      },
      "execution_count": null,
      "outputs": [
        {
          "output_type": "execute_result",
          "data": {
            "text/plain": [
              "0"
            ]
          },
          "metadata": {},
          "execution_count": 815
        }
      ]
    },
    {
      "cell_type": "code",
      "source": [
        "count_contract = df[\"Contract\"].value_counts()\n",
        "count_contract"
      ],
      "metadata": {
        "id": "qmKCSoR056bZ",
        "colab": {
          "base_uri": "https://localhost:8080/"
        },
        "outputId": "00b26848-ead6-4dee-dcce-50f82b9964de"
      },
      "execution_count": null,
      "outputs": [
        {
          "output_type": "execute_result",
          "data": {
            "text/plain": [
              "Month-to-month    3875\n",
              "Two year          1695\n",
              "One year          1473\n",
              "Name: Contract, dtype: int64"
            ]
          },
          "metadata": {},
          "execution_count": 816
        }
      ]
    },
    {
      "cell_type": "code",
      "source": [
        "#Plot\n",
        "bar_alt_count_contract = list(count_contract)\n",
        "x_valores_count_contract = list(count_contract.index)\n",
        "\n",
        "#Barras\n",
        "bar_larg = 0.5\n",
        "fig, ax = plt.subplots(figsize = [8,8])\n",
        "bar_plot = ax.bar(x_valores_count_contract, bar_alt_count_contract,\n",
        "                  bar_larg, color = ['#0d5c75', '#199fb1', '#a5d1e1'] )\n",
        "\n",
        "#rótulos\n",
        "plt.title(\"Clientes por tipo de contrato\")\n",
        "plt.ylim(0, 4500)\n",
        "plt.ylabel(\"Frequência\")\n",
        "plt.bar_label(bar_plot)\n",
        "plt.xticks(np.arange(3), [\"Mensal\",\"Bianual\", \"Anual\"])\n",
        "\n",
        "\n"
      ],
      "metadata": {
        "id": "FW1yjvlR6HDj",
        "colab": {
          "base_uri": "https://localhost:8080/",
          "height": 769
        },
        "outputId": "5b4bcaa9-094b-4bc4-d8a8-2383c83da2dc"
      },
      "execution_count": null,
      "outputs": [
        {
          "output_type": "execute_result",
          "data": {
            "text/plain": [
              "([<matplotlib.axis.XTick at 0x7f15a6849310>,\n",
              "  <matplotlib.axis.XTick at 0x7f15a68492e0>,\n",
              "  <matplotlib.axis.XTick at 0x7f15a688ad30>],\n",
              " [Text(0, 0, 'Mensal'), Text(1, 0, 'Bianual'), Text(2, 0, 'Anual')])"
            ]
          },
          "metadata": {},
          "execution_count": 817
        },
        {
          "output_type": "display_data",
          "data": {
            "text/plain": [
              "<Figure size 800x800 with 1 Axes>"
            ],
            "image/png": "[encoded data removed]"
          },
          "metadata": {}
        }
      ]
    },
    {
      "cell_type": "markdown",
      "source": [
        "Contratos mensais (mês a mês) são aparentemente muito preferidos pelos clientes. \n",
        "\n",
        "**Pergunta**: Isso indica ocorrência de clientes novos conhecendo o serviço ou é uma preferência até entre clientes já fidelizados?"
      ],
      "metadata": {
        "id": "7nkqVWFnCfOq"
      }
    },
    {
      "cell_type": "markdown",
      "source": [
        "#PaperlessBilling\n",
        "\n",
        " Se o cliente tem faturamento sem papel ou não (Sim, Não)."
      ],
      "metadata": {
        "id": "U_pB4W-6D8s3"
      }
    },
    {
      "cell_type": "code",
      "source": [
        "df[\"PaperlessBilling\"]"
      ],
      "metadata": {
        "id": "K4n4xZxFCeA9",
        "colab": {
          "base_uri": "https://localhost:8080/"
        },
        "outputId": "2facbac5-4099-4ba1-ce5d-8ef3fbf816fa"
      },
      "execution_count": null,
      "outputs": [
        {
          "output_type": "execute_result",
          "data": {
            "text/plain": [
              "0       Yes\n",
              "1        No\n",
              "2       Yes\n",
              "3        No\n",
              "4       Yes\n",
              "       ... \n",
              "7038    Yes\n",
              "7039    Yes\n",
              "7040    Yes\n",
              "7041    Yes\n",
              "7042    Yes\n",
              "Name: PaperlessBilling, Length: 7043, dtype: object"
            ]
          },
          "metadata": {},
          "execution_count": 818
        }
      ]
    },
    {
      "cell_type": "code",
      "source": [
        "df[\"PaperlessBilling\"].describe()"
      ],
      "metadata": {
        "id": "F0LOfRtOFdyN",
        "colab": {
          "base_uri": "https://localhost:8080/"
        },
        "outputId": "b366318d-3031-40cb-fba2-f8fc60dcc771"
      },
      "execution_count": null,
      "outputs": [
        {
          "output_type": "execute_result",
          "data": {
            "text/plain": [
              "count     7043\n",
              "unique       2\n",
              "top        Yes\n",
              "freq      4171\n",
              "Name: PaperlessBilling, dtype: object"
            ]
          },
          "metadata": {},
          "execution_count": 819
        }
      ]
    },
    {
      "cell_type": "code",
      "source": [
        "#Porcentagem\n",
        "df[\"PaperlessBilling\"].value_counts(1)"
      ],
      "metadata": {
        "id": "3ILDc6bbFjS9",
        "colab": {
          "base_uri": "https://localhost:8080/"
        },
        "outputId": "801969a6-d150-433f-e12f-88ea7a9a5e28"
      },
      "execution_count": null,
      "outputs": [
        {
          "output_type": "execute_result",
          "data": {
            "text/plain": [
              "Yes   0.59\n",
              "No    0.41\n",
              "Name: PaperlessBilling, dtype: float64"
            ]
          },
          "metadata": {},
          "execution_count": 820
        }
      ]
    },
    {
      "cell_type": "markdown",
      "source": [
        "Aproximandamente metade dos clientes têm fatura sem papel (digital)."
      ],
      "metadata": {
        "id": "-p1mVTzccaVu"
      }
    },
    {
      "cell_type": "markdown",
      "source": [
        "##PaymentMethod\n",
        "\n",
        "O método de pagamento do cliente (Cheque eletrônico, Cheque enviado, Transferência bancária (automática), Cartão de crédito (automático))."
      ],
      "metadata": {
        "id": "-RiRDMqrckZT"
      }
    },
    {
      "cell_type": "code",
      "source": [
        "df[\"PaymentMethod\"]"
      ],
      "metadata": {
        "id": "v14aUczIcjkB",
        "colab": {
          "base_uri": "https://localhost:8080/"
        },
        "outputId": "533915f7-0f28-4292-a024-1438c5fc59ca"
      },
      "execution_count": null,
      "outputs": [
        {
          "output_type": "execute_result",
          "data": {
            "text/plain": [
              "0                Electronic check\n",
              "1                    Mailed check\n",
              "2                    Mailed check\n",
              "3       Bank transfer (automatic)\n",
              "4                Electronic check\n",
              "                  ...            \n",
              "7038                 Mailed check\n",
              "7039      Credit card (automatic)\n",
              "7040             Electronic check\n",
              "7041                 Mailed check\n",
              "7042    Bank transfer (automatic)\n",
              "Name: PaymentMethod, Length: 7043, dtype: object"
            ]
          },
          "metadata": {},
          "execution_count": 821
        }
      ]
    },
    {
      "cell_type": "code",
      "source": [
        "df[\"PaymentMethod\"].isnull().sum()"
      ],
      "metadata": {
        "id": "OglcQIRIdD-P",
        "colab": {
          "base_uri": "https://localhost:8080/"
        },
        "outputId": "def1c94b-7d34-4c78-b09e-fd2abb55ba98"
      },
      "execution_count": null,
      "outputs": [
        {
          "output_type": "execute_result",
          "data": {
            "text/plain": [
              "0"
            ]
          },
          "metadata": {},
          "execution_count": 822
        }
      ]
    },
    {
      "cell_type": "code",
      "source": [
        "#métodos de pagamento mais populares\n",
        "paymant_method_count = df[\"PaymentMethod\"].value_counts()\n",
        "paymant_method_count"
      ],
      "metadata": {
        "id": "c3HHeDx0cZfk",
        "colab": {
          "base_uri": "https://localhost:8080/"
        },
        "outputId": "4657b1e6-3ed1-4680-c089-5fd1e5810724"
      },
      "execution_count": null,
      "outputs": [
        {
          "output_type": "execute_result",
          "data": {
            "text/plain": [
              "Electronic check             2365\n",
              "Mailed check                 1612\n",
              "Bank transfer (automatic)    1544\n",
              "Credit card (automatic)      1522\n",
              "Name: PaymentMethod, dtype: int64"
            ]
          },
          "metadata": {},
          "execution_count": 823
        }
      ]
    },
    {
      "cell_type": "code",
      "source": [
        "list(paymant_method_count)"
      ],
      "metadata": {
        "id": "1yRhJ_pH7KOK",
        "colab": {
          "base_uri": "https://localhost:8080/"
        },
        "outputId": "12eb7aa8-5701-40a2-9809-7cd2d1a92b89"
      },
      "execution_count": null,
      "outputs": [
        {
          "output_type": "execute_result",
          "data": {
            "text/plain": [
              "[2365, 1612, 1544, 1522]"
            ]
          },
          "metadata": {},
          "execution_count": 824
        }
      ]
    },
    {
      "cell_type": "code",
      "source": [
        "plt.figure(figsize=[8,8])\n",
        "barplot = plt.bar(x = list(paymant_method_count.index), height = list(paymant_method_count),\n",
        "                      color =['#0d5c75','#199fb1', '#a5d3e1', '#a5d1e1'])\n",
        "\n",
        "plt.bar_label(barplot, labels= list(paymant_method_count), padding=2)\n",
        "plt.ylim(0, 2800)\n",
        "\n",
        "plt.title(\"Formas de pagamento mais comuns\")\n",
        "plt.ylabel(\"Frequência\")\n",
        "plt.xticks(np.arange(4), [\"Cheque eletônico\", \"Cheque enviado\", \n",
        "                          \"Transferência bancária\", \"Cartão de crédito\"])\n"
      ],
      "metadata": {
        "id": "clG8EMhQ7aNm",
        "colab": {
          "base_uri": "https://localhost:8080/",
          "height": 839
        },
        "outputId": "c4752065-2015-42a8-cb0d-82c71b2f8b87"
      },
      "execution_count": null,
      "outputs": [
        {
          "output_type": "execute_result",
          "data": {
            "text/plain": [
              "([<matplotlib.axis.XTick at 0x7f15a67c78b0>,\n",
              "  <matplotlib.axis.XTick at 0x7f15a67c7880>,\n",
              "  <matplotlib.axis.XTick at 0x7f15a67c7100>,\n",
              "  <matplotlib.axis.XTick at 0x7f15a68017f0>],\n",
              " [Text(0, 0, 'Cheque eletônico'),\n",
              "  Text(1, 0, 'Cheque enviado'),\n",
              "  Text(2, 0, 'Transferência bancária'),\n",
              "  Text(3, 0, 'Cartão de crédito')])"
            ]
          },
          "metadata": {},
          "execution_count": 825
        },
        {
          "output_type": "display_data",
          "data": {
            "text/plain": [
              "<Figure size 800x800 with 1 Axes>"
            ],
            "image/png": "[encoded data removed]"
          },
          "metadata": {}
        }
      ]
    },
    {
      "cell_type": "markdown",
      "source": [
        "##MonthlyCharges\n",
        "\n",
        "MontlyCharges - O valor cobrado do cliente mensalmente. Variável numérica contínua (float)."
      ],
      "metadata": {
        "id": "IUFIOVhTbP1q"
      }
    },
    {
      "cell_type": "code",
      "source": [
        "df[\"MonthlyCharges\"]"
      ],
      "metadata": {
        "id": "396cOHaMbPD9",
        "colab": {
          "base_uri": "https://localhost:8080/"
        },
        "outputId": "ed930b55-beae-4464-f1a1-eab82b4fe290"
      },
      "execution_count": null,
      "outputs": [
        {
          "output_type": "execute_result",
          "data": {
            "text/plain": [
              "0       29.85\n",
              "1       56.95\n",
              "2       53.85\n",
              "3       42.30\n",
              "4       70.70\n",
              "        ...  \n",
              "7038    84.80\n",
              "7039   103.20\n",
              "7040    29.60\n",
              "7041    74.40\n",
              "7042   105.65\n",
              "Name: MonthlyCharges, Length: 7043, dtype: float64"
            ]
          },
          "metadata": {},
          "execution_count": 826
        }
      ]
    },
    {
      "cell_type": "code",
      "source": [
        "#estatística geral\n",
        "df[\"MonthlyCharges\"].describe()"
      ],
      "metadata": {
        "id": "UT5P-yv3i-d0",
        "colab": {
          "base_uri": "https://localhost:8080/"
        },
        "outputId": "4497c351-f410-40d6-bc97-413a91c83ed3"
      },
      "execution_count": null,
      "outputs": [
        {
          "output_type": "execute_result",
          "data": {
            "text/plain": [
              "count   7,043.00\n",
              "mean       64.76\n",
              "std        30.09\n",
              "min        18.25\n",
              "25%        35.50\n",
              "50%        70.35\n",
              "75%        89.85\n",
              "max       118.75\n",
              "Name: MonthlyCharges, dtype: float64"
            ]
          },
          "metadata": {},
          "execution_count": 827
        }
      ]
    },
    {
      "cell_type": "markdown",
      "source": [
        "A média de valor pago mensalmente pelos clientes é de 64,76."
      ],
      "metadata": {
        "id": "oHy9WkJ9kQXp"
      }
    },
    {
      "cell_type": "code",
      "source": [
        "df[\"MonthlyCharges\"].isna().sum()"
      ],
      "metadata": {
        "id": "oGaF9C3OjXRH",
        "colab": {
          "base_uri": "https://localhost:8080/"
        },
        "outputId": "50f8f49e-9e74-40e3-8b62-f523d1323366"
      },
      "execution_count": null,
      "outputs": [
        {
          "output_type": "execute_result",
          "data": {
            "text/plain": [
              "0"
            ]
          },
          "metadata": {},
          "execution_count": 828
        }
      ]
    },
    {
      "cell_type": "code",
      "source": [
        "df[\"MonthlyCharges\"].nunique()"
      ],
      "metadata": {
        "id": "8Fx_eVo6jgrd",
        "colab": {
          "base_uri": "https://localhost:8080/"
        },
        "outputId": "8c7c0adf-945a-4dfc-cae6-9b985067476b"
      },
      "execution_count": null,
      "outputs": [
        {
          "output_type": "execute_result",
          "data": {
            "text/plain": [
              "1585"
            ]
          },
          "metadata": {},
          "execution_count": 829
        }
      ]
    },
    {
      "cell_type": "code",
      "source": [
        "df[\"MonthlyCharges\"].loc[df[\"MonthlyCharges\"] <= 64.76].count()"
      ],
      "metadata": {
        "id": "oYV9JDt9kfIh",
        "colab": {
          "base_uri": "https://localhost:8080/"
        },
        "outputId": "52ee42b7-288f-43ff-d792-c14169180ed2"
      },
      "execution_count": null,
      "outputs": [
        {
          "output_type": "execute_result",
          "data": {
            "text/plain": [
              "3120"
            ]
          },
          "metadata": {},
          "execution_count": 830
        }
      ]
    },
    {
      "cell_type": "markdown",
      "source": [
        "3120 clientes pagam por mês valor menor que a média."
      ],
      "metadata": {
        "id": "tNVD79nvn7j2"
      }
    },
    {
      "cell_type": "code",
      "source": [
        "df[\"MonthlyCharges\"].loc[df[\"MonthlyCharges\"] > 64.76].count()"
      ],
      "metadata": {
        "id": "2yXJZgknk7tJ",
        "colab": {
          "base_uri": "https://localhost:8080/"
        },
        "outputId": "1fc2a757-9f01-45b0-fb97-eb0e5c48c46f"
      },
      "execution_count": null,
      "outputs": [
        {
          "output_type": "execute_result",
          "data": {
            "text/plain": [
              "3923"
            ]
          },
          "metadata": {},
          "execution_count": 831
        }
      ]
    },
    {
      "cell_type": "markdown",
      "source": [
        "3923 clientes pagam por mês valor maior que a média. "
      ],
      "metadata": {
        "id": "jHv52Mp1oM2n"
      }
    },
    {
      "cell_type": "code",
      "source": [
        "#plotando a distribuição da pagamentos mensais\n",
        "plt.figure(figsize=[8,8])\n",
        "counts, edges, bars = plt.hist(df[\"MonthlyCharges\"],\n",
        "                               edgecolor=\"white\", color = ['#199fb1'])\n",
        "plt.ylim([0,1700])\n",
        "plt.bar_label(bars)\n",
        "plt.title('Distribuição de pagamentos mensais')\n",
        "plt.xlabel('valor mensal')\n",
        "plt.ylabel('Faixa de frequência')\n",
        "  \n",
        "\n",
        "  "
      ],
      "metadata": {
        "id": "AfXUkB2uwN5v",
        "colab": {
          "base_uri": "https://localhost:8080/",
          "height": 740
        },
        "outputId": "a491272e-bc15-4776-e1dd-d6384633ec60"
      },
      "execution_count": null,
      "outputs": [
        {
          "output_type": "execute_result",
          "data": {
            "text/plain": [
              "Text(0, 0.5, 'Faixa de frequência')"
            ]
          },
          "metadata": {},
          "execution_count": 832
        },
        {
          "output_type": "display_data",
          "data": {
            "text/plain": [
              "<Figure size 800x800 with 1 Axes>"
            ],
            "image/png": "[encoded data removed]"
          },
          "metadata": {}
        }
      ]
    },
    {
      "cell_type": "markdown",
      "source": [
        "Há varias faixas de valores de mensalidades, provavelmente relacionadas com os tipos de serviços contratados pelos clientes. \n",
        "\n",
        "**Pergunta:** Qual a contribuição dos diferentes serviços no valor da mensalidade?\n"
      ],
      "metadata": {
        "id": "kL1rbelbfiEG"
      }
    },
    {
      "cell_type": "code",
      "source": [
        "df[\"MonthlyCharges\"].value_counts()"
      ],
      "metadata": {
        "id": "hiluCX57t2NL",
        "colab": {
          "base_uri": "https://localhost:8080/"
        },
        "outputId": "87b3a313-5466-4d69-d3d0-14364606f655"
      },
      "execution_count": null,
      "outputs": [
        {
          "output_type": "execute_result",
          "data": {
            "text/plain": [
              "20.05     61\n",
              "19.85     45\n",
              "19.95     44\n",
              "19.90     44\n",
              "20.00     43\n",
              "          ..\n",
              "23.65      1\n",
              "114.70     1\n",
              "43.65      1\n",
              "87.80      1\n",
              "78.70      1\n",
              "Name: MonthlyCharges, Length: 1585, dtype: int64"
            ]
          },
          "metadata": {},
          "execution_count": 833
        }
      ]
    },
    {
      "cell_type": "markdown",
      "source": [
        "Mensalidades mais baixas são mais comuns. \n",
        "\n",
        "Talvez sejam relacionadas a planos mais básicos, logo, mais acessíveis ao grande público."
      ],
      "metadata": {
        "id": "nUVm511Iu199"
      }
    },
    {
      "cell_type": "markdown",
      "source": [
        "##TotalCharges\n",
        "\n",
        "TotalCharges - O valor total cobrado do cliente. "
      ],
      "metadata": {
        "id": "UCy6hTKoXqCC"
      }
    },
    {
      "cell_type": "code",
      "source": [
        "df[\"TotalCharges\"]"
      ],
      "metadata": {
        "colab": {
          "base_uri": "https://localhost:8080/"
        },
        "id": "4_TQcTALXprc",
        "outputId": "06860f40-43bd-46bf-c70d-d74dd282711e"
      },
      "execution_count": null,
      "outputs": [
        {
          "output_type": "execute_result",
          "data": {
            "text/plain": [
              "0         29.85\n",
              "1        1889.5\n",
              "2        108.15\n",
              "3       1840.75\n",
              "4        151.65\n",
              "         ...   \n",
              "7038     1990.5\n",
              "7039     7362.9\n",
              "7040     346.45\n",
              "7041      306.6\n",
              "7042     6844.5\n",
              "Name: TotalCharges, Length: 7043, dtype: object"
            ]
          },
          "metadata": {},
          "execution_count": 834
        }
      ]
    },
    {
      "cell_type": "code",
      "source": [
        "df[\"TotalCharges\"].describe()"
      ],
      "metadata": {
        "colab": {
          "base_uri": "https://localhost:8080/"
        },
        "id": "CDcvixl2aZR_",
        "outputId": "9fdee1a1-db84-4f5c-f588-11bb10ed40d5"
      },
      "execution_count": null,
      "outputs": [
        {
          "output_type": "execute_result",
          "data": {
            "text/plain": [
              "count     7043\n",
              "unique    6531\n",
              "top           \n",
              "freq        11\n",
              "Name: TotalCharges, dtype: object"
            ]
          },
          "metadata": {},
          "execution_count": 836
        }
      ]
    },
    {
      "cell_type": "markdown",
      "source": [
        "O valor '  ' é o mais frequente. Há um problema."
      ],
      "metadata": {
        "id": "Eq7Ya3ssaiVx"
      }
    },
    {
      "cell_type": "code",
      "source": [
        "df[\"TotalCharges\"].isnull().sum()"
      ],
      "metadata": {
        "colab": {
          "base_uri": "https://localhost:8080/"
        },
        "id": "wNRxxpWiaqXU",
        "outputId": "17eea249-4bb7-4bb6-ab56-60c36142cf31"
      },
      "execution_count": null,
      "outputs": [
        {
          "output_type": "execute_result",
          "data": {
            "text/plain": [
              "0"
            ]
          },
          "metadata": {},
          "execution_count": 837
        }
      ]
    },
    {
      "cell_type": "markdown",
      "source": [
        "Os valores \"vazios\" não são necessariamente vazios. São espaços digitados talvez por erro."
      ],
      "metadata": {
        "id": "ybioZnGsa0oX"
      }
    },
    {
      "cell_type": "code",
      "source": [
        "df.loc[df[\"TotalCharges\"] == ' ']"
      ],
      "metadata": {
        "colab": {
          "base_uri": "https://localhost:8080/",
          "height": 679
        },
        "id": "7aPISr1Aj-ic",
        "outputId": "9add0be6-129e-46fc-9c73-c1e0c3ba87c6"
      },
      "execution_count": null,
      "outputs": [
        {
          "output_type": "execute_result",
          "data": {
            "text/plain": [
              "      customerID  gender  SeniorCitizen Partner Dependents  tenure  \\\n",
              "488   4472-LVYGI  Female              0     Yes        Yes       0   \n",
              "753   3115-CZMZD    Male              0      No        Yes       0   \n",
              "936   5709-LVOEQ  Female              0     Yes        Yes       0   \n",
              "1082  4367-NUYAO    Male              0     Yes        Yes       0   \n",
              "1340  1371-DWPAZ  Female              0     Yes        Yes       0   \n",
              "3331  7644-OMVMY    Male              0     Yes        Yes       0   \n",
              "3826  3213-VVOLG    Male              0     Yes        Yes       0   \n",
              "4380  2520-SGTTA  Female              0     Yes        Yes       0   \n",
              "5218  2923-ARZLG    Male              0     Yes        Yes       0   \n",
              "6670  4075-WKNIU  Female              0     Yes        Yes       0   \n",
              "6754  2775-SEFEE    Male              0      No        Yes       0   \n",
              "\n",
              "     PhoneService     MultipleLines InternetService       OnlineSecurity  ...  \\\n",
              "488            No  No phone service             DSL                  Yes  ...   \n",
              "753           Yes                No              No  No internet service  ...   \n",
              "936           Yes                No             DSL                  Yes  ...   \n",
              "1082          Yes               Yes              No  No internet service  ...   \n",
              "1340           No  No phone service             DSL                  Yes  ...   \n",
              "3331          Yes                No              No  No internet service  ...   \n",
              "3826          Yes               Yes              No  No internet service  ...   \n",
              "4380          Yes                No              No  No internet service  ...   \n",
              "5218          Yes                No              No  No internet service  ...   \n",
              "6670          Yes               Yes             DSL                   No  ...   \n",
              "6754          Yes               Yes             DSL                  Yes  ...   \n",
              "\n",
              "         DeviceProtection          TechSupport          StreamingTV  \\\n",
              "488                   Yes                  Yes                  Yes   \n",
              "753   No internet service  No internet service  No internet service   \n",
              "936                   Yes                   No                  Yes   \n",
              "1082  No internet service  No internet service  No internet service   \n",
              "1340                  Yes                  Yes                  Yes   \n",
              "3331  No internet service  No internet service  No internet service   \n",
              "3826  No internet service  No internet service  No internet service   \n",
              "4380  No internet service  No internet service  No internet service   \n",
              "5218  No internet service  No internet service  No internet service   \n",
              "6670                  Yes                  Yes                  Yes   \n",
              "6754                   No                  Yes                   No   \n",
              "\n",
              "          StreamingMovies  Contract PaperlessBilling  \\\n",
              "488                    No  Two year              Yes   \n",
              "753   No internet service  Two year               No   \n",
              "936                   Yes  Two year               No   \n",
              "1082  No internet service  Two year               No   \n",
              "1340                   No  Two year               No   \n",
              "3331  No internet service  Two year               No   \n",
              "3826  No internet service  Two year               No   \n",
              "4380  No internet service  Two year               No   \n",
              "5218  No internet service  One year              Yes   \n",
              "6670                   No  Two year               No   \n",
              "6754                   No  Two year              Yes   \n",
              "\n",
              "                  PaymentMethod MonthlyCharges  TotalCharges Churn  \n",
              "488   Bank transfer (automatic)          52.55                  No  \n",
              "753                Mailed check          20.25                  No  \n",
              "936                Mailed check          80.85                  No  \n",
              "1082               Mailed check          25.75                  No  \n",
              "1340    Credit card (automatic)          56.05                  No  \n",
              "3331               Mailed check          19.85                  No  \n",
              "3826               Mailed check          25.35                  No  \n",
              "4380               Mailed check          20.00                  No  \n",
              "5218               Mailed check          19.70                  No  \n",
              "6670               Mailed check          73.35                  No  \n",
              "6754  Bank transfer (automatic)          61.90                  No  \n",
              "\n",
              "[11 rows x 21 columns]"
            ],
            "text/html": [
              "\n",
              "  <div id=\"df-887c26d1-5e5b-4392-8016-1aa8de4c2d11\">\n",
              "    <div class=\"colab-df-container\">\n",
              "      <div>\n",
              "<style scoped>\n",
              "    .dataframe tbody tr th:only-of-type {\n",
              "        vertical-align: middle;\n",
              "    }\n",
              "\n",
              "    .dataframe tbody tr th {\n",
              "        vertical-align: top;\n",
              "    }\n",
              "\n",
              "    .dataframe thead th {\n",
              "        text-align: right;\n",
              "    }\n",
              "</style>\n",
              "<table border=\"1\" class=\"dataframe\">\n",
              "  <thead>\n",
              "    <tr style=\"text-align: right;\">\n",
              "      <th></th>\n",
              "      <th>customerID</th>\n",
              "      <th>gender</th>\n",
              "      <th>SeniorCitizen</th>\n",
              "      <th>Partner</th>\n",
              "      <th>Dependents</th>\n",
              "      <th>tenure</th>\n",
              "      <th>PhoneService</th>\n",
              "      <th>MultipleLines</th>\n",
              "      <th>InternetService</th>\n",
              "      <th>OnlineSecurity</th>\n",
              "      <th>...</th>\n",
              "      <th>DeviceProtection</th>\n",
              "      <th>TechSupport</th>\n",
              "      <th>StreamingTV</th>\n",
              "      <th>StreamingMovies</th>\n",
              "      <th>Contract</th>\n",
              "      <th>PaperlessBilling</th>\n",
              "      <th>PaymentMethod</th>\n",
              "      <th>MonthlyCharges</th>\n",
              "      <th>TotalCharges</th>\n",
              "      <th>Churn</th>\n",
              "    </tr>\n",
              "  </thead>\n",
              "  <tbody>\n",
              "    <tr>\n",
              "      <th>488</th>\n",
              "      <td>4472-LVYGI</td>\n",
              "      <td>Female</td>\n",
              "      <td>0</td>\n",
              "      <td>Yes</td>\n",
              "      <td>Yes</td>\n",
              "      <td>0</td>\n",
              "      <td>No</td>\n",
              "      <td>No phone service</td>\n",
              "      <td>DSL</td>\n",
              "      <td>Yes</td>\n",
              "      <td>...</td>\n",
              "      <td>Yes</td>\n",
              "      <td>Yes</td>\n",
              "      <td>Yes</td>\n",
              "      <td>No</td>\n",
              "      <td>Two year</td>\n",
              "      <td>Yes</td>\n",
              "      <td>Bank transfer (automatic)</td>\n",
              "      <td>52.55</td>\n",
              "      <td></td>\n",
              "      <td>No</td>\n",
              "    </tr>\n",
              "    <tr>\n",
              "      <th>753</th>\n",
              "      <td>3115-CZMZD</td>\n",
              "      <td>Male</td>\n",
              "      <td>0</td>\n",
              "      <td>No</td>\n",
              "      <td>Yes</td>\n",
              "      <td>0</td>\n",
              "      <td>Yes</td>\n",
              "      <td>No</td>\n",
              "      <td>No</td>\n",
              "      <td>No internet service</td>\n",
              "      <td>...</td>\n",
              "      <td>No internet service</td>\n",
              "      <td>No internet service</td>\n",
              "      <td>No internet service</td>\n",
              "      <td>No internet service</td>\n",
              "      <td>Two year</td>\n",
              "      <td>No</td>\n",
              "      <td>Mailed check</td>\n",
              "      <td>20.25</td>\n",
              "      <td></td>\n",
              "      <td>No</td>\n",
              "    </tr>\n",
              "    <tr>\n",
              "      <th>936</th>\n",
              "      <td>5709-LVOEQ</td>\n",
              "      <td>Female</td>\n",
              "      <td>0</td>\n",
              "      <td>Yes</td>\n",
              "      <td>Yes</td>\n",
              "      <td>0</td>\n",
              "      <td>Yes</td>\n",
              "      <td>No</td>\n",
              "      <td>DSL</td>\n",
              "      <td>Yes</td>\n",
              "      <td>...</td>\n",
              "      <td>Yes</td>\n",
              "      <td>No</td>\n",
              "      <td>Yes</td>\n",
              "      <td>Yes</td>\n",
              "      <td>Two year</td>\n",
              "      <td>No</td>\n",
              "      <td>Mailed check</td>\n",
              "      <td>80.85</td>\n",
              "      <td></td>\n",
              "      <td>No</td>\n",
              "    </tr>\n",
              "    <tr>\n",
              "      <th>1082</th>\n",
              "      <td>4367-NUYAO</td>\n",
              "      <td>Male</td>\n",
              "      <td>0</td>\n",
              "      <td>Yes</td>\n",
              "      <td>Yes</td>\n",
              "      <td>0</td>\n",
              "      <td>Yes</td>\n",
              "      <td>Yes</td>\n",
              "      <td>No</td>\n",
              "      <td>No internet service</td>\n",
              "      <td>...</td>\n",
              "      <td>No internet service</td>\n",
              "      <td>No internet service</td>\n",
              "      <td>No internet service</td>\n",
              "      <td>No internet service</td>\n",
              "      <td>Two year</td>\n",
              "      <td>No</td>\n",
              "      <td>Mailed check</td>\n",
              "      <td>25.75</td>\n",
              "      <td></td>\n",
              "      <td>No</td>\n",
              "    </tr>\n",
              "    <tr>\n",
              "      <th>1340</th>\n",
              "      <td>1371-DWPAZ</td>\n",
              "      <td>Female</td>\n",
              "      <td>0</td>\n",
              "      <td>Yes</td>\n",
              "      <td>Yes</td>\n",
              "      <td>0</td>\n",
              "      <td>No</td>\n",
              "      <td>No phone service</td>\n",
              "      <td>DSL</td>\n",
              "      <td>Yes</td>\n",
              "      <td>...</td>\n",
              "      <td>Yes</td>\n",
              "      <td>Yes</td>\n",
              "      <td>Yes</td>\n",
              "      <td>No</td>\n",
              "      <td>Two year</td>\n",
              "      <td>No</td>\n",
              "      <td>Credit card (automatic)</td>\n",
              "      <td>56.05</td>\n",
              "      <td></td>\n",
              "      <td>No</td>\n",
              "    </tr>\n",
              "    <tr>\n",
              "      <th>3331</th>\n",
              "      <td>7644-OMVMY</td>\n",
              "      <td>Male</td>\n",
              "      <td>0</td>\n",
              "      <td>Yes</td>\n",
              "      <td>Yes</td>\n",
              "      <td>0</td>\n",
              "      <td>Yes</td>\n",
              "      <td>No</td>\n",
              "      <td>No</td>\n",
              "      <td>No internet service</td>\n",
              "      <td>...</td>\n",
              "      <td>No internet service</td>\n",
              "      <td>No internet service</td>\n",
              "      <td>No internet service</td>\n",
              "      <td>No internet service</td>\n",
              "      <td>Two year</td>\n",
              "      <td>No</td>\n",
              "      <td>Mailed check</td>\n",
              "      <td>19.85</td>\n",
              "      <td></td>\n",
              "      <td>No</td>\n",
              "    </tr>\n",
              "    <tr>\n",
              "      <th>3826</th>\n",
              "      <td>3213-VVOLG</td>\n",
              "      <td>Male</td>\n",
              "      <td>0</td>\n",
              "      <td>Yes</td>\n",
              "      <td>Yes</td>\n",
              "      <td>0</td>\n",
              "      <td>Yes</td>\n",
              "      <td>Yes</td>\n",
              "      <td>No</td>\n",
              "      <td>No internet service</td>\n",
              "      <td>...</td>\n",
              "      <td>No internet service</td>\n",
              "      <td>No internet service</td>\n",
              "      <td>No internet service</td>\n",
              "      <td>No internet service</td>\n",
              "      <td>Two year</td>\n",
              "      <td>No</td>\n",
              "      <td>Mailed check</td>\n",
              "      <td>25.35</td>\n",
              "      <td></td>\n",
              "      <td>No</td>\n",
              "    </tr>\n",
              "    <tr>\n",
              "      <th>4380</th>\n",
              "      <td>2520-SGTTA</td>\n",
              "      <td>Female</td>\n",
              "      <td>0</td>\n",
              "      <td>Yes</td>\n",
              "      <td>Yes</td>\n",
              "      <td>0</td>\n",
              "      <td>Yes</td>\n",
              "      <td>No</td>\n",
              "      <td>No</td>\n",
              "      <td>No internet service</td>\n",
              "      <td>...</td>\n",
              "      <td>No internet service</td>\n",
              "      <td>No internet service</td>\n",
              "      <td>No internet service</td>\n",
              "      <td>No internet service</td>\n",
              "      <td>Two year</td>\n",
              "      <td>No</td>\n",
              "      <td>Mailed check</td>\n",
              "      <td>20.00</td>\n",
              "      <td></td>\n",
              "      <td>No</td>\n",
              "    </tr>\n",
              "    <tr>\n",
              "      <th>5218</th>\n",
              "      <td>2923-ARZLG</td>\n",
              "      <td>Male</td>\n",
              "      <td>0</td>\n",
              "      <td>Yes</td>\n",
              "      <td>Yes</td>\n",
              "      <td>0</td>\n",
              "      <td>Yes</td>\n",
              "      <td>No</td>\n",
              "      <td>No</td>\n",
              "      <td>No internet service</td>\n",
              "      <td>...</td>\n",
              "      <td>No internet service</td>\n",
              "      <td>No internet service</td>\n",
              "      <td>No internet service</td>\n",
              "      <td>No internet service</td>\n",
              "      <td>One year</td>\n",
              "      <td>Yes</td>\n",
              "      <td>Mailed check</td>\n",
              "      <td>19.70</td>\n",
              "      <td></td>\n",
              "      <td>No</td>\n",
              "    </tr>\n",
              "    <tr>\n",
              "      <th>6670</th>\n",
              "      <td>4075-WKNIU</td>\n",
              "      <td>Female</td>\n",
              "      <td>0</td>\n",
              "      <td>Yes</td>\n",
              "      <td>Yes</td>\n",
              "      <td>0</td>\n",
              "      <td>Yes</td>\n",
              "      <td>Yes</td>\n",
              "      <td>DSL</td>\n",
              "      <td>No</td>\n",
              "      <td>...</td>\n",
              "      <td>Yes</td>\n",
              "      <td>Yes</td>\n",
              "      <td>Yes</td>\n",
              "      <td>No</td>\n",
              "      <td>Two year</td>\n",
              "      <td>No</td>\n",
              "      <td>Mailed check</td>\n",
              "      <td>73.35</td>\n",
              "      <td></td>\n",
              "      <td>No</td>\n",
              "    </tr>\n",
              "    <tr>\n",
              "      <th>6754</th>\n",
              "      <td>2775-SEFEE</td>\n",
              "      <td>Male</td>\n",
              "      <td>0</td>\n",
              "      <td>No</td>\n",
              "      <td>Yes</td>\n",
              "      <td>0</td>\n",
              "      <td>Yes</td>\n",
              "      <td>Yes</td>\n",
              "      <td>DSL</td>\n",
              "      <td>Yes</td>\n",
              "      <td>...</td>\n",
              "      <td>No</td>\n",
              "      <td>Yes</td>\n",
              "      <td>No</td>\n",
              "      <td>No</td>\n",
              "      <td>Two year</td>\n",
              "      <td>Yes</td>\n",
              "      <td>Bank transfer (automatic)</td>\n",
              "      <td>61.90</td>\n",
              "      <td></td>\n",
              "      <td>No</td>\n",
              "    </tr>\n",
              "  </tbody>\n",
              "</table>\n",
              "<p>11 rows × 21 columns</p>\n",
              "</div>\n",
              "      <button class=\"colab-df-convert\" onclick=\"convertToInteractive('df-887c26d1-5e5b-4392-8016-1aa8de4c2d11')\"\n",
              "              title=\"Convert this dataframe to an interactive table.\"\n",
              "              style=\"display:none;\">\n",
              "        \n",
              "  <svg xmlns=\"http://www.w3.org/2000/svg\" height=\"24px\"viewBox=\"0 0 24 24\"\n",
              "       width=\"24px\">\n",
              "    <path d=\"M0 0h24v24H0V0z\" fill=\"none\"/>\n",
              "    <path d=\"M18.56 5.44l.94 2.06.94-2.06 2.06-.94-2.06-.94-.94-2.06-.94 2.06-2.06.94zm-11 1L8.5 8.5l.94-2.06 2.06-.94-2.06-.94L8.5 2.5l-.94 2.06-2.06.94zm10 10l.94 2.06.94-2.06 2.06-.94-2.06-.94-.94-2.06-.94 2.06-2.06.94z\"/><path d=\"M17.41 7.96l-1.37-1.37c-.4-.4-.92-.59-1.43-.59-.52 0-1.04.2-1.43.59L10.3 9.45l-7.72 7.72c-.78.78-.78 2.05 0 2.83L4 21.41c.39.39.9.59 1.41.59.51 0 1.02-.2 1.41-.59l7.78-7.78 2.81-2.81c.8-.78.8-2.07 0-2.86zM5.41 20L4 18.59l7.72-7.72 1.47 1.35L5.41 20z\"/>\n",
              "  </svg>\n",
              "      </button>\n",
              "      \n",
              "  <style>\n",
              "    .colab-df-container {\n",
              "      display:flex;\n",
              "      flex-wrap:wrap;\n",
              "      gap: 12px;\n",
              "    }\n",
              "\n",
              "    .colab-df-convert {\n",
              "      background-color: #E8F0FE;\n",
              "      border: none;\n",
              "      border-radius: 50%;\n",
              "      cursor: pointer;\n",
              "      display: none;\n",
              "      fill: #1967D2;\n",
              "      height: 32px;\n",
              "      padding: 0 0 0 0;\n",
              "      width: 32px;\n",
              "    }\n",
              "\n",
              "    .colab-df-convert:hover {\n",
              "      background-color: #E2EBFA;\n",
              "      box-shadow: 0px 1px 2px rgba(60, 64, 67, 0.3), 0px 1px 3px 1px rgba(60, 64, 67, 0.15);\n",
              "      fill: #174EA6;\n",
              "    }\n",
              "\n",
              "    [theme=dark] .colab-df-convert {\n",
              "      background-color: #3B4455;\n",
              "      fill: #D2E3FC;\n",
              "    }\n",
              "\n",
              "    [theme=dark] .colab-df-convert:hover {\n",
              "      background-color: #434B5C;\n",
              "      box-shadow: 0px 1px 3px 1px rgba(0, 0, 0, 0.15);\n",
              "      filter: drop-shadow(0px 1px 2px rgba(0, 0, 0, 0.3));\n",
              "      fill: #FFFFFF;\n",
              "    }\n",
              "  </style>\n",
              "\n",
              "      <script>\n",
              "        const buttonEl =\n",
              "          document.querySelector('#df-887c26d1-5e5b-4392-8016-1aa8de4c2d11 button.colab-df-convert');\n",
              "        buttonEl.style.display =\n",
              "          google.colab.kernel.accessAllowed ? 'block' : 'none';\n",
              "\n",
              "        async function convertToInteractive(key) {\n",
              "          const element = document.querySelector('#df-887c26d1-5e5b-4392-8016-1aa8de4c2d11');\n",
              "          const dataTable =\n",
              "            await google.colab.kernel.invokeFunction('convertToInteractive',\n",
              "                                                     [key], {});\n",
              "          if (!dataTable) return;\n",
              "\n",
              "          const docLinkHtml = 'Like what you see? Visit the ' +\n",
              "            '<a target=\"_blank\" href=https://colab.research.google.com/notebooks/data_table.ipynb>data table notebook</a>'\n",
              "            + ' to learn more about interactive tables.';\n",
              "          element.innerHTML = '';\n",
              "          dataTable['output_type'] = 'display_data';\n",
              "          await google.colab.output.renderOutput(dataTable, element);\n",
              "          const docLink = document.createElement('div');\n",
              "          docLink.innerHTML = docLinkHtml;\n",
              "          element.appendChild(docLink);\n",
              "        }\n",
              "      </script>\n",
              "    </div>\n",
              "  </div>\n",
              "  "
            ]
          },
          "metadata": {},
          "execution_count": 838
        }
      ]
    },
    {
      "cell_type": "markdown",
      "source": [
        "Todos os clientes com valores totais \"missing\" têm também tenure = 0, ou seja, nenhum deles têm ao menos 1 mês completo de empresa. \n",
        "\n",
        "O input de 0 nos valores missing é o mais adequado? É consistente com o restante dos dados?"
      ],
      "metadata": {
        "id": "2E3HCGK3mmQ4"
      }
    },
    {
      "cell_type": "code",
      "source": [
        "#Copiando para input e análise\n",
        "tc = df[\"TotalCharges\"].copy()\n",
        "tc"
      ],
      "metadata": {
        "colab": {
          "base_uri": "https://localhost:8080/"
        },
        "id": "k_2oAqIOnURi",
        "outputId": "b0ca22e9-29d1-4271-e844-b5c6c0bd88dd"
      },
      "execution_count": null,
      "outputs": [
        {
          "output_type": "execute_result",
          "data": {
            "text/plain": [
              "0         29.85\n",
              "1        1889.5\n",
              "2        108.15\n",
              "3       1840.75\n",
              "4        151.65\n",
              "         ...   \n",
              "7038     1990.5\n",
              "7039     7362.9\n",
              "7040     346.45\n",
              "7041      306.6\n",
              "7042     6844.5\n",
              "Name: TotalCharges, Length: 7043, dtype: object"
            ]
          },
          "metadata": {},
          "execution_count": 839
        }
      ]
    },
    {
      "cell_type": "code",
      "source": [
        "tc.replace(\" \", \"0\", inplace=True)"
      ],
      "metadata": {
        "id": "KS8MIc7i0eaS"
      },
      "execution_count": null,
      "outputs": []
    },
    {
      "cell_type": "code",
      "source": [
        "tc.describe()"
      ],
      "metadata": {
        "colab": {
          "base_uri": "https://localhost:8080/"
        },
        "id": "IFnykEQP0vDh",
        "outputId": "53f906f0-7075-4a14-be08-a2b8ee700d7b"
      },
      "execution_count": null,
      "outputs": [
        {
          "output_type": "execute_result",
          "data": {
            "text/plain": [
              "count     7043\n",
              "unique    6531\n",
              "top          0\n",
              "freq        11\n",
              "Name: TotalCharges, dtype: object"
            ]
          },
          "metadata": {},
          "execution_count": 841
        }
      ]
    },
    {
      "cell_type": "code",
      "source": [
        "#Configurando para o tipo correto.\n",
        "tc = tc.astype(float)"
      ],
      "metadata": {
        "id": "yHEq3T-W1VMq"
      },
      "execution_count": null,
      "outputs": []
    },
    {
      "cell_type": "code",
      "source": [
        "#Plotando a distribuição com histograma\n",
        "plt.figure(figsize = [8,8])\n",
        "count, edges , bar = plt.hist(tc, edgecolor=\"white\", color = ['#199fb1']) \n",
        "\n",
        "plt.bar_label(bar)\n",
        "plt.ylim(0,3000)\n",
        "plt.title(\"Distribuição - pagamentos totais\")\n",
        "plt.ylabel(\"Frequência\")\n",
        "plt.xlabel(\"Valores totais\")"
      ],
      "metadata": {
        "colab": {
          "base_uri": "https://localhost:8080/",
          "height": 740
        },
        "id": "5aQUmNev2Ptg",
        "outputId": "d4ce0256-8766-4b1b-d70b-dd776aa38d65"
      },
      "execution_count": null,
      "outputs": [
        {
          "output_type": "execute_result",
          "data": {
            "text/plain": [
              "Text(0.5, 0, 'Valores totais')"
            ]
          },
          "metadata": {},
          "execution_count": 843
        },
        {
          "output_type": "display_data",
          "data": {
            "text/plain": [
              "<Figure size 800x800 with 1 Axes>"
            ],
            "image/png": "[encoded data removed]"
          },
          "metadata": {}
        }
      ]
    },
    {
      "cell_type": "markdown",
      "source": [
        "## Análise multivariada\n",
        "\n",
        "Está sessão destina-se a análise das features em contraste com a feature target (churn)."
      ],
      "metadata": {
        "id": "t-8MHqF-oE5k"
      }
    },
    {
      "cell_type": "markdown",
      "source": [
        "#Gênero x Churn"
      ],
      "metadata": {
        "id": "5ZI8dTKt1CD-"
      }
    },
    {
      "cell_type": "code",
      "source": [
        "ct = pd.crosstab(df.gender, df.Churn)\n",
        "ct"
      ],
      "metadata": {
        "colab": {
          "base_uri": "https://localhost:8080/",
          "height": 144
        },
        "id": "AIGElLNA1BnQ",
        "outputId": "2fdc6a1f-2797-404c-c1f8-1d6f3743a582"
      },
      "execution_count": null,
      "outputs": [
        {
          "output_type": "execute_result",
          "data": {
            "text/plain": [
              "Churn     No  Yes\n",
              "gender           \n",
              "Female  2549  939\n",
              "Male    2625  930"
            ],
            "text/html": [
              "\n",
              "  <div id=\"df-e4b62294-6cd3-4d16-b84d-72be950be6fb\">\n",
              "    <div class=\"colab-df-container\">\n",
              "      <div>\n",
              "<style scoped>\n",
              "    .dataframe tbody tr th:only-of-type {\n",
              "        vertical-align: middle;\n",
              "    }\n",
              "\n",
              "    .dataframe tbody tr th {\n",
              "        vertical-align: top;\n",
              "    }\n",
              "\n",
              "    .dataframe thead th {\n",
              "        text-align: right;\n",
              "    }\n",
              "</style>\n",
              "<table border=\"1\" class=\"dataframe\">\n",
              "  <thead>\n",
              "    <tr style=\"text-align: right;\">\n",
              "      <th>Churn</th>\n",
              "      <th>No</th>\n",
              "      <th>Yes</th>\n",
              "    </tr>\n",
              "    <tr>\n",
              "      <th>gender</th>\n",
              "      <th></th>\n",
              "      <th></th>\n",
              "    </tr>\n",
              "  </thead>\n",
              "  <tbody>\n",
              "    <tr>\n",
              "      <th>Female</th>\n",
              "      <td>2549</td>\n",
              "      <td>939</td>\n",
              "    </tr>\n",
              "    <tr>\n",
              "      <th>Male</th>\n",
              "      <td>2625</td>\n",
              "      <td>930</td>\n",
              "    </tr>\n",
              "  </tbody>\n",
              "</table>\n",
              "</div>\n",
              "      <button class=\"colab-df-convert\" onclick=\"convertToInteractive('df-e4b62294-6cd3-4d16-b84d-72be950be6fb')\"\n",
              "              title=\"Convert this dataframe to an interactive table.\"\n",
              "              style=\"display:none;\">\n",
              "        \n",
              "  <svg xmlns=\"http://www.w3.org/2000/svg\" height=\"24px\"viewBox=\"0 0 24 24\"\n",
              "       width=\"24px\">\n",
              "    <path d=\"M0 0h24v24H0V0z\" fill=\"none\"/>\n",
              "    <path d=\"M18.56 5.44l.94 2.06.94-2.06 2.06-.94-2.06-.94-.94-2.06-.94 2.06-2.06.94zm-11 1L8.5 8.5l.94-2.06 2.06-.94-2.06-.94L8.5 2.5l-.94 2.06-2.06.94zm10 10l.94 2.06.94-2.06 2.06-.94-2.06-.94-.94-2.06-.94 2.06-2.06.94z\"/><path d=\"M17.41 7.96l-1.37-1.37c-.4-.4-.92-.59-1.43-.59-.52 0-1.04.2-1.43.59L10.3 9.45l-7.72 7.72c-.78.78-.78 2.05 0 2.83L4 21.41c.39.39.9.59 1.41.59.51 0 1.02-.2 1.41-.59l7.78-7.78 2.81-2.81c.8-.78.8-2.07 0-2.86zM5.41 20L4 18.59l7.72-7.72 1.47 1.35L5.41 20z\"/>\n",
              "  </svg>\n",
              "      </button>\n",
              "      \n",
              "  <style>\n",
              "    .colab-df-container {\n",
              "      display:flex;\n",
              "      flex-wrap:wrap;\n",
              "      gap: 12px;\n",
              "    }\n",
              "\n",
              "    .colab-df-convert {\n",
              "      background-color: #E8F0FE;\n",
              "      border: none;\n",
              "      border-radius: 50%;\n",
              "      cursor: pointer;\n",
              "      display: none;\n",
              "      fill: #1967D2;\n",
              "      height: 32px;\n",
              "      padding: 0 0 0 0;\n",
              "      width: 32px;\n",
              "    }\n",
              "\n",
              "    .colab-df-convert:hover {\n",
              "      background-color: #E2EBFA;\n",
              "      box-shadow: 0px 1px 2px rgba(60, 64, 67, 0.3), 0px 1px 3px 1px rgba(60, 64, 67, 0.15);\n",
              "      fill: #174EA6;\n",
              "    }\n",
              "\n",
              "    [theme=dark] .colab-df-convert {\n",
              "      background-color: #3B4455;\n",
              "      fill: #D2E3FC;\n",
              "    }\n",
              "\n",
              "    [theme=dark] .colab-df-convert:hover {\n",
              "      background-color: #434B5C;\n",
              "      box-shadow: 0px 1px 3px 1px rgba(0, 0, 0, 0.15);\n",
              "      filter: drop-shadow(0px 1px 2px rgba(0, 0, 0, 0.3));\n",
              "      fill: #FFFFFF;\n",
              "    }\n",
              "  </style>\n",
              "\n",
              "      <script>\n",
              "        const buttonEl =\n",
              "          document.querySelector('#df-e4b62294-6cd3-4d16-b84d-72be950be6fb button.colab-df-convert');\n",
              "        buttonEl.style.display =\n",
              "          google.colab.kernel.accessAllowed ? 'block' : 'none';\n",
              "\n",
              "        async function convertToInteractive(key) {\n",
              "          const element = document.querySelector('#df-e4b62294-6cd3-4d16-b84d-72be950be6fb');\n",
              "          const dataTable =\n",
              "            await google.colab.kernel.invokeFunction('convertToInteractive',\n",
              "                                                     [key], {});\n",
              "          if (!dataTable) return;\n",
              "\n",
              "          const docLinkHtml = 'Like what you see? Visit the ' +\n",
              "            '<a target=\"_blank\" href=https://colab.research.google.com/notebooks/data_table.ipynb>data table notebook</a>'\n",
              "            + ' to learn more about interactive tables.';\n",
              "          element.innerHTML = '';\n",
              "          dataTable['output_type'] = 'display_data';\n",
              "          await google.colab.output.renderOutput(dataTable, element);\n",
              "          const docLink = document.createElement('div');\n",
              "          docLink.innerHTML = docLinkHtml;\n",
              "          element.appendChild(docLink);\n",
              "        }\n",
              "      </script>\n",
              "    </div>\n",
              "  </div>\n",
              "  "
            ]
          },
          "metadata": {},
          "execution_count": 844
        }
      ]
    },
    {
      "cell_type": "code",
      "source": [
        "#plotando\n",
        "colors = ['#0d5c75','#199fb1']\n",
        "crosstab_plot = ct.plot(kind = 'bar', stacked = True, color = colors )\n",
        "\n",
        "\n",
        "plt.title('Gênero x Churn')\n",
        "plt.xticks(np.arange(2), [\"Feminino\", \"Masculino\"], rotation = 0)\n",
        "plt.xlabel(\"Gênero\")\n",
        "plt.ylim(0,4000)\n",
        "crosstab_plot.legend(title = 'Churn', labels = ['Não', 'Sim'])\n",
        "\n",
        "for c in crosstab_plot.containers: #acessando os containers\n",
        "  crosstab_plot.bar_label(c, label_type='center') #adicionando rótulos com bar_label\n",
        "\n"
      ],
      "metadata": {
        "colab": {
          "base_uri": "https://localhost:8080/",
          "height": 477
        },
        "id": "o4XlkXsB4EGI",
        "outputId": "53c0a02a-5e91-479c-aae3-108d0e4712ab"
      },
      "execution_count": null,
      "outputs": [
        {
          "output_type": "display_data",
          "data": {
            "text/plain": [
              "<Figure size 640x480 with 1 Axes>"
            ],
            "image/png": "[encoded data removed]"
          },
          "metadata": {}
        }
      ]
    },
    {
      "cell_type": "markdown",
      "source": [
        "Aparentemente o gênero não é um fator que influencia o churn."
      ],
      "metadata": {
        "id": "abZrVGXKAt7Z"
      }
    },
    {
      "cell_type": "markdown",
      "source": [
        "##Senior x Churn\n",
        "\n"
      ],
      "metadata": {
        "id": "OSHBlpyJOazo"
      }
    },
    {
      "cell_type": "code",
      "source": [
        "#Tabela cruzada\n",
        "ct_seinor_churn = pd.crosstab(df.SeniorCitizen, df.Churn)\n",
        "ct_seinor_churn"
      ],
      "metadata": {
        "colab": {
          "base_uri": "https://localhost:8080/",
          "height": 144
        },
        "id": "Yggu4Fy0OohZ",
        "outputId": "7ba17983-8b96-4f62-a3b1-a3c3b90f14b5"
      },
      "execution_count": 878,
      "outputs": [
        {
          "output_type": "execute_result",
          "data": {
            "text/plain": [
              "Churn            No   Yes\n",
              "SeniorCitizen            \n",
              "0              4508  1393\n",
              "1               666   476"
            ],
            "text/html": [
              "\n",
              "  <div id=\"df-8137aff7-c59e-4911-a07a-5c0b8c54164e\">\n",
              "    <div class=\"colab-df-container\">\n",
              "      <div>\n",
              "<style scoped>\n",
              "    .dataframe tbody tr th:only-of-type {\n",
              "        vertical-align: middle;\n",
              "    }\n",
              "\n",
              "    .dataframe tbody tr th {\n",
              "        vertical-align: top;\n",
              "    }\n",
              "\n",
              "    .dataframe thead th {\n",
              "        text-align: right;\n",
              "    }\n",
              "</style>\n",
              "<table border=\"1\" class=\"dataframe\">\n",
              "  <thead>\n",
              "    <tr style=\"text-align: right;\">\n",
              "      <th>Churn</th>\n",
              "      <th>No</th>\n",
              "      <th>Yes</th>\n",
              "    </tr>\n",
              "    <tr>\n",
              "      <th>SeniorCitizen</th>\n",
              "      <th></th>\n",
              "      <th></th>\n",
              "    </tr>\n",
              "  </thead>\n",
              "  <tbody>\n",
              "    <tr>\n",
              "      <th>0</th>\n",
              "      <td>4508</td>\n",
              "      <td>1393</td>\n",
              "    </tr>\n",
              "    <tr>\n",
              "      <th>1</th>\n",
              "      <td>666</td>\n",
              "      <td>476</td>\n",
              "    </tr>\n",
              "  </tbody>\n",
              "</table>\n",
              "</div>\n",
              "      <button class=\"colab-df-convert\" onclick=\"convertToInteractive('df-8137aff7-c59e-4911-a07a-5c0b8c54164e')\"\n",
              "              title=\"Convert this dataframe to an interactive table.\"\n",
              "              style=\"display:none;\">\n",
              "        \n",
              "  <svg xmlns=\"http://www.w3.org/2000/svg\" height=\"24px\"viewBox=\"0 0 24 24\"\n",
              "       width=\"24px\">\n",
              "    <path d=\"M0 0h24v24H0V0z\" fill=\"none\"/>\n",
              "    <path d=\"M18.56 5.44l.94 2.06.94-2.06 2.06-.94-2.06-.94-.94-2.06-.94 2.06-2.06.94zm-11 1L8.5 8.5l.94-2.06 2.06-.94-2.06-.94L8.5 2.5l-.94 2.06-2.06.94zm10 10l.94 2.06.94-2.06 2.06-.94-2.06-.94-.94-2.06-.94 2.06-2.06.94z\"/><path d=\"M17.41 7.96l-1.37-1.37c-.4-.4-.92-.59-1.43-.59-.52 0-1.04.2-1.43.59L10.3 9.45l-7.72 7.72c-.78.78-.78 2.05 0 2.83L4 21.41c.39.39.9.59 1.41.59.51 0 1.02-.2 1.41-.59l7.78-7.78 2.81-2.81c.8-.78.8-2.07 0-2.86zM5.41 20L4 18.59l7.72-7.72 1.47 1.35L5.41 20z\"/>\n",
              "  </svg>\n",
              "      </button>\n",
              "      \n",
              "  <style>\n",
              "    .colab-df-container {\n",
              "      display:flex;\n",
              "      flex-wrap:wrap;\n",
              "      gap: 12px;\n",
              "    }\n",
              "\n",
              "    .colab-df-convert {\n",
              "      background-color: #E8F0FE;\n",
              "      border: none;\n",
              "      border-radius: 50%;\n",
              "      cursor: pointer;\n",
              "      display: none;\n",
              "      fill: #1967D2;\n",
              "      height: 32px;\n",
              "      padding: 0 0 0 0;\n",
              "      width: 32px;\n",
              "    }\n",
              "\n",
              "    .colab-df-convert:hover {\n",
              "      background-color: #E2EBFA;\n",
              "      box-shadow: 0px 1px 2px rgba(60, 64, 67, 0.3), 0px 1px 3px 1px rgba(60, 64, 67, 0.15);\n",
              "      fill: #174EA6;\n",
              "    }\n",
              "\n",
              "    [theme=dark] .colab-df-convert {\n",
              "      background-color: #3B4455;\n",
              "      fill: #D2E3FC;\n",
              "    }\n",
              "\n",
              "    [theme=dark] .colab-df-convert:hover {\n",
              "      background-color: #434B5C;\n",
              "      box-shadow: 0px 1px 3px 1px rgba(0, 0, 0, 0.15);\n",
              "      filter: drop-shadow(0px 1px 2px rgba(0, 0, 0, 0.3));\n",
              "      fill: #FFFFFF;\n",
              "    }\n",
              "  </style>\n",
              "\n",
              "      <script>\n",
              "        const buttonEl =\n",
              "          document.querySelector('#df-8137aff7-c59e-4911-a07a-5c0b8c54164e button.colab-df-convert');\n",
              "        buttonEl.style.display =\n",
              "          google.colab.kernel.accessAllowed ? 'block' : 'none';\n",
              "\n",
              "        async function convertToInteractive(key) {\n",
              "          const element = document.querySelector('#df-8137aff7-c59e-4911-a07a-5c0b8c54164e');\n",
              "          const dataTable =\n",
              "            await google.colab.kernel.invokeFunction('convertToInteractive',\n",
              "                                                     [key], {});\n",
              "          if (!dataTable) return;\n",
              "\n",
              "          const docLinkHtml = 'Like what you see? Visit the ' +\n",
              "            '<a target=\"_blank\" href=https://colab.research.google.com/notebooks/data_table.ipynb>data table notebook</a>'\n",
              "            + ' to learn more about interactive tables.';\n",
              "          element.innerHTML = '';\n",
              "          dataTable['output_type'] = 'display_data';\n",
              "          await google.colab.output.renderOutput(dataTable, element);\n",
              "          const docLink = document.createElement('div');\n",
              "          docLink.innerHTML = docLinkHtml;\n",
              "          element.appendChild(docLink);\n",
              "        }\n",
              "      </script>\n",
              "    </div>\n",
              "  </div>\n",
              "  "
            ]
          },
          "metadata": {},
          "execution_count": 878
        }
      ]
    },
    {
      "cell_type": "code",
      "source": [
        "ctsenior_plot = ct_seinor_churn.plot(kind='bar', stacked = True, color = colors)\n",
        "\n",
        "plt.title(\"Senior x Churn\")\n",
        "plt.ylim(0, 6500)\n",
        "plt.xlabel(\"Senior\")\n",
        "plt.xticks(np.arange(2), [\"não-idoso\", \"idoso\"], rotation = 0)\n",
        "ctsenior_plot.legend(title = \"Churn\", labels = [\"Não\", \"Sim\"]  )\n",
        "\n",
        "for c in ctsenior_plot.containers: \n",
        "  ctsenior_plot.bar_label(c, label_type = 'center')\n"
      ],
      "metadata": {
        "colab": {
          "base_uri": "https://localhost:8080/",
          "height": 477
        },
        "id": "wl-ezBl6O4gI",
        "outputId": "3cbd03ce-4935-46bc-ef6f-c2542e240f1e"
      },
      "execution_count": 879,
      "outputs": [
        {
          "output_type": "display_data",
          "data": {
            "text/plain": [
              "<Figure size 640x480 with 1 Axes>"
            ],
            "image/png": "[encoded data removed]"
          },
          "metadata": {}
        }
      ]
    },
    {
      "cell_type": "code",
      "source": [
        "df.columns"
      ],
      "metadata": {
        "colab": {
          "base_uri": "https://localhost:8080/"
        },
        "id": "lhl04XmIOQXJ",
        "outputId": "df0b924a-ab0b-439c-dcaf-8faf616f1792"
      },
      "execution_count": null,
      "outputs": [
        {
          "output_type": "execute_result",
          "data": {
            "text/plain": [
              "Index(['customerID', 'gender', 'SeniorCitizen', 'Partner', 'Dependents',\n",
              "       'tenure', 'PhoneService', 'MultipleLines', 'InternetService',\n",
              "       'OnlineSecurity', 'OnlineBackup', 'DeviceProtection', 'TechSupport',\n",
              "       'StreamingTV', 'StreamingMovies', 'Contract', 'PaperlessBilling',\n",
              "       'PaymentMethod', 'MonthlyCharges', 'TotalCharges', 'Churn'],\n",
              "      dtype='object')"
            ]
          },
          "metadata": {},
          "execution_count": 860
        }
      ]
    }
  ],
  "metadata": {
    "colab": {
      "provenance": []
    },
    "kernelspec": {
      "display_name": "Python 3",
      "name": "python3"
    },
    "language_info": {
      "name": "python"
    }
  },
  "nbformat": 4,
  "nbformat_minor": 0
}