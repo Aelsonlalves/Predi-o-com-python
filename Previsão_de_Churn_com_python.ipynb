{
  "cells": [
    {
      "cell_type": "markdown",
      "metadata": {
        "id": "WGXuIvvpAJxD"
      },
      "source": [
        "#0 - Introdução\n",
        "\n",
        "**Objetivo**\n",
        "\n",
        "Visamos desenvolver análise para compreender melhor e prever a ocorrência de churn no contexto de telecon, e assim conseguir auxiliar ao desenvolvimento de estratégias que permitam mitigar churn e, consequentemente, potencializar a receita da empresa.\n",
        "\n",
        "Também é de nosso interesse responder perguntas tais como:\n",
        "\n",
        "- Ter dependentes tem impacto no churn?\n",
        "- O estado civil do cliente impacta o churn?\n",
        "- Quais tipos de contratos resultam em maior permanencia no serviço da empresa?\n",
        "- O gênero e idade impactam no churn?"
      ]
    },
    {
      "cell_type": "markdown",
      "metadata": {
        "id": "cNzipuCHMMxd"
      },
      "source": [
        "#1 - Bibliotecas"
      ]
    },
    {
      "cell_type": "code",
      "execution_count": 1,
      "metadata": {
        "id": "k0xd7Htuf4JI"
      },
      "outputs": [],
      "source": [
        "#Análise de dados\n",
        "import pandas as pd\n",
        "import numpy as np\n",
        "\n",
        "#Visualização\n",
        "import seaborn as sns\n",
        "import matplotlib.pyplot as plt\n",
        "#import sweetviz as sv # !pip install sweetviz\n",
        "\n",
        "#Modelagem\n",
        "from sklearn.model_selection import train_test_split, GridSearchCV, ParameterGrid, KFold\n",
        "from sklearn.metrics import roc_auc_score\n",
        "from sklearn.preprocessing import StandardScaler\n",
        "from sklearn.pipeline import Pipeline\n",
        "from sklearn.ensemble import RandomForestClassifier\n",
        "from sklearn.preprocessing import LabelEncoder\n",
        "\n",
        "\n",
        "## Configurações ##\n",
        "pd.set_option(\"max_colwidth\", 1000)\n",
        "pd.options.display.float_format = \"{:,.2f}\".format\n",
        "pd.options.plotting.backend = \"matplotlib\"\n",
        "plt.style.use(\"ggplot\")\n"
      ]
    },
    {
      "cell_type": "code",
      "execution_count": 2,
      "metadata": {
        "id": "YdAe-V6egszK"
      },
      "outputs": [],
      "source": [
        "#Leitura do arquivo contendo os dados\n",
        "df = pd.read_csv('WA_Fn-UseC_-Telco-Customer-Churn.csv')"
      ]
    },
    {
      "cell_type": "markdown",
      "metadata": {
        "id": "1IVwKlTlkF_R"
      },
      "source": [
        "# 2 - Visão geral e primeiras Inspecções\n"
      ]
    },
    {
      "cell_type": "code",
      "execution_count": 3,
      "metadata": {
        "colab": {
          "base_uri": "https://localhost:8080/",
          "height": 386
        },
        "id": "9RHvIlalhCbA",
        "outputId": "4481a1bb-dcc7-400f-d17f-dbc1f34f02e3"
      },
      "outputs": [
        {
          "output_type": "execute_result",
          "data": {
            "text/plain": [
              "   customerID  gender  SeniorCitizen Partner Dependents  tenure PhoneService  \\\n",
              "0  7590-VHVEG  Female              0     Yes         No       1           No   \n",
              "1  5575-GNVDE    Male              0      No         No      34          Yes   \n",
              "2  3668-QPYBK    Male              0      No         No       2          Yes   \n",
              "3  7795-CFOCW    Male              0      No         No      45           No   \n",
              "4  9237-HQITU  Female              0      No         No       2          Yes   \n",
              "\n",
              "      MultipleLines InternetService OnlineSecurity  ... DeviceProtection  \\\n",
              "0  No phone service             DSL             No  ...               No   \n",
              "1                No             DSL            Yes  ...              Yes   \n",
              "2                No             DSL            Yes  ...               No   \n",
              "3  No phone service             DSL            Yes  ...              Yes   \n",
              "4                No     Fiber optic             No  ...               No   \n",
              "\n",
              "  TechSupport StreamingTV StreamingMovies        Contract PaperlessBilling  \\\n",
              "0          No          No              No  Month-to-month              Yes   \n",
              "1          No          No              No        One year               No   \n",
              "2          No          No              No  Month-to-month              Yes   \n",
              "3         Yes          No              No        One year               No   \n",
              "4          No          No              No  Month-to-month              Yes   \n",
              "\n",
              "               PaymentMethod MonthlyCharges  TotalCharges Churn  \n",
              "0           Electronic check          29.85         29.85    No  \n",
              "1               Mailed check          56.95        1889.5    No  \n",
              "2               Mailed check          53.85        108.15   Yes  \n",
              "3  Bank transfer (automatic)          42.30       1840.75    No  \n",
              "4           Electronic check          70.70        151.65   Yes  \n",
              "\n",
              "[5 rows x 21 columns]"
            ],
            "text/html": [
              "\n",
              "  <div id=\"df-2e5c782c-20c1-42eb-ae75-60d46d1b79d8\">\n",
              "    <div class=\"colab-df-container\">\n",
              "      <div>\n",
              "<style scoped>\n",
              "    .dataframe tbody tr th:only-of-type {\n",
              "        vertical-align: middle;\n",
              "    }\n",
              "\n",
              "    .dataframe tbody tr th {\n",
              "        vertical-align: top;\n",
              "    }\n",
              "\n",
              "    .dataframe thead th {\n",
              "        text-align: right;\n",
              "    }\n",
              "</style>\n",
              "<table border=\"1\" class=\"dataframe\">\n",
              "  <thead>\n",
              "    <tr style=\"text-align: right;\">\n",
              "      <th></th>\n",
              "      <th>customerID</th>\n",
              "      <th>gender</th>\n",
              "      <th>SeniorCitizen</th>\n",
              "      <th>Partner</th>\n",
              "      <th>Dependents</th>\n",
              "      <th>tenure</th>\n",
              "      <th>PhoneService</th>\n",
              "      <th>MultipleLines</th>\n",
              "      <th>InternetService</th>\n",
              "      <th>OnlineSecurity</th>\n",
              "      <th>...</th>\n",
              "      <th>DeviceProtection</th>\n",
              "      <th>TechSupport</th>\n",
              "      <th>StreamingTV</th>\n",
              "      <th>StreamingMovies</th>\n",
              "      <th>Contract</th>\n",
              "      <th>PaperlessBilling</th>\n",
              "      <th>PaymentMethod</th>\n",
              "      <th>MonthlyCharges</th>\n",
              "      <th>TotalCharges</th>\n",
              "      <th>Churn</th>\n",
              "    </tr>\n",
              "  </thead>\n",
              "  <tbody>\n",
              "    <tr>\n",
              "      <th>0</th>\n",
              "      <td>7590-VHVEG</td>\n",
              "      <td>Female</td>\n",
              "      <td>0</td>\n",
              "      <td>Yes</td>\n",
              "      <td>No</td>\n",
              "      <td>1</td>\n",
              "      <td>No</td>\n",
              "      <td>No phone service</td>\n",
              "      <td>DSL</td>\n",
              "      <td>No</td>\n",
              "      <td>...</td>\n",
              "      <td>No</td>\n",
              "      <td>No</td>\n",
              "      <td>No</td>\n",
              "      <td>No</td>\n",
              "      <td>Month-to-month</td>\n",
              "      <td>Yes</td>\n",
              "      <td>Electronic check</td>\n",
              "      <td>29.85</td>\n",
              "      <td>29.85</td>\n",
              "      <td>No</td>\n",
              "    </tr>\n",
              "    <tr>\n",
              "      <th>1</th>\n",
              "      <td>5575-GNVDE</td>\n",
              "      <td>Male</td>\n",
              "      <td>0</td>\n",
              "      <td>No</td>\n",
              "      <td>No</td>\n",
              "      <td>34</td>\n",
              "      <td>Yes</td>\n",
              "      <td>No</td>\n",
              "      <td>DSL</td>\n",
              "      <td>Yes</td>\n",
              "      <td>...</td>\n",
              "      <td>Yes</td>\n",
              "      <td>No</td>\n",
              "      <td>No</td>\n",
              "      <td>No</td>\n",
              "      <td>One year</td>\n",
              "      <td>No</td>\n",
              "      <td>Mailed check</td>\n",
              "      <td>56.95</td>\n",
              "      <td>1889.5</td>\n",
              "      <td>No</td>\n",
              "    </tr>\n",
              "    <tr>\n",
              "      <th>2</th>\n",
              "      <td>3668-QPYBK</td>\n",
              "      <td>Male</td>\n",
              "      <td>0</td>\n",
              "      <td>No</td>\n",
              "      <td>No</td>\n",
              "      <td>2</td>\n",
              "      <td>Yes</td>\n",
              "      <td>No</td>\n",
              "      <td>DSL</td>\n",
              "      <td>Yes</td>\n",
              "      <td>...</td>\n",
              "      <td>No</td>\n",
              "      <td>No</td>\n",
              "      <td>No</td>\n",
              "      <td>No</td>\n",
              "      <td>Month-to-month</td>\n",
              "      <td>Yes</td>\n",
              "      <td>Mailed check</td>\n",
              "      <td>53.85</td>\n",
              "      <td>108.15</td>\n",
              "      <td>Yes</td>\n",
              "    </tr>\n",
              "    <tr>\n",
              "      <th>3</th>\n",
              "      <td>7795-CFOCW</td>\n",
              "      <td>Male</td>\n",
              "      <td>0</td>\n",
              "      <td>No</td>\n",
              "      <td>No</td>\n",
              "      <td>45</td>\n",
              "      <td>No</td>\n",
              "      <td>No phone service</td>\n",
              "      <td>DSL</td>\n",
              "      <td>Yes</td>\n",
              "      <td>...</td>\n",
              "      <td>Yes</td>\n",
              "      <td>Yes</td>\n",
              "      <td>No</td>\n",
              "      <td>No</td>\n",
              "      <td>One year</td>\n",
              "      <td>No</td>\n",
              "      <td>Bank transfer (automatic)</td>\n",
              "      <td>42.30</td>\n",
              "      <td>1840.75</td>\n",
              "      <td>No</td>\n",
              "    </tr>\n",
              "    <tr>\n",
              "      <th>4</th>\n",
              "      <td>9237-HQITU</td>\n",
              "      <td>Female</td>\n",
              "      <td>0</td>\n",
              "      <td>No</td>\n",
              "      <td>No</td>\n",
              "      <td>2</td>\n",
              "      <td>Yes</td>\n",
              "      <td>No</td>\n",
              "      <td>Fiber optic</td>\n",
              "      <td>No</td>\n",
              "      <td>...</td>\n",
              "      <td>No</td>\n",
              "      <td>No</td>\n",
              "      <td>No</td>\n",
              "      <td>No</td>\n",
              "      <td>Month-to-month</td>\n",
              "      <td>Yes</td>\n",
              "      <td>Electronic check</td>\n",
              "      <td>70.70</td>\n",
              "      <td>151.65</td>\n",
              "      <td>Yes</td>\n",
              "    </tr>\n",
              "  </tbody>\n",
              "</table>\n",
              "<p>5 rows × 21 columns</p>\n",
              "</div>\n",
              "      <button class=\"colab-df-convert\" onclick=\"convertToInteractive('df-2e5c782c-20c1-42eb-ae75-60d46d1b79d8')\"\n",
              "              title=\"Convert this dataframe to an interactive table.\"\n",
              "              style=\"display:none;\">\n",
              "        \n",
              "  <svg xmlns=\"http://www.w3.org/2000/svg\" height=\"24px\"viewBox=\"0 0 24 24\"\n",
              "       width=\"24px\">\n",
              "    <path d=\"M0 0h24v24H0V0z\" fill=\"none\"/>\n",
              "    <path d=\"M18.56 5.44l.94 2.06.94-2.06 2.06-.94-2.06-.94-.94-2.06-.94 2.06-2.06.94zm-11 1L8.5 8.5l.94-2.06 2.06-.94-2.06-.94L8.5 2.5l-.94 2.06-2.06.94zm10 10l.94 2.06.94-2.06 2.06-.94-2.06-.94-.94-2.06-.94 2.06-2.06.94z\"/><path d=\"M17.41 7.96l-1.37-1.37c-.4-.4-.92-.59-1.43-.59-.52 0-1.04.2-1.43.59L10.3 9.45l-7.72 7.72c-.78.78-.78 2.05 0 2.83L4 21.41c.39.39.9.59 1.41.59.51 0 1.02-.2 1.41-.59l7.78-7.78 2.81-2.81c.8-.78.8-2.07 0-2.86zM5.41 20L4 18.59l7.72-7.72 1.47 1.35L5.41 20z\"/>\n",
              "  </svg>\n",
              "      </button>\n",
              "      \n",
              "  <style>\n",
              "    .colab-df-container {\n",
              "      display:flex;\n",
              "      flex-wrap:wrap;\n",
              "      gap: 12px;\n",
              "    }\n",
              "\n",
              "    .colab-df-convert {\n",
              "      background-color: #E8F0FE;\n",
              "      border: none;\n",
              "      border-radius: 50%;\n",
              "      cursor: pointer;\n",
              "      display: none;\n",
              "      fill: #1967D2;\n",
              "      height: 32px;\n",
              "      padding: 0 0 0 0;\n",
              "      width: 32px;\n",
              "    }\n",
              "\n",
              "    .colab-df-convert:hover {\n",
              "      background-color: #E2EBFA;\n",
              "      box-shadow: 0px 1px 2px rgba(60, 64, 67, 0.3), 0px 1px 3px 1px rgba(60, 64, 67, 0.15);\n",
              "      fill: #174EA6;\n",
              "    }\n",
              "\n",
              "    [theme=dark] .colab-df-convert {\n",
              "      background-color: #3B4455;\n",
              "      fill: #D2E3FC;\n",
              "    }\n",
              "\n",
              "    [theme=dark] .colab-df-convert:hover {\n",
              "      background-color: #434B5C;\n",
              "      box-shadow: 0px 1px 3px 1px rgba(0, 0, 0, 0.15);\n",
              "      filter: drop-shadow(0px 1px 2px rgba(0, 0, 0, 0.3));\n",
              "      fill: #FFFFFF;\n",
              "    }\n",
              "  </style>\n",
              "\n",
              "      <script>\n",
              "        const buttonEl =\n",
              "          document.querySelector('#df-2e5c782c-20c1-42eb-ae75-60d46d1b79d8 button.colab-df-convert');\n",
              "        buttonEl.style.display =\n",
              "          google.colab.kernel.accessAllowed ? 'block' : 'none';\n",
              "\n",
              "        async function convertToInteractive(key) {\n",
              "          const element = document.querySelector('#df-2e5c782c-20c1-42eb-ae75-60d46d1b79d8');\n",
              "          const dataTable =\n",
              "            await google.colab.kernel.invokeFunction('convertToInteractive',\n",
              "                                                     [key], {});\n",
              "          if (!dataTable) return;\n",
              "\n",
              "          const docLinkHtml = 'Like what you see? Visit the ' +\n",
              "            '<a target=\"_blank\" href=https://colab.research.google.com/notebooks/data_table.ipynb>data table notebook</a>'\n",
              "            + ' to learn more about interactive tables.';\n",
              "          element.innerHTML = '';\n",
              "          dataTable['output_type'] = 'display_data';\n",
              "          await google.colab.output.renderOutput(dataTable, element);\n",
              "          const docLink = document.createElement('div');\n",
              "          docLink.innerHTML = docLinkHtml;\n",
              "          element.appendChild(docLink);\n",
              "        }\n",
              "      </script>\n",
              "    </div>\n",
              "  </div>\n",
              "  "
            ]
          },
          "metadata": {},
          "execution_count": 3
        }
      ],
      "source": [
        "df.head()"
      ]
    },
    {
      "cell_type": "code",
      "execution_count": 4,
      "metadata": {
        "colab": {
          "base_uri": "https://localhost:8080/"
        },
        "id": "XRn2Lr-8hhan",
        "outputId": "e753983b-f665-4650-a442-c92c7560592c"
      },
      "outputs": [
        {
          "output_type": "stream",
          "name": "stdout",
          "text": [
            "<class 'pandas.core.frame.DataFrame'>\n",
            "RangeIndex: 7043 entries, 0 to 7042\n",
            "Data columns (total 21 columns):\n",
            " #   Column            Non-Null Count  Dtype  \n",
            "---  ------            --------------  -----  \n",
            " 0   customerID        7043 non-null   object \n",
            " 1   gender            7043 non-null   object \n",
            " 2   SeniorCitizen     7043 non-null   int64  \n",
            " 3   Partner           7043 non-null   object \n",
            " 4   Dependents        7043 non-null   object \n",
            " 5   tenure            7043 non-null   int64  \n",
            " 6   PhoneService      7043 non-null   object \n",
            " 7   MultipleLines     7043 non-null   object \n",
            " 8   InternetService   7043 non-null   object \n",
            " 9   OnlineSecurity    7043 non-null   object \n",
            " 10  OnlineBackup      7043 non-null   object \n",
            " 11  DeviceProtection  7043 non-null   object \n",
            " 12  TechSupport       7043 non-null   object \n",
            " 13  StreamingTV       7043 non-null   object \n",
            " 14  StreamingMovies   7043 non-null   object \n",
            " 15  Contract          7043 non-null   object \n",
            " 16  PaperlessBilling  7043 non-null   object \n",
            " 17  PaymentMethod     7043 non-null   object \n",
            " 18  MonthlyCharges    7043 non-null   float64\n",
            " 19  TotalCharges      7043 non-null   object \n",
            " 20  Churn             7043 non-null   object \n",
            "dtypes: float64(1), int64(2), object(18)\n",
            "memory usage: 1.1+ MB\n"
          ]
        }
      ],
      "source": [
        "#Informações sobre as features\n",
        "df.info()"
      ]
    },
    {
      "cell_type": "code",
      "execution_count": 5,
      "metadata": {
        "colab": {
          "base_uri": "https://localhost:8080/"
        },
        "id": "mfAZw2m0yy2T",
        "outputId": "bdc1f090-c472-4621-a9e1-a09c3fb4a35e"
      },
      "outputs": [
        {
          "output_type": "execute_result",
          "data": {
            "text/plain": [
              "(7043, 21)"
            ]
          },
          "metadata": {},
          "execution_count": 5
        }
      ],
      "source": [
        "df.shape"
      ]
    },
    {
      "cell_type": "code",
      "execution_count": 6,
      "metadata": {
        "colab": {
          "base_uri": "https://localhost:8080/",
          "height": 505
        },
        "id": "0t5YH3tpiEdj",
        "outputId": "4cfa749f-49c8-46d3-838f-a8386a295061"
      },
      "outputs": [
        {
          "output_type": "execute_result",
          "data": {
            "text/plain": [
              "        customerID gender  SeniorCitizen Partner Dependents   tenure  \\\n",
              "count         7043   7043       7,043.00    7043       7043 7,043.00   \n",
              "unique        7043      2            NaN       2          2      NaN   \n",
              "top     7590-VHVEG   Male            NaN      No         No      NaN   \n",
              "freq             1   3555            NaN    3641       4933      NaN   \n",
              "mean           NaN    NaN           0.16     NaN        NaN    32.37   \n",
              "std            NaN    NaN           0.37     NaN        NaN    24.56   \n",
              "min            NaN    NaN           0.00     NaN        NaN     0.00   \n",
              "25%            NaN    NaN           0.00     NaN        NaN     9.00   \n",
              "50%            NaN    NaN           0.00     NaN        NaN    29.00   \n",
              "75%            NaN    NaN           0.00     NaN        NaN    55.00   \n",
              "max            NaN    NaN           1.00     NaN        NaN    72.00   \n",
              "\n",
              "       PhoneService MultipleLines InternetService OnlineSecurity  ...  \\\n",
              "count          7043          7043            7043           7043  ...   \n",
              "unique            2             3               3              3  ...   \n",
              "top             Yes            No     Fiber optic             No  ...   \n",
              "freq           6361          3390            3096           3498  ...   \n",
              "mean            NaN           NaN             NaN            NaN  ...   \n",
              "std             NaN           NaN             NaN            NaN  ...   \n",
              "min             NaN           NaN             NaN            NaN  ...   \n",
              "25%             NaN           NaN             NaN            NaN  ...   \n",
              "50%             NaN           NaN             NaN            NaN  ...   \n",
              "75%             NaN           NaN             NaN            NaN  ...   \n",
              "max             NaN           NaN             NaN            NaN  ...   \n",
              "\n",
              "       DeviceProtection TechSupport StreamingTV StreamingMovies  \\\n",
              "count              7043        7043        7043            7043   \n",
              "unique                3           3           3               3   \n",
              "top                  No          No          No              No   \n",
              "freq               3095        3473        2810            2785   \n",
              "mean                NaN         NaN         NaN             NaN   \n",
              "std                 NaN         NaN         NaN             NaN   \n",
              "min                 NaN         NaN         NaN             NaN   \n",
              "25%                 NaN         NaN         NaN             NaN   \n",
              "50%                 NaN         NaN         NaN             NaN   \n",
              "75%                 NaN         NaN         NaN             NaN   \n",
              "max                 NaN         NaN         NaN             NaN   \n",
              "\n",
              "              Contract PaperlessBilling     PaymentMethod MonthlyCharges  \\\n",
              "count             7043             7043              7043       7,043.00   \n",
              "unique               3                2                 4            NaN   \n",
              "top     Month-to-month              Yes  Electronic check            NaN   \n",
              "freq              3875             4171              2365            NaN   \n",
              "mean               NaN              NaN               NaN          64.76   \n",
              "std                NaN              NaN               NaN          30.09   \n",
              "min                NaN              NaN               NaN          18.25   \n",
              "25%                NaN              NaN               NaN          35.50   \n",
              "50%                NaN              NaN               NaN          70.35   \n",
              "75%                NaN              NaN               NaN          89.85   \n",
              "max                NaN              NaN               NaN         118.75   \n",
              "\n",
              "        TotalCharges Churn  \n",
              "count           7043  7043  \n",
              "unique          6531     2  \n",
              "top                     No  \n",
              "freq              11  5174  \n",
              "mean             NaN   NaN  \n",
              "std              NaN   NaN  \n",
              "min              NaN   NaN  \n",
              "25%              NaN   NaN  \n",
              "50%              NaN   NaN  \n",
              "75%              NaN   NaN  \n",
              "max              NaN   NaN  \n",
              "\n",
              "[11 rows x 21 columns]"
            ],
            "text/html": [
              "\n",
              "  <div id=\"df-d4ec6cd3-e6ce-4fad-970a-4a23c1d2e003\">\n",
              "    <div class=\"colab-df-container\">\n",
              "      <div>\n",
              "<style scoped>\n",
              "    .dataframe tbody tr th:only-of-type {\n",
              "        vertical-align: middle;\n",
              "    }\n",
              "\n",
              "    .dataframe tbody tr th {\n",
              "        vertical-align: top;\n",
              "    }\n",
              "\n",
              "    .dataframe thead th {\n",
              "        text-align: right;\n",
              "    }\n",
              "</style>\n",
              "<table border=\"1\" class=\"dataframe\">\n",
              "  <thead>\n",
              "    <tr style=\"text-align: right;\">\n",
              "      <th></th>\n",
              "      <th>customerID</th>\n",
              "      <th>gender</th>\n",
              "      <th>SeniorCitizen</th>\n",
              "      <th>Partner</th>\n",
              "      <th>Dependents</th>\n",
              "      <th>tenure</th>\n",
              "      <th>PhoneService</th>\n",
              "      <th>MultipleLines</th>\n",
              "      <th>InternetService</th>\n",
              "      <th>OnlineSecurity</th>\n",
              "      <th>...</th>\n",
              "      <th>DeviceProtection</th>\n",
              "      <th>TechSupport</th>\n",
              "      <th>StreamingTV</th>\n",
              "      <th>StreamingMovies</th>\n",
              "      <th>Contract</th>\n",
              "      <th>PaperlessBilling</th>\n",
              "      <th>PaymentMethod</th>\n",
              "      <th>MonthlyCharges</th>\n",
              "      <th>TotalCharges</th>\n",
              "      <th>Churn</th>\n",
              "    </tr>\n",
              "  </thead>\n",
              "  <tbody>\n",
              "    <tr>\n",
              "      <th>count</th>\n",
              "      <td>7043</td>\n",
              "      <td>7043</td>\n",
              "      <td>7,043.00</td>\n",
              "      <td>7043</td>\n",
              "      <td>7043</td>\n",
              "      <td>7,043.00</td>\n",
              "      <td>7043</td>\n",
              "      <td>7043</td>\n",
              "      <td>7043</td>\n",
              "      <td>7043</td>\n",
              "      <td>...</td>\n",
              "      <td>7043</td>\n",
              "      <td>7043</td>\n",
              "      <td>7043</td>\n",
              "      <td>7043</td>\n",
              "      <td>7043</td>\n",
              "      <td>7043</td>\n",
              "      <td>7043</td>\n",
              "      <td>7,043.00</td>\n",
              "      <td>7043</td>\n",
              "      <td>7043</td>\n",
              "    </tr>\n",
              "    <tr>\n",
              "      <th>unique</th>\n",
              "      <td>7043</td>\n",
              "      <td>2</td>\n",
              "      <td>NaN</td>\n",
              "      <td>2</td>\n",
              "      <td>2</td>\n",
              "      <td>NaN</td>\n",
              "      <td>2</td>\n",
              "      <td>3</td>\n",
              "      <td>3</td>\n",
              "      <td>3</td>\n",
              "      <td>...</td>\n",
              "      <td>3</td>\n",
              "      <td>3</td>\n",
              "      <td>3</td>\n",
              "      <td>3</td>\n",
              "      <td>3</td>\n",
              "      <td>2</td>\n",
              "      <td>4</td>\n",
              "      <td>NaN</td>\n",
              "      <td>6531</td>\n",
              "      <td>2</td>\n",
              "    </tr>\n",
              "    <tr>\n",
              "      <th>top</th>\n",
              "      <td>7590-VHVEG</td>\n",
              "      <td>Male</td>\n",
              "      <td>NaN</td>\n",
              "      <td>No</td>\n",
              "      <td>No</td>\n",
              "      <td>NaN</td>\n",
              "      <td>Yes</td>\n",
              "      <td>No</td>\n",
              "      <td>Fiber optic</td>\n",
              "      <td>No</td>\n",
              "      <td>...</td>\n",
              "      <td>No</td>\n",
              "      <td>No</td>\n",
              "      <td>No</td>\n",
              "      <td>No</td>\n",
              "      <td>Month-to-month</td>\n",
              "      <td>Yes</td>\n",
              "      <td>Electronic check</td>\n",
              "      <td>NaN</td>\n",
              "      <td></td>\n",
              "      <td>No</td>\n",
              "    </tr>\n",
              "    <tr>\n",
              "      <th>freq</th>\n",
              "      <td>1</td>\n",
              "      <td>3555</td>\n",
              "      <td>NaN</td>\n",
              "      <td>3641</td>\n",
              "      <td>4933</td>\n",
              "      <td>NaN</td>\n",
              "      <td>6361</td>\n",
              "      <td>3390</td>\n",
              "      <td>3096</td>\n",
              "      <td>3498</td>\n",
              "      <td>...</td>\n",
              "      <td>3095</td>\n",
              "      <td>3473</td>\n",
              "      <td>2810</td>\n",
              "      <td>2785</td>\n",
              "      <td>3875</td>\n",
              "      <td>4171</td>\n",
              "      <td>2365</td>\n",
              "      <td>NaN</td>\n",
              "      <td>11</td>\n",
              "      <td>5174</td>\n",
              "    </tr>\n",
              "    <tr>\n",
              "      <th>mean</th>\n",
              "      <td>NaN</td>\n",
              "      <td>NaN</td>\n",
              "      <td>0.16</td>\n",
              "      <td>NaN</td>\n",
              "      <td>NaN</td>\n",
              "      <td>32.37</td>\n",
              "      <td>NaN</td>\n",
              "      <td>NaN</td>\n",
              "      <td>NaN</td>\n",
              "      <td>NaN</td>\n",
              "      <td>...</td>\n",
              "      <td>NaN</td>\n",
              "      <td>NaN</td>\n",
              "      <td>NaN</td>\n",
              "      <td>NaN</td>\n",
              "      <td>NaN</td>\n",
              "      <td>NaN</td>\n",
              "      <td>NaN</td>\n",
              "      <td>64.76</td>\n",
              "      <td>NaN</td>\n",
              "      <td>NaN</td>\n",
              "    </tr>\n",
              "    <tr>\n",
              "      <th>std</th>\n",
              "      <td>NaN</td>\n",
              "      <td>NaN</td>\n",
              "      <td>0.37</td>\n",
              "      <td>NaN</td>\n",
              "      <td>NaN</td>\n",
              "      <td>24.56</td>\n",
              "      <td>NaN</td>\n",
              "      <td>NaN</td>\n",
              "      <td>NaN</td>\n",
              "      <td>NaN</td>\n",
              "      <td>...</td>\n",
              "      <td>NaN</td>\n",
              "      <td>NaN</td>\n",
              "      <td>NaN</td>\n",
              "      <td>NaN</td>\n",
              "      <td>NaN</td>\n",
              "      <td>NaN</td>\n",
              "      <td>NaN</td>\n",
              "      <td>30.09</td>\n",
              "      <td>NaN</td>\n",
              "      <td>NaN</td>\n",
              "    </tr>\n",
              "    <tr>\n",
              "      <th>min</th>\n",
              "      <td>NaN</td>\n",
              "      <td>NaN</td>\n",
              "      <td>0.00</td>\n",
              "      <td>NaN</td>\n",
              "      <td>NaN</td>\n",
              "      <td>0.00</td>\n",
              "      <td>NaN</td>\n",
              "      <td>NaN</td>\n",
              "      <td>NaN</td>\n",
              "      <td>NaN</td>\n",
              "      <td>...</td>\n",
              "      <td>NaN</td>\n",
              "      <td>NaN</td>\n",
              "      <td>NaN</td>\n",
              "      <td>NaN</td>\n",
              "      <td>NaN</td>\n",
              "      <td>NaN</td>\n",
              "      <td>NaN</td>\n",
              "      <td>18.25</td>\n",
              "      <td>NaN</td>\n",
              "      <td>NaN</td>\n",
              "    </tr>\n",
              "    <tr>\n",
              "      <th>25%</th>\n",
              "      <td>NaN</td>\n",
              "      <td>NaN</td>\n",
              "      <td>0.00</td>\n",
              "      <td>NaN</td>\n",
              "      <td>NaN</td>\n",
              "      <td>9.00</td>\n",
              "      <td>NaN</td>\n",
              "      <td>NaN</td>\n",
              "      <td>NaN</td>\n",
              "      <td>NaN</td>\n",
              "      <td>...</td>\n",
              "      <td>NaN</td>\n",
              "      <td>NaN</td>\n",
              "      <td>NaN</td>\n",
              "      <td>NaN</td>\n",
              "      <td>NaN</td>\n",
              "      <td>NaN</td>\n",
              "      <td>NaN</td>\n",
              "      <td>35.50</td>\n",
              "      <td>NaN</td>\n",
              "      <td>NaN</td>\n",
              "    </tr>\n",
              "    <tr>\n",
              "      <th>50%</th>\n",
              "      <td>NaN</td>\n",
              "      <td>NaN</td>\n",
              "      <td>0.00</td>\n",
              "      <td>NaN</td>\n",
              "      <td>NaN</td>\n",
              "      <td>29.00</td>\n",
              "      <td>NaN</td>\n",
              "      <td>NaN</td>\n",
              "      <td>NaN</td>\n",
              "      <td>NaN</td>\n",
              "      <td>...</td>\n",
              "      <td>NaN</td>\n",
              "      <td>NaN</td>\n",
              "      <td>NaN</td>\n",
              "      <td>NaN</td>\n",
              "      <td>NaN</td>\n",
              "      <td>NaN</td>\n",
              "      <td>NaN</td>\n",
              "      <td>70.35</td>\n",
              "      <td>NaN</td>\n",
              "      <td>NaN</td>\n",
              "    </tr>\n",
              "    <tr>\n",
              "      <th>75%</th>\n",
              "      <td>NaN</td>\n",
              "      <td>NaN</td>\n",
              "      <td>0.00</td>\n",
              "      <td>NaN</td>\n",
              "      <td>NaN</td>\n",
              "      <td>55.00</td>\n",
              "      <td>NaN</td>\n",
              "      <td>NaN</td>\n",
              "      <td>NaN</td>\n",
              "      <td>NaN</td>\n",
              "      <td>...</td>\n",
              "      <td>NaN</td>\n",
              "      <td>NaN</td>\n",
              "      <td>NaN</td>\n",
              "      <td>NaN</td>\n",
              "      <td>NaN</td>\n",
              "      <td>NaN</td>\n",
              "      <td>NaN</td>\n",
              "      <td>89.85</td>\n",
              "      <td>NaN</td>\n",
              "      <td>NaN</td>\n",
              "    </tr>\n",
              "    <tr>\n",
              "      <th>max</th>\n",
              "      <td>NaN</td>\n",
              "      <td>NaN</td>\n",
              "      <td>1.00</td>\n",
              "      <td>NaN</td>\n",
              "      <td>NaN</td>\n",
              "      <td>72.00</td>\n",
              "      <td>NaN</td>\n",
              "      <td>NaN</td>\n",
              "      <td>NaN</td>\n",
              "      <td>NaN</td>\n",
              "      <td>...</td>\n",
              "      <td>NaN</td>\n",
              "      <td>NaN</td>\n",
              "      <td>NaN</td>\n",
              "      <td>NaN</td>\n",
              "      <td>NaN</td>\n",
              "      <td>NaN</td>\n",
              "      <td>NaN</td>\n",
              "      <td>118.75</td>\n",
              "      <td>NaN</td>\n",
              "      <td>NaN</td>\n",
              "    </tr>\n",
              "  </tbody>\n",
              "</table>\n",
              "<p>11 rows × 21 columns</p>\n",
              "</div>\n",
              "      <button class=\"colab-df-convert\" onclick=\"convertToInteractive('df-d4ec6cd3-e6ce-4fad-970a-4a23c1d2e003')\"\n",
              "              title=\"Convert this dataframe to an interactive table.\"\n",
              "              style=\"display:none;\">\n",
              "        \n",
              "  <svg xmlns=\"http://www.w3.org/2000/svg\" height=\"24px\"viewBox=\"0 0 24 24\"\n",
              "       width=\"24px\">\n",
              "    <path d=\"M0 0h24v24H0V0z\" fill=\"none\"/>\n",
              "    <path d=\"M18.56 5.44l.94 2.06.94-2.06 2.06-.94-2.06-.94-.94-2.06-.94 2.06-2.06.94zm-11 1L8.5 8.5l.94-2.06 2.06-.94-2.06-.94L8.5 2.5l-.94 2.06-2.06.94zm10 10l.94 2.06.94-2.06 2.06-.94-2.06-.94-.94-2.06-.94 2.06-2.06.94z\"/><path d=\"M17.41 7.96l-1.37-1.37c-.4-.4-.92-.59-1.43-.59-.52 0-1.04.2-1.43.59L10.3 9.45l-7.72 7.72c-.78.78-.78 2.05 0 2.83L4 21.41c.39.39.9.59 1.41.59.51 0 1.02-.2 1.41-.59l7.78-7.78 2.81-2.81c.8-.78.8-2.07 0-2.86zM5.41 20L4 18.59l7.72-7.72 1.47 1.35L5.41 20z\"/>\n",
              "  </svg>\n",
              "      </button>\n",
              "      \n",
              "  <style>\n",
              "    .colab-df-container {\n",
              "      display:flex;\n",
              "      flex-wrap:wrap;\n",
              "      gap: 12px;\n",
              "    }\n",
              "\n",
              "    .colab-df-convert {\n",
              "      background-color: #E8F0FE;\n",
              "      border: none;\n",
              "      border-radius: 50%;\n",
              "      cursor: pointer;\n",
              "      display: none;\n",
              "      fill: #1967D2;\n",
              "      height: 32px;\n",
              "      padding: 0 0 0 0;\n",
              "      width: 32px;\n",
              "    }\n",
              "\n",
              "    .colab-df-convert:hover {\n",
              "      background-color: #E2EBFA;\n",
              "      box-shadow: 0px 1px 2px rgba(60, 64, 67, 0.3), 0px 1px 3px 1px rgba(60, 64, 67, 0.15);\n",
              "      fill: #174EA6;\n",
              "    }\n",
              "\n",
              "    [theme=dark] .colab-df-convert {\n",
              "      background-color: #3B4455;\n",
              "      fill: #D2E3FC;\n",
              "    }\n",
              "\n",
              "    [theme=dark] .colab-df-convert:hover {\n",
              "      background-color: #434B5C;\n",
              "      box-shadow: 0px 1px 3px 1px rgba(0, 0, 0, 0.15);\n",
              "      filter: drop-shadow(0px 1px 2px rgba(0, 0, 0, 0.3));\n",
              "      fill: #FFFFFF;\n",
              "    }\n",
              "  </style>\n",
              "\n",
              "      <script>\n",
              "        const buttonEl =\n",
              "          document.querySelector('#df-d4ec6cd3-e6ce-4fad-970a-4a23c1d2e003 button.colab-df-convert');\n",
              "        buttonEl.style.display =\n",
              "          google.colab.kernel.accessAllowed ? 'block' : 'none';\n",
              "\n",
              "        async function convertToInteractive(key) {\n",
              "          const element = document.querySelector('#df-d4ec6cd3-e6ce-4fad-970a-4a23c1d2e003');\n",
              "          const dataTable =\n",
              "            await google.colab.kernel.invokeFunction('convertToInteractive',\n",
              "                                                     [key], {});\n",
              "          if (!dataTable) return;\n",
              "\n",
              "          const docLinkHtml = 'Like what you see? Visit the ' +\n",
              "            '<a target=\"_blank\" href=https://colab.research.google.com/notebooks/data_table.ipynb>data table notebook</a>'\n",
              "            + ' to learn more about interactive tables.';\n",
              "          element.innerHTML = '';\n",
              "          dataTable['output_type'] = 'display_data';\n",
              "          await google.colab.output.renderOutput(dataTable, element);\n",
              "          const docLink = document.createElement('div');\n",
              "          docLink.innerHTML = docLinkHtml;\n",
              "          element.appendChild(docLink);\n",
              "        }\n",
              "      </script>\n",
              "    </div>\n",
              "  </div>\n",
              "  "
            ]
          },
          "metadata": {},
          "execution_count": 6
        }
      ],
      "source": [
        "#Informação estatística preliminar\n",
        "df.describe(include=\"all\")"
      ]
    },
    {
      "cell_type": "code",
      "execution_count": 7,
      "metadata": {
        "colab": {
          "base_uri": "https://localhost:8080/"
        },
        "id": "jNrGepI0EaIm",
        "outputId": "317517b1-5583-453b-902f-aade5610d48c"
      },
      "outputs": [
        {
          "output_type": "execute_result",
          "data": {
            "text/plain": [
              "customerID          0\n",
              "gender              0\n",
              "SeniorCitizen       0\n",
              "Partner             0\n",
              "Dependents          0\n",
              "tenure              0\n",
              "PhoneService        0\n",
              "MultipleLines       0\n",
              "InternetService     0\n",
              "OnlineSecurity      0\n",
              "OnlineBackup        0\n",
              "DeviceProtection    0\n",
              "TechSupport         0\n",
              "StreamingTV         0\n",
              "StreamingMovies     0\n",
              "Contract            0\n",
              "PaperlessBilling    0\n",
              "PaymentMethod       0\n",
              "MonthlyCharges      0\n",
              "TotalCharges        0\n",
              "Churn               0\n",
              "dtype: int64"
            ]
          },
          "metadata": {},
          "execution_count": 7
        }
      ],
      "source": [
        "#Verificando para dados faltantes\n",
        "df.isnull().sum()"
      ]
    },
    {
      "cell_type": "code",
      "execution_count": 8,
      "metadata": {
        "id": "Osl5L0a9EruT"
      },
      "outputs": [],
      "source": [
        "#df['TotalCharges'].replace(\" \", \"0\", inplace=True)\n",
        "#df['TotalCharges'] = df['TotalCharges'].astype(float)"
      ]
    },
    {
      "cell_type": "code",
      "execution_count": 9,
      "metadata": {
        "colab": {
          "base_uri": "https://localhost:8080/"
        },
        "id": "3Jv1UDvNSWcv",
        "outputId": "994d89f7-f8b8-4cff-8829-b17d924ae339"
      },
      "outputs": [
        {
          "output_type": "execute_result",
          "data": {
            "text/plain": [
              "488      \n",
              "753      \n",
              "936      \n",
              "1082     \n",
              "1340     \n",
              "3331     \n",
              "3826     \n",
              "4380     \n",
              "5218     \n",
              "6670     \n",
              "6754     \n",
              "Name: TotalCharges, dtype: object"
            ]
          },
          "metadata": {},
          "execution_count": 9
        }
      ],
      "source": [
        "#Não são missing exatamente, são 'espaços'. Possível erro de digitação.\n",
        "df['TotalCharges'].loc[df['TotalCharges'] == ' ']"
      ]
    },
    {
      "cell_type": "code",
      "execution_count": 10,
      "metadata": {
        "colab": {
          "base_uri": "https://localhost:8080/",
          "height": 35
        },
        "id": "6twFbnAvctPp",
        "outputId": "8c21aed6-b605-4c23-ece1-4f8aac80501a"
      },
      "outputs": [
        {
          "output_type": "execute_result",
          "data": {
            "text/plain": [
              "' '"
            ],
            "application/vnd.google.colaboratory.intrinsic+json": {
              "type": "string"
            }
          },
          "metadata": {},
          "execution_count": 10
        }
      ],
      "source": [
        "df[\"TotalCharges\"].min()"
      ]
    },
    {
      "cell_type": "markdown",
      "metadata": {
        "id": "yunusE1LNRo8"
      },
      "source": [
        "OBSERVAÇÃO: Existe algum valor vazio na feature TotalCharges, a substituição acima resolve o problema, mas ela só será usada depois do split. "
      ]
    },
    {
      "cell_type": "code",
      "execution_count": 11,
      "metadata": {
        "colab": {
          "base_uri": "https://localhost:8080/"
        },
        "id": "uqL-oHtzNIU4",
        "outputId": "6756cc1f-8f87-498c-e8fd-c6e13478e73b"
      },
      "outputs": [
        {
          "output_type": "stream",
          "name": "stdout",
          "text": [
            "<class 'pandas.core.frame.DataFrame'>\n",
            "RangeIndex: 7043 entries, 0 to 7042\n",
            "Data columns (total 21 columns):\n",
            " #   Column            Non-Null Count  Dtype  \n",
            "---  ------            --------------  -----  \n",
            " 0   customerID        7043 non-null   object \n",
            " 1   gender            7043 non-null   object \n",
            " 2   SeniorCitizen     7043 non-null   int64  \n",
            " 3   Partner           7043 non-null   object \n",
            " 4   Dependents        7043 non-null   object \n",
            " 5   tenure            7043 non-null   int64  \n",
            " 6   PhoneService      7043 non-null   object \n",
            " 7   MultipleLines     7043 non-null   object \n",
            " 8   InternetService   7043 non-null   object \n",
            " 9   OnlineSecurity    7043 non-null   object \n",
            " 10  OnlineBackup      7043 non-null   object \n",
            " 11  DeviceProtection  7043 non-null   object \n",
            " 12  TechSupport       7043 non-null   object \n",
            " 13  StreamingTV       7043 non-null   object \n",
            " 14  StreamingMovies   7043 non-null   object \n",
            " 15  Contract          7043 non-null   object \n",
            " 16  PaperlessBilling  7043 non-null   object \n",
            " 17  PaymentMethod     7043 non-null   object \n",
            " 18  MonthlyCharges    7043 non-null   float64\n",
            " 19  TotalCharges      7043 non-null   object \n",
            " 20  Churn             7043 non-null   object \n",
            "dtypes: float64(1), int64(2), object(18)\n",
            "memory usage: 1.1+ MB\n"
          ]
        }
      ],
      "source": [
        "df.info()"
      ]
    },
    {
      "cell_type": "markdown",
      "metadata": {
        "id": "AvBoS-agM9Jw"
      },
      "source": [
        "DICIONÁRIO DE DADOS\n",
        "\n",
        "  \n",
        "\n",
        "*   CustomerID - ID do cliente\n",
        "*   gender - Sexo do cliente, F ou M\n",
        "\n",
        "*   SeniorCitizen - se o cliente é idoso ou não (1 ou 0)\n",
        "*   Partner - Se o cliente tem parceiro ou não  (1 ou 0)\n",
        "\n",
        "*   Dependents - Se o cliente tem dependentes ou não (1 ou 0)\n",
        "\n",
        "*   Tenue - Número de meses que o cliente permaneceu na companhia\n",
        "*   PhoneService - Se o cliente tem serviço telefônico (Sim ou Não)\n",
        "\n",
        "\n",
        "*   MultipleLines - Se o cliente tem multiplas linhas ou não (Não, sim ou Sem seviço de telefonia)\n",
        "\n",
        "*   InternetService - Provedor de internet do cliente (DSL, Fibra optica ou não)\n",
        "\n",
        "*   OnlineSecurity - Se o cliente tem segurança online ou não (Sim, Não, Sem serviço de internet)\n",
        "*   OnlineBackup - Se o cliente tem backup online ou não (Sim, Não, Sem serviço de internet)\n",
        "\n",
        "\n",
        "*   DeviceProtection - Se o cliente tem proteção do dispositivo ou não (Sim, Não, Sem serviço de internet)\n",
        "\n",
        "*   TechSupport - Se o cliente tem suporte técnico ou não (Sim, Não, Sem serviço de internet)\n",
        "\n",
        "*   StreamingTV - Se o cliente tem steaming de TV ou não (Yes, No, No internet service)\n",
        "\n",
        "*   StreamingMovies - Se o cliente tem streaming de filmes ou não (Sim, Não, Sem serviço de internet)\n",
        "*   Contract - O prazo do contrato do cliente (mês a mês, um ano, dois anos)\n",
        "\n",
        "*   PaperlessBilling - Se o cliente tem faturamento sem papel ou não (Sim, Não)\n",
        "\n",
        "\n",
        "*   PaymentMethod - O método de pagamento do cliente (Cheque eletrônico, Cheque enviado, Transferência bancária (automática), Cartão de crédito (automático))\n",
        "\n",
        "\n",
        "*   MontlyCharges - O valor cobrado do cliente mensalmente\n",
        "*   TotalCharges - O valor total cobrado do cliente\n",
        "\n",
        "\n",
        "*   Churn (Target) - Se o cliente se desligou ou não (Sim ou Não)\n",
        "\n",
        "\n",
        "\n",
        "\n",
        "\n",
        "\n",
        "\n",
        "\n",
        "\n",
        "\n",
        "\n",
        "\n"
      ]
    },
    {
      "cell_type": "markdown",
      "metadata": {
        "id": "9jv41p0vkBsA"
      },
      "source": [
        "#2 - Análise exploratória univariada\n",
        "\n"
      ]
    },
    {
      "cell_type": "code",
      "execution_count": 12,
      "metadata": {
        "colab": {
          "base_uri": "https://localhost:8080/",
          "height": 460
        },
        "id": "7exO1UlCj9yH",
        "outputId": "20aa2a71-190c-4f27-d3e3-a524da376bc1"
      },
      "outputs": [
        {
          "output_type": "execute_result",
          "data": {
            "text/plain": [
              "array([[<Axes: title={'center': 'SeniorCitizen'}>,\n",
              "        <Axes: title={'center': 'tenure'}>],\n",
              "       [<Axes: title={'center': 'MonthlyCharges'}>, <Axes: >]],\n",
              "      dtype=object)"
            ]
          },
          "metadata": {},
          "execution_count": 12
        },
        {
          "output_type": "display_data",
          "data": {
            "text/plain": [
              "<Figure size 576x432 with 4 Axes>"
            ],
            "image/png": "[encoded data removed]"
          },
          "metadata": {}
        }
      ],
      "source": [
        "#Visualisação geral do dataframe\n",
        "df.hist(bins=100, figsize = [8,6])"
      ]
    },
    {
      "cell_type": "markdown",
      "metadata": {
        "id": "bHPM3c1Cm6RG"
      },
      "source": [
        "Gênero\n",
        "\n",
        "Sexo dos clientes, masculino ou feminino. Categórico. "
      ]
    },
    {
      "cell_type": "code",
      "execution_count": 13,
      "metadata": {
        "colab": {
          "base_uri": "https://localhost:8080/"
        },
        "id": "RhtKs5YdM0vX",
        "outputId": "929bd87d-0d46-4039-d7ea-2cb9e2c6c208"
      },
      "outputs": [
        {
          "output_type": "execute_result",
          "data": {
            "text/plain": [
              "0       Female\n",
              "1         Male\n",
              "2         Male\n",
              "3         Male\n",
              "4       Female\n",
              "         ...  \n",
              "7038      Male\n",
              "7039    Female\n",
              "7040    Female\n",
              "7041      Male\n",
              "7042      Male\n",
              "Name: gender, Length: 7043, dtype: object"
            ]
          },
          "metadata": {},
          "execution_count": 13
        }
      ],
      "source": [
        "df[\"gender\"]\n"
      ]
    },
    {
      "cell_type": "code",
      "execution_count": 14,
      "metadata": {
        "colab": {
          "base_uri": "https://localhost:8080/"
        },
        "id": "I1TubPxoD4Wp",
        "outputId": "a7e2e9f5-0ead-4e2b-9924-76b5e5a24816"
      },
      "outputs": [
        {
          "output_type": "execute_result",
          "data": {
            "text/plain": [
              "count     7043\n",
              "unique       2\n",
              "top       Male\n",
              "freq      3555\n",
              "Name: gender, dtype: object"
            ]
          },
          "metadata": {},
          "execution_count": 14
        }
      ],
      "source": [
        "#Informações gerais\n",
        "df[\"gender\"].describe()\n"
      ]
    },
    {
      "cell_type": "code",
      "execution_count": 15,
      "metadata": {
        "colab": {
          "base_uri": "https://localhost:8080/"
        },
        "id": "-cXHokvGSNN5",
        "outputId": "6e9e5bec-7f40-4261-ed95-922d3f4156c9"
      },
      "outputs": [
        {
          "output_type": "execute_result",
          "data": {
            "text/plain": [
              "Male      3555\n",
              "Female    3488\n",
              "Name: gender, dtype: int64"
            ]
          },
          "metadata": {},
          "execution_count": 15
        }
      ],
      "source": [
        "#Contagem por gênero\n",
        "df[\"gender\"].value_counts()"
      ]
    },
    {
      "cell_type": "code",
      "source": [
        "height = list(df[\"gender\"].value_counts())\n",
        "x_value = list(df[\"gender\"].value_counts().index)\n",
        "\n",
        "#plot\n",
        "bar_width = 0.5\n",
        "fig, ax = plt.subplots(figsize=[8,8])\n",
        "bar_plot = ax.bar(x_value, height, bar_width, color=['#0d5c75','#199fb1'])\n",
        "\n",
        "plt.ylim([0,4500])\n",
        "plt.bar_label(bar_plot)\n",
        "plt.title('Distribuição por gênero')\n",
        "plt.xlabel('sexo')\n",
        "plt.ylabel('Frequência')\n"
      ],
      "metadata": {
        "colab": {
          "base_uri": "https://localhost:8080/",
          "height": 534
        },
        "id": "3DsjW777EeSR",
        "outputId": "36baf749-ecb7-4e0b-bc3d-e8377be99e6c"
      },
      "execution_count": 16,
      "outputs": [
        {
          "output_type": "execute_result",
          "data": {
            "text/plain": [
              "Text(0, 0.5, 'Frequência')"
            ]
          },
          "metadata": {},
          "execution_count": 16
        },
        {
          "output_type": "display_data",
          "data": {
            "text/plain": [
              "<Figure size 576x576 with 1 Axes>"
            ],
            "image/png": "[encoded data removed]"
          },
          "metadata": {}
        }
      ]
    },
    {
      "cell_type": "markdown",
      "metadata": {
        "id": "nOOVdPiV7qDo"
      },
      "source": [
        "A distribuição de gênero parece balanceada nos dados presentes."
      ]
    },
    {
      "cell_type": "markdown",
      "metadata": {
        "id": "QYbg_OR6TaRz"
      },
      "source": [
        "#Idosos\n",
        "\n",
        "Se é idoso ou não (1 ou 0). Variável categórica."
      ]
    },
    {
      "cell_type": "code",
      "execution_count": 17,
      "metadata": {
        "colab": {
          "base_uri": "https://localhost:8080/"
        },
        "id": "iKBIqnGUGKBl",
        "outputId": "41b105eb-eae8-416e-8f90-312ca2f4d7ea"
      },
      "outputs": [
        {
          "output_type": "execute_result",
          "data": {
            "text/plain": [
              "0       0\n",
              "1       0\n",
              "2       0\n",
              "3       0\n",
              "4       0\n",
              "       ..\n",
              "7038    0\n",
              "7039    0\n",
              "7040    0\n",
              "7041    1\n",
              "7042    0\n",
              "Name: SeniorCitizen, Length: 7043, dtype: int64"
            ]
          },
          "metadata": {},
          "execution_count": 17
        }
      ],
      "source": [
        "df[\"SeniorCitizen\"]"
      ]
    },
    {
      "cell_type": "code",
      "execution_count": 18,
      "metadata": {
        "colab": {
          "base_uri": "https://localhost:8080/"
        },
        "id": "g1xIruaMTm2p",
        "outputId": "f0525536-acd0-4193-f60b-715d40c83842"
      },
      "outputs": [
        {
          "output_type": "execute_result",
          "data": {
            "text/plain": [
              "dtype('int64')"
            ]
          },
          "metadata": {},
          "execution_count": 18
        }
      ],
      "source": [
        "df[\"SeniorCitizen\"].dtypes"
      ]
    },
    {
      "cell_type": "code",
      "execution_count": 19,
      "metadata": {
        "colab": {
          "base_uri": "https://localhost:8080/"
        },
        "id": "7QH_rcb9T2li",
        "outputId": "3e525395-3aa1-4dda-c0e6-fb9b47e6ce0f"
      },
      "outputs": [
        {
          "output_type": "execute_result",
          "data": {
            "text/plain": [
              "0    5901\n",
              "1    1142\n",
              "Name: SeniorCitizen, dtype: int64"
            ]
          },
          "metadata": {},
          "execution_count": 19
        }
      ],
      "source": [
        "#contagem de clientes idosos\n",
        "df[\"SeniorCitizen\"].value_counts()"
      ]
    },
    {
      "cell_type": "code",
      "execution_count": 20,
      "metadata": {
        "colab": {
          "base_uri": "https://localhost:8080/",
          "height": 552
        },
        "id": "QWC2B5cig13t",
        "outputId": "ef87cc5c-ff83-4ee3-87dc-2ccb5350e5f4"
      },
      "outputs": [
        {
          "output_type": "execute_result",
          "data": {
            "text/plain": [
              "([<matplotlib.axis.XTick at 0x7f1f1b485fd0>,\n",
              "  <matplotlib.axis.XTick at 0x7f1f1b485fa0>],\n",
              " [Text(0, 0, 'Não-idoso'), Text(1, 0, 'Idoso')])"
            ]
          },
          "metadata": {},
          "execution_count": 20
        },
        {
          "output_type": "display_data",
          "data": {
            "text/plain": [
              "<Figure size 576x576 with 1 Axes>"
            ],
            "image/png": "[encoded data removed]"
          },
          "metadata": {}
        }
      ],
      "source": [
        "height = list(df[\"SeniorCitizen\"].value_counts())\n",
        "x_value = list(df[\"SeniorCitizen\"].value_counts().index)\n",
        "\n",
        "#plot\n",
        "bar_width = 0.5\n",
        "fig, ax = plt.subplots(figsize=[8,8])\n",
        "bar_plot = ax.bar(x_value, height, bar_width, color=['#0d5c75','#199fb1'])\n",
        "\n",
        "plt.bar_label(bar_plot)\n",
        "plt.ylim([0, 7000])\n",
        "plt.title('Clientes idosos')\n",
        "plt.ylabel('Frequência')\n",
        "plt.xticks(np.arange(2), ['Não-idoso', 'Idoso'])\n",
        "\n"
      ]
    },
    {
      "cell_type": "markdown",
      "metadata": {
        "id": "MszpVGWxL_uZ"
      },
      "source": [
        "Temos 5901 clientes não-idosos e 1142 idosos, os quais representam ~16% dos clientes."
      ]
    },
    {
      "cell_type": "markdown",
      "metadata": {
        "id": "FAcBzbdiMraM"
      },
      "source": [
        "#Parceiro\n",
        "\n",
        "Se o cliente tem, ou não, parceiro (yes ou no). Variável categórica.\n",
        "\n",
        "Hipótese: ter parceiro influencia o churn. (explorado na análise multivariada)"
      ]
    },
    {
      "cell_type": "code",
      "execution_count": 21,
      "metadata": {
        "colab": {
          "base_uri": "https://localhost:8080/"
        },
        "id": "9XTIfFTjNXMh",
        "outputId": "fd3eae86-1336-4bac-fb66-4a4cd5299be0"
      },
      "outputs": [
        {
          "output_type": "execute_result",
          "data": {
            "text/plain": [
              "0       Yes\n",
              "1        No\n",
              "2        No\n",
              "3        No\n",
              "4        No\n",
              "       ... \n",
              "7038    Yes\n",
              "7039    Yes\n",
              "7040    Yes\n",
              "7041    Yes\n",
              "7042     No\n",
              "Name: Partner, Length: 7043, dtype: object"
            ]
          },
          "metadata": {},
          "execution_count": 21
        }
      ],
      "source": [
        "df[\"Partner\"]"
      ]
    },
    {
      "cell_type": "code",
      "execution_count": 22,
      "metadata": {
        "colab": {
          "base_uri": "https://localhost:8080/"
        },
        "id": "xM0fWP8mNid5",
        "outputId": "7fb94a33-e91b-482e-b2d0-7067da03d811"
      },
      "outputs": [
        {
          "output_type": "execute_result",
          "data": {
            "text/plain": [
              "count     7043\n",
              "unique       2\n",
              "top         No\n",
              "freq      3641\n",
              "Name: Partner, dtype: object"
            ]
          },
          "metadata": {},
          "execution_count": 22
        }
      ],
      "source": [
        "#Informações gerais\n",
        "df[\"Partner\"].describe()"
      ]
    },
    {
      "cell_type": "markdown",
      "metadata": {
        "id": "sH2omUM8-whO"
      },
      "source": [
        "Maior ocorrência de clientes solteiros."
      ]
    },
    {
      "cell_type": "code",
      "execution_count": 23,
      "metadata": {
        "id": "3co3rKXuNu45"
      },
      "outputs": [],
      "source": [
        "#Contagem de clientes com parceiro\n",
        "cont_parceiros = df[\"Partner\"].value_counts()"
      ]
    },
    {
      "cell_type": "code",
      "execution_count": 24,
      "metadata": {
        "colab": {
          "base_uri": "https://localhost:8080/",
          "height": 534
        },
        "id": "rQKMQWdnASjz",
        "outputId": "aec2eb74-5848-4e8c-bcc1-b7415eea9356"
      },
      "outputs": [
        {
          "output_type": "execute_result",
          "data": {
            "text/plain": [
              "Text(0, 0.5, 'frequência')"
            ]
          },
          "metadata": {},
          "execution_count": 24
        },
        {
          "output_type": "display_data",
          "data": {
            "text/plain": [
              "<Figure size 576x576 with 1 Axes>"
            ],
            "image/png": "[encoded data removed]"
          },
          "metadata": {}
        }
      ],
      "source": [
        "bar_altura = list(cont_parceiros)\n",
        "x_valores = list(cont_parceiros.index)\n",
        "\n",
        "#plot \n",
        "bar_larg = 0.5\n",
        "fig, ax = plt.subplots(figsize=[8,8])\n",
        "bar_plot = ax.bar(x_valores, bar_altura, bar_larg, color=['#0d5c75','#199fb1'])\n",
        "\n",
        "plt.bar_label(bar_plot)\n",
        "plt.ylim([0,4000])\n",
        "plt.title('Distribuição de clientes por estado civil')\n",
        "plt.xticks(np.arange(2), ['Solteiro', 'Com parceiro']) #mudando o rótulos dos valores xplt.xlabel('Estado civil')\n",
        "plt.xlabel('Estado civil')\n",
        "plt.ylabel('frequência')"
      ]
    },
    {
      "cell_type": "markdown",
      "metadata": {
        "id": "PFLxxSMjN5lr"
      },
      "source": [
        "A distribuição de clientes com parceiro é bem balanceada.\n"
      ]
    },
    {
      "cell_type": "markdown",
      "metadata": {
        "id": "ss_uqWcQ2cFW"
      },
      "source": [
        "Há uma predominância de clientes solteiros. Essa diferença deve ser levada em consideração para futuros insights."
      ]
    },
    {
      "cell_type": "markdown",
      "metadata": {
        "id": "Qu8WkVGY4kNL"
      },
      "source": [
        "#Dependents\n",
        "\n",
        "Se o cliente tem dependentes ou não (1 ou 0). Variável categórica.\n",
        "\n",
        "**Hipótese**: ter ou não dependentes influencia o churn. (explorado na análise bivariada)."
      ]
    },
    {
      "cell_type": "code",
      "execution_count": 25,
      "metadata": {
        "colab": {
          "base_uri": "https://localhost:8080/"
        },
        "id": "1He0M9n_5MDj",
        "outputId": "1c38517d-1692-48ef-c5e1-7416fca3c1a6"
      },
      "outputs": [
        {
          "output_type": "execute_result",
          "data": {
            "text/plain": [
              "0        No\n",
              "1        No\n",
              "2        No\n",
              "3        No\n",
              "4        No\n",
              "       ... \n",
              "7038    Yes\n",
              "7039    Yes\n",
              "7040    Yes\n",
              "7041     No\n",
              "7042     No\n",
              "Name: Dependents, Length: 7043, dtype: object"
            ]
          },
          "metadata": {},
          "execution_count": 25
        }
      ],
      "source": [
        "df['Dependents']"
      ]
    },
    {
      "cell_type": "code",
      "execution_count": 26,
      "metadata": {
        "colab": {
          "base_uri": "https://localhost:8080/"
        },
        "id": "P59R4B9V5RfY",
        "outputId": "1cf76163-312f-4c7f-fac9-d544f681c5d0"
      },
      "outputs": [
        {
          "output_type": "execute_result",
          "data": {
            "text/plain": [
              "count     7043\n",
              "unique       2\n",
              "top         No\n",
              "freq      4933\n",
              "Name: Dependents, dtype: object"
            ]
          },
          "metadata": {},
          "execution_count": 26
        }
      ],
      "source": [
        "#estatísticas básicas\n",
        "df['Dependents'].describe()"
      ]
    },
    {
      "cell_type": "code",
      "execution_count": 27,
      "metadata": {
        "colab": {
          "base_uri": "https://localhost:8080/"
        },
        "id": "rwQbxpXrIuJQ",
        "outputId": "88bfc1b2-47b6-4856-c90c-07c210b45432"
      },
      "outputs": [
        {
          "output_type": "execute_result",
          "data": {
            "text/plain": [
              "No     4933\n",
              "Yes    2110\n",
              "Name: Dependents, dtype: int64"
            ]
          },
          "metadata": {},
          "execution_count": 27
        }
      ],
      "source": [
        "#contagem de clientes com dependentes\n",
        "cont_depend = df['Dependents'].value_counts()\n",
        "cont_depend"
      ]
    },
    {
      "cell_type": "code",
      "source": [
        "#plotando\n",
        "bar_altura_depend = list(cont_depend)\n",
        "x_valores_depend = list(cont_depend.index)\n",
        "\n",
        "#barras\n",
        "bar_larg = 0.5\n",
        "fig, ax = plt.subplots(figsize=[8,8])\n",
        "bar_plot_depend = ax.bar(x_valores_depend, bar_altura_depend, bar_larg, color=['#0d5c75','#199fb1'])\n",
        "\n",
        "plt.bar_label(bar_plot_depend)\n",
        "plt.ylim([0,6000])\n",
        "plt.title('Distribuição de clientes com dependentes')\n",
        "plt.xticks(np.arange(2), ['Sem dependentes', 'Com dependentes']) #mudando o rótulos dos valores x\n",
        "plt.ylabel('frequência')"
      ],
      "metadata": {
        "colab": {
          "base_uri": "https://localhost:8080/",
          "height": 517
        },
        "id": "Ye4PQBEDSO09",
        "outputId": "73a4c238-0a7b-4924-d847-f8448cfb1280"
      },
      "execution_count": 28,
      "outputs": [
        {
          "output_type": "execute_result",
          "data": {
            "text/plain": [
              "Text(0, 0.5, 'frequência')"
            ]
          },
          "metadata": {},
          "execution_count": 28
        },
        {
          "output_type": "display_data",
          "data": {
            "text/plain": [
              "<Figure size 576x576 with 1 Axes>"
            ],
            "image/png": "[encoded data removed]"
          },
          "metadata": {}
        }
      ]
    },
    {
      "cell_type": "markdown",
      "metadata": {
        "id": "0rX3OP9-JLPc"
      },
      "source": [
        "Há uma diferença considerável entre clientes com dependentes e sem."
      ]
    },
    {
      "cell_type": "markdown",
      "metadata": {
        "id": "DxVuGXg5f-fy"
      },
      "source": [
        "#Tenure\n",
        "\n",
        "Número de meses que o cliente permaneceu na companhia - variável discreta numérica. \n",
        "\n",
        "Obs: diretamente relacionada com a variável contract."
      ]
    },
    {
      "cell_type": "code",
      "execution_count": 29,
      "metadata": {
        "colab": {
          "base_uri": "https://localhost:8080/"
        },
        "id": "CtuWCXqTgb3X",
        "outputId": "0b3e0a10-3cc1-4e9e-ba65-82f40cd58f7b"
      },
      "outputs": [
        {
          "output_type": "execute_result",
          "data": {
            "text/plain": [
              "0        1\n",
              "1       34\n",
              "2        2\n",
              "3       45\n",
              "4        2\n",
              "        ..\n",
              "7038    24\n",
              "7039    72\n",
              "7040    11\n",
              "7041     4\n",
              "7042    66\n",
              "Name: tenure, Length: 7043, dtype: int64"
            ]
          },
          "metadata": {},
          "execution_count": 29
        }
      ],
      "source": [
        "df['tenure']"
      ]
    },
    {
      "cell_type": "code",
      "execution_count": 30,
      "metadata": {
        "colab": {
          "base_uri": "https://localhost:8080/"
        },
        "id": "gucowe1Rgn4u",
        "outputId": "791f6054-32ca-47b6-a2f0-fec0f57a3244"
      },
      "outputs": [
        {
          "output_type": "execute_result",
          "data": {
            "text/plain": [
              "count   7,043.00\n",
              "mean       32.37\n",
              "std        24.56\n",
              "min         0.00\n",
              "25%         9.00\n",
              "50%        29.00\n",
              "75%        55.00\n",
              "max        72.00\n",
              "Name: tenure, dtype: float64"
            ]
          },
          "metadata": {},
          "execution_count": 30
        }
      ],
      "source": [
        "#Estatística báscia da feature\n",
        "df['tenure'].describe()"
      ]
    },
    {
      "cell_type": "markdown",
      "metadata": {
        "id": "BZOluOr4xXSF"
      },
      "source": [
        "Clientes permanecem em média 32 meses no serviço. O que equivale a aproximadamente 2,6 anos."
      ]
    },
    {
      "cell_type": "code",
      "execution_count": 31,
      "metadata": {
        "colab": {
          "base_uri": "https://localhost:8080/",
          "height": 534
        },
        "id": "fMzHpzTKhFOU",
        "outputId": "4960f6c2-6fc4-4e55-c871-d779b6b118d8"
      },
      "outputs": [
        {
          "output_type": "execute_result",
          "data": {
            "text/plain": [
              "Text(0.5, 0, 'Meses')"
            ]
          },
          "metadata": {},
          "execution_count": 31
        },
        {
          "output_type": "display_data",
          "data": {
            "text/plain": [
              "<Figure size 576x576 with 1 Axes>"
            ],
            "image/png": "[encoded data removed]"
          },
          "metadata": {}
        }
      ],
      "source": [
        "#Plotando\n",
        "plt.figure(figsize = [8,8])\n",
        "counts, edges, bars = plt.hist(df.tenure, edgecolor = 'white',\n",
        "                               color = ['#199fb1'])\n",
        "\n",
        "plt.bar_label(bars)\n",
        "\n",
        "plt.title('Distribuição por meses de permanência')\n",
        "plt.xlabel('Meses')"
      ]
    },
    {
      "cell_type": "code",
      "execution_count": 32,
      "metadata": {
        "id": "VKSUBqPMjwFH",
        "colab": {
          "base_uri": "https://localhost:8080/"
        },
        "outputId": "e486d7ac-d2c4-4139-e00f-c71314612007"
      },
      "outputs": [
        {
          "output_type": "execute_result",
          "data": {
            "text/plain": [
              "613"
            ]
          },
          "metadata": {},
          "execution_count": 32
        }
      ],
      "source": [
        "#Quantos ocorrências de até 1 mês?\n",
        "df[\"tenure\"].loc[df[\"tenure\"] == 1].count()"
      ]
    },
    {
      "cell_type": "markdown",
      "metadata": {
        "id": "JAf9lQ9ElykQ"
      },
      "source": [
        "Ao menos 624 clientes ficaram apenas 1 mês ou menos na empresa."
      ]
    },
    {
      "cell_type": "code",
      "execution_count": 33,
      "metadata": {
        "id": "tAHkNaFqlxpC",
        "colab": {
          "base_uri": "https://localhost:8080/"
        },
        "outputId": "a85a01f1-dfce-460d-a660-dc63321adf46"
      },
      "outputs": [
        {
          "output_type": "execute_result",
          "data": {
            "text/plain": [
              "4974"
            ]
          },
          "metadata": {},
          "execution_count": 33
        }
      ],
      "source": [
        "#E mais de 1 ano?\n",
        "df[\"tenure\"].loc[df[\"tenure\"] >= 12].count()"
      ]
    },
    {
      "cell_type": "markdown",
      "metadata": {
        "id": "DbHMavKUmnZw"
      },
      "source": [
        "4974 clientes ficaram ao menos 1 ano no serviço. \n",
        "\n",
        "Aparentemente a contagem contínua dos meses de permanência pode não ser suficiente por si, uma vez que os clientes estão sujeitos a três tipos específicos de contratos, as duas features parecem ser melhor entendidas juntas."
      ]
    },
    {
      "cell_type": "code",
      "execution_count": 34,
      "metadata": {
        "id": "6L7F2BkYuewr",
        "colab": {
          "base_uri": "https://localhost:8080/"
        },
        "outputId": "02910e47-55e7-48a1-fb6f-4c5017e88dc2"
      },
      "outputs": [
        {
          "output_type": "execute_result",
          "data": {
            "text/plain": [
              "362"
            ]
          },
          "metadata": {},
          "execution_count": 34
        }
      ],
      "source": [
        "df[\"tenure\"].loc[df[\"tenure\"] == 72].count()"
      ]
    },
    {
      "cell_type": "markdown",
      "metadata": {
        "id": "vny1Q60H1zan"
      },
      "source": [
        "362 clientes permaneceram (até a data de coleta dos dados) 72 meses no serviço, o que equivale a 6 anos. São clientes já fidelizados."
      ]
    },
    {
      "cell_type": "markdown",
      "metadata": {
        "id": "DZkGstcS2VkQ"
      },
      "source": [
        "Pergunta: \n",
        "\n",
        "Qual a porcentagem de clientes com mais de 2 anos? "
      ]
    },
    {
      "cell_type": "code",
      "execution_count": 35,
      "metadata": {
        "id": "JPZy2L1fmc3_",
        "colab": {
          "base_uri": "https://localhost:8080/"
        },
        "outputId": "0070d737-cb60-48e5-bec1-2d7d8ab90351"
      },
      "outputs": [
        {
          "output_type": "execute_result",
          "data": {
            "text/plain": [
              "3927"
            ]
          },
          "metadata": {},
          "execution_count": 35
        }
      ],
      "source": [
        "#porcentagem de clientes há mais de 2 anos com a empresa\n",
        "client_count_2anos = df[\"tenure\"].loc[df[\"tenure\"] >= 24].count()\n",
        "client_count_2anos"
      ]
    },
    {
      "cell_type": "code",
      "execution_count": 36,
      "metadata": {
        "id": "wwtQVsFxr7tn",
        "colab": {
          "base_uri": "https://localhost:8080/"
        },
        "outputId": "b5f7cc15-9466-403f-bccc-db3365733a0e"
      },
      "outputs": [
        {
          "output_type": "execute_result",
          "data": {
            "text/plain": [
              "55.75748970609116"
            ]
          },
          "metadata": {},
          "execution_count": 36
        }
      ],
      "source": [
        "porcent_client_2anos = (client_count_2anos/df[\"customerID\"].count())*100\n",
        "porcent_client_2anos"
      ]
    },
    {
      "cell_type": "markdown",
      "metadata": {
        "id": "Ri7rIIC8s85L"
      },
      "source": [
        "55.7% dos clientes no conjunto de dados permaneceram 2 anos ou mais na empresa. \n"
      ]
    },
    {
      "cell_type": "markdown",
      "metadata": {
        "id": "fM0_TSKRuLDN"
      },
      "source": [
        "#PhoneService\n",
        "\n",
        "Se o cliente tem serviço telefônico (Sim ou Não). Categórica."
      ]
    },
    {
      "cell_type": "code",
      "execution_count": 37,
      "metadata": {
        "id": "zVByx8HysdUV",
        "colab": {
          "base_uri": "https://localhost:8080/"
        },
        "outputId": "15b2d6cd-18d5-438b-820b-c5b54c751e3a"
      },
      "outputs": [
        {
          "output_type": "execute_result",
          "data": {
            "text/plain": [
              "0        No\n",
              "1       Yes\n",
              "2       Yes\n",
              "3        No\n",
              "4       Yes\n",
              "       ... \n",
              "7038    Yes\n",
              "7039    Yes\n",
              "7040     No\n",
              "7041    Yes\n",
              "7042    Yes\n",
              "Name: PhoneService, Length: 7043, dtype: object"
            ]
          },
          "metadata": {},
          "execution_count": 37
        }
      ],
      "source": [
        "df[\"PhoneService\"]"
      ]
    },
    {
      "cell_type": "code",
      "execution_count": 38,
      "metadata": {
        "id": "PtkQAM2ivvDx",
        "colab": {
          "base_uri": "https://localhost:8080/"
        },
        "outputId": "f8fa440e-7a24-481f-beb3-2fe0b4facfa0"
      },
      "outputs": [
        {
          "output_type": "execute_result",
          "data": {
            "text/plain": [
              "count     7043\n",
              "unique       2\n",
              "top        Yes\n",
              "freq      6361\n",
              "Name: PhoneService, dtype: object"
            ]
          },
          "metadata": {},
          "execution_count": 38
        }
      ],
      "source": [
        "#Estatística básica\n",
        "df[\"PhoneService\"].describe()"
      ]
    },
    {
      "cell_type": "markdown",
      "metadata": {
        "id": "PUAzsXhAwmCu"
      },
      "source": [
        "Uma parcela consideravelmente maior dos clientes têm serviço de telefonia."
      ]
    },
    {
      "cell_type": "code",
      "execution_count": 39,
      "metadata": {
        "id": "lFN7ECxlwsg8",
        "colab": {
          "base_uri": "https://localhost:8080/"
        },
        "outputId": "d4299a23-e48f-4d10-d3ef-40530f00a2fc"
      },
      "outputs": [
        {
          "output_type": "execute_result",
          "data": {
            "text/plain": [
              "Yes   0.90\n",
              "No    0.10\n",
              "Name: PhoneService, dtype: float64"
            ]
          },
          "metadata": {},
          "execution_count": 39
        }
      ],
      "source": [
        "#90% dos clientes têm serviço de telefonia\n",
        "df[\"PhoneService\"].value_counts(1)"
      ]
    },
    {
      "cell_type": "code",
      "execution_count": 40,
      "metadata": {
        "id": "OvkermxrxMQ-",
        "colab": {
          "base_uri": "https://localhost:8080/"
        },
        "outputId": "13c3fb7d-39ad-4871-f255-a12f265173fa"
      },
      "outputs": [
        {
          "output_type": "execute_result",
          "data": {
            "text/plain": [
              "PhoneService\n",
              "No      682\n",
              "Yes    6361\n",
              "Name: customerID, dtype: int64"
            ]
          },
          "metadata": {},
          "execution_count": 40
        }
      ],
      "source": [
        "#Contagem\n",
        "PhoneService_count = df.groupby(\"PhoneService\")[\"customerID\"].count()\n",
        "PhoneService_count"
      ]
    },
    {
      "cell_type": "code",
      "execution_count": 41,
      "metadata": {
        "id": "lPcDZUH5xsFb",
        "colab": {
          "base_uri": "https://localhost:8080/",
          "height": 719
        },
        "outputId": "ffdc210d-1d41-4130-f485-db508be60f41"
      },
      "outputs": [
        {
          "output_type": "error",
          "ename": "NameError",
          "evalue": "ignored",
          "traceback": [
            "\u001b[0;31m---------------------------------------------------------------------------\u001b[0m",
            "\u001b[0;31mNameError\u001b[0m                                 Traceback (most recent call last)",
            "\u001b[0;32m<ipython-input-41-b41b3d872ece>\u001b[0m in \u001b[0;36m<module>\u001b[0;34m\u001b[0m\n\u001b[1;32m     20\u001b[0m \u001b[0;31m#labels\u001b[0m\u001b[0;34m\u001b[0m\u001b[0;34m\u001b[0m\u001b[0m\n\u001b[1;32m     21\u001b[0m \u001b[0;34m\u001b[0m\u001b[0m\n\u001b[0;32m---> 22\u001b[0;31m \u001b[0maddlabels_bars\u001b[0m\u001b[0;34m(\u001b[0m\u001b[0mPhoneService_yes_bar\u001b[0m\u001b[0;34m)\u001b[0m\u001b[0;34m\u001b[0m\u001b[0;34m\u001b[0m\u001b[0m\n\u001b[0m\u001b[1;32m     23\u001b[0m \u001b[0maddlabels_bars\u001b[0m\u001b[0;34m(\u001b[0m\u001b[0mPhoneService_no_bar\u001b[0m\u001b[0;34m)\u001b[0m\u001b[0;34m\u001b[0m\u001b[0;34m\u001b[0m\u001b[0m\n\u001b[1;32m     24\u001b[0m \u001b[0;34m\u001b[0m\u001b[0m\n",
            "\u001b[0;31mNameError\u001b[0m: name 'addlabels_bars' is not defined"
          ]
        },
        {
          "output_type": "display_data",
          "data": {
            "text/plain": [
              "<Figure size 576x576 with 1 Axes>"
            ],
            "image/png": "[encoded data removed]"
          },
          "metadata": {}
        }
      ],
      "source": [
        "#plotando\n",
        "\n",
        "indx = np.arange(0,1)\n",
        "scale_PService = np.arange(0, 7500, 500)\n",
        "pService_list = list(PhoneService_count)\n",
        "PhoneService_no = pService_list[0]\n",
        "PhoneService_yes = pService_list[1]\n",
        "\n",
        "#criando barras\n",
        "bar_width = 0.1\n",
        "fig, ax = plt.subplots(figsize = [8,8])\n",
        "PhoneService_yes_bar = ax.bar(indx - bar_width, PhoneService_yes, bar_width, label = \"Phone Service\", color = ['#199fb1'])\n",
        "PhoneService_no_bar = ax.bar(indx + bar_width, PhoneService_no, bar_width, label = \"No Phone Service\", color = ['#0d5c75'] )\n",
        "\n",
        "plt.title(\"Clientes com serviço de telefonia\")\n",
        "ax.set_xticks(indx)\n",
        "ax.set_yticks(scale_PService)\n",
        "plt.legend()\n",
        "\n",
        "#labels\n",
        "\n",
        "addlabels_bars(PhoneService_yes_bar)\n",
        "addlabels_bars(PhoneService_no_bar)\n",
        "\n",
        "plt.show()"
      ]
    },
    {
      "cell_type": "markdown",
      "metadata": {
        "id": "9yQEdx6c82zl"
      },
      "source": [
        "Como visto quase todos os clientes no conjunto de dados têm serviço de telefonia. Resultado já esperado."
      ]
    },
    {
      "cell_type": "markdown",
      "metadata": {
        "id": "g7jK0eAL9Eim"
      },
      "source": [
        "#MultipleLines\n",
        "\n",
        "Se o cliente tem multiplas linhas ou não (Não, sim ou Sem seviço de telefonia). Variável categórica."
      ]
    },
    {
      "cell_type": "code",
      "execution_count": null,
      "metadata": {
        "id": "WyhaCm7R9RTA"
      },
      "outputs": [],
      "source": [
        "df[\"MultipleLines\"]"
      ]
    },
    {
      "cell_type": "code",
      "execution_count": null,
      "metadata": {
        "id": "5-B-DvsH9pj1"
      },
      "outputs": [],
      "source": [
        "df[\"MultipleLines\"].describe()"
      ]
    },
    {
      "cell_type": "code",
      "execution_count": null,
      "metadata": {
        "id": "b3AnRRY3-RY_"
      },
      "outputs": [],
      "source": [
        "df[\"MultipleLines\"].value_counts()"
      ]
    },
    {
      "cell_type": "code",
      "execution_count": null,
      "metadata": {
        "id": "KJwoJEy5-cOE"
      },
      "outputs": [],
      "source": [
        "#contagem de valores únicos\n",
        "MultipleLines_count = df.groupby(\"MultipleLines\")[\"customerID\"].count()\n",
        "MultipleLines_count"
      ]
    },
    {
      "cell_type": "code",
      "execution_count": null,
      "metadata": {
        "id": "54Sf-Uz9_oRb"
      },
      "outputs": [],
      "source": [
        "#plot\n",
        "\n",
        "indx = np.arange(0,1)\n",
        "scale_multlines = np.arange(0,4500,500)\n",
        "MultipleLines_count_list = list(MultipleLines_count)\n",
        "MultipleLines_count_no = MultipleLines_count_list[0]\n",
        "MultipleLines_count_yes = MultipleLines_count_list[2]\n",
        "No_phone_service = MultipleLines_count_list[1]\n",
        "\n",
        "#Barras\n",
        "\n",
        "bar_width = 0.1\n",
        "fig, ax = plt.subplots(figsize=[8,8])\n",
        "MultipleLines_no_bar = ax.bar(indx-2*bar_width, MultipleLines_count_no, bar_width, label = \"No multiplelines\", color = [\"#0d5c75\"])\n",
        "MultipleLines_yes_bar = ax.bar(indx, MultipleLines_count_yes, bar_width, label = \"Multiplelines\", color = [\"#199fb1\"])\n",
        "no_phone_lines_bar = ax.bar(indx+2*bar_width, No_phone_service, bar_width, label = \"No phone lines\", color = [\"#a5d1e1\"])\n",
        "\n",
        "plt.title(\"Contagem de clientes com múltiplas linhas\")\n",
        "ax.set_xticks(indx)\n",
        "ax.set_yticks(scale_multlines)\n",
        "plt.legend()\n",
        "\n",
        "#Labels\n",
        "\n",
        "addlabels_bars(MultipleLines_no_bar)\n",
        "addlabels_bars(MultipleLines_yes_bar)\n",
        "addlabels_bars(no_phone_lines_bar)\n"
      ]
    },
    {
      "cell_type": "markdown",
      "metadata": {
        "id": "dfJJmTpjrSW6"
      },
      "source": [
        "#InternetService \n",
        "\n",
        "Provedor de internet do cliente (DSL, Fibra optica ou não). Variável categórica. "
      ]
    },
    {
      "cell_type": "code",
      "execution_count": null,
      "metadata": {
        "id": "WZOWCWKnrMUJ"
      },
      "outputs": [],
      "source": [
        "df['InternetService']"
      ]
    },
    {
      "cell_type": "code",
      "execution_count": null,
      "metadata": {
        "id": "8pQJuDukGier"
      },
      "outputs": [],
      "source": [
        "df['InternetService'].describe()"
      ]
    },
    {
      "cell_type": "code",
      "execution_count": null,
      "metadata": {
        "id": "NkqP4iRDFY14"
      },
      "outputs": [],
      "source": [
        "#valores únicos\n",
        "df['InternetService'].unique()"
      ]
    },
    {
      "cell_type": "code",
      "execution_count": null,
      "metadata": {
        "id": "AMeuw4fwFt13"
      },
      "outputs": [],
      "source": [
        "#contagem\n",
        "df['InternetService'].value_counts(1)"
      ]
    },
    {
      "cell_type": "markdown",
      "metadata": {
        "id": "o13Zvub3F024"
      },
      "source": [
        "Maior parte dos clientes (44%) tem serviço de internet por fibra óptica, consideravelmente maior que DSL."
      ]
    },
    {
      "cell_type": "code",
      "execution_count": null,
      "metadata": {
        "id": "Xqr0ZU8PG88Q"
      },
      "outputs": [],
      "source": [
        "count_inter_service = df.groupby(\"InternetService\")[\"customerID\"].count()\n",
        "count_inter_service"
      ]
    },
    {
      "cell_type": "code",
      "execution_count": null,
      "metadata": {
        "id": "afCOB06nFz7z"
      },
      "outputs": [],
      "source": [
        "#Dados\n",
        "\n",
        "indx = np.arange(0,1)\n",
        "scale_internetservice = np.arange(0, 4500, 500)\n",
        "list_internetservice = list(count_inter_service)\n",
        "count_fiber = list_internetservice[1]\n",
        "count_DSL = list_internetservice[0]\n",
        "count_no = list_internetservice[2]\n",
        "\n",
        "#criando barras\n",
        "\n",
        "bar_width = 0.1\n",
        "fig, ax = plt.subplots(figsize = [8,8])\n",
        "fiber_bar = ax.bar(indx-2*bar_width, count_fiber, bar_width, label = \"Fibra\", color = ['#0d5c75'])\n",
        "DSL_bar = ax.bar(indx, count_DSL, bar_width, label = \"DSL\", color = ['#199fb1'])\n",
        "No_inteserv_bar = ax.bar(indx+2*bar_width, count_no, bar_width, label = \"Sem serviço\", color = ['#a5d1e1'])\n",
        "\n",
        "#configurando \n",
        "\n",
        "plt.title(\"Clientes com serviço de internet\")\n",
        "plt.legend()\n",
        "ax.set_xticks(indx)\n",
        "ax.set_yticks(scale_internetservice)\n",
        "\n",
        "#labels\n",
        "\n",
        "addlabels_bars(fiber_bar)\n",
        "addlabels_bars(DSL_bar)\n",
        "addlabels_bars(No_inteserv_bar)\n",
        "\n",
        "plt.show()\n",
        "\n"
      ]
    },
    {
      "cell_type": "markdown",
      "metadata": {
        "id": "gIzUynkBO5s6"
      },
      "source": [
        "#OnlineSecurity\n",
        "\n",
        "Se o cliente tem segurança online ou não (Sim, Não, Sem serviço de internet). Variável categórica."
      ]
    },
    {
      "cell_type": "code",
      "execution_count": null,
      "metadata": {
        "id": "qQFgZ60NPggx"
      },
      "outputs": [],
      "source": [
        "df[\"OnlineSecurity\"]"
      ]
    },
    {
      "cell_type": "code",
      "execution_count": null,
      "metadata": {
        "id": "6GWQ28KwPk6G"
      },
      "outputs": [],
      "source": [
        "df[\"OnlineSecurity\"].describe()"
      ]
    },
    {
      "cell_type": "markdown",
      "metadata": {
        "id": "evVpDRbKPs_K"
      },
      "source": [
        "Maioria dos clientes não tem serviço de segurança online."
      ]
    },
    {
      "cell_type": "code",
      "execution_count": null,
      "metadata": {
        "id": "D1inX_qcP0qN"
      },
      "outputs": [],
      "source": [
        "df[\"OnlineSecurity\"].value_counts(1)"
      ]
    },
    {
      "cell_type": "code",
      "execution_count": null,
      "metadata": {
        "id": "wGl84PgIQvGX"
      },
      "outputs": [],
      "source": [
        "#contagem\n",
        "count_onlinesec = df.groupby(\"OnlineSecurity\")[\"customerID\"].count()\n",
        "count_onlinesec"
      ]
    },
    {
      "cell_type": "code",
      "execution_count": null,
      "metadata": {
        "id": "CHA5V_yDQLSf"
      },
      "outputs": [],
      "source": [
        "#Visualizando\n",
        "indx = np.arange(0,1)\n",
        "scale_onlinesec = np.arange(0, 4500, 500)\n",
        "list_onlinesec = list(count_onlinesec)\n",
        "no_online_security = list_onlinesec[0]\n",
        "online_security = list_onlinesec[2]\n",
        "no_internet = list_onlinesec[1]\n",
        "\n",
        "#criando barras\n",
        "\n",
        "bar_width = 0.1\n",
        "fig, ax = plt.subplots(figsize = [8,8])\n",
        "no_security_bar = ax.bar(indx-2*bar_width, no_online_security, bar_width, label = \"Sem segurança online\", color = ['#0d5c75'])\n",
        "security_bar = ax.bar(indx, online_security, bar_width, label = \"Segurança online\", color = ['#199fb1'])\n",
        "No_inteserv_bar = ax.bar(indx+2*bar_width, no_internet, bar_width, label = \"Sem internet\", color = ['#a5d1e1'])\n",
        "\n",
        "#configurando \n",
        "\n",
        "plt.title(\"Clientes com serviço de segurança online\")\n",
        "plt.legend()\n",
        "ax.set_xticks(indx)\n",
        "ax.set_yticks(scale_onlinesec)\n",
        "\n",
        "#labels\n",
        "\n",
        "addlabels_bars(no_security_bar)\n",
        "addlabels_bars(security_bar)\n",
        "addlabels_bars(No_inteserv_bar)\n",
        "\n",
        "plt.show()\n"
      ]
    },
    {
      "cell_type": "markdown",
      "metadata": {
        "id": "yeLnLHO6TS_L"
      },
      "source": [
        "Serviço de segurança online não é algo popular entre os clientes. "
      ]
    },
    {
      "cell_type": "markdown",
      "metadata": {
        "id": "qAP41YhATtWr"
      },
      "source": [
        "#OnlineBackup\n",
        "\n",
        " OnlineBackup - Se o cliente tem backup online ou não (Sim, Não, Sem serviço de internet)."
      ]
    },
    {
      "cell_type": "code",
      "execution_count": null,
      "metadata": {
        "id": "JKSztUkHTsdL"
      },
      "outputs": [],
      "source": [
        "df[\"OnlineBackup\"]"
      ]
    },
    {
      "cell_type": "code",
      "execution_count": null,
      "metadata": {
        "id": "W53E3CZqUNE_"
      },
      "outputs": [],
      "source": [
        "df[\"OnlineBackup\"].describe()"
      ]
    },
    {
      "cell_type": "markdown",
      "metadata": {
        "id": "u9X7QdRjamaf"
      },
      "source": [
        "Resultados bastante parecidos com o caso de segurança online, aparentemente também não é um serviço popular entre clientes."
      ]
    },
    {
      "cell_type": "code",
      "execution_count": null,
      "metadata": {
        "id": "vY5r1fC2aluz"
      },
      "outputs": [],
      "source": [
        "df[\"OnlineBackup\"].unique()"
      ]
    },
    {
      "cell_type": "code",
      "execution_count": null,
      "metadata": {
        "id": "nvmrlYh3a2OI"
      },
      "outputs": [],
      "source": [
        "df[\"OnlineBackup\"].value_counts(1)"
      ]
    },
    {
      "cell_type": "code",
      "execution_count": null,
      "metadata": {
        "id": "0VG2yl7nbB_y"
      },
      "outputs": [],
      "source": [
        "#contagem\n",
        "count_backup = df.groupby(\"OnlineBackup\")[\"customerID\"].count()\n",
        "count_backup"
      ]
    },
    {
      "cell_type": "code",
      "execution_count": null,
      "metadata": {
        "id": "IA9RElC_cAgY"
      },
      "outputs": [],
      "source": [
        "#plotando\n",
        "\n",
        "indx = np.arange(0,1)\n",
        "scale_backup = np.arange(0,4500, 500)\n",
        "list_count_backup = list(count_backup)\n",
        "backup_no = list_count_backup[0]\n",
        "backup_yes = list_count_backup[2]\n",
        "no_internet = list_count_backup[1]\n",
        "#criando barras\n",
        "\n",
        "bar_width = 0.1\n",
        "fig, ax = plt.subplots(figsize = [8,8])\n",
        "backup_no_bar = ax.bar(indx-2*bar_width, backup_no, bar_width, label = \"Sem backup online\", color = ['#0d5c75'])\n",
        "backup_yes_bar = ax.bar(indx, backup_yes, bar_width, label = \"Backup online\", color = ['#199fb1'])\n",
        "no_internet_bar = ax.bar(indx+2*bar_width, no_internet, bar_width, label = \"Sem internet\", color = ['#a5d1e1'])\n",
        "\n",
        "#configurando \n",
        "\n",
        "plt.title(\"Clientes com serviço de backup online\")\n",
        "plt.legend()\n",
        "ax.set_xticks(indx)\n",
        "ax.set_yticks(scale_backup)\n",
        "\n",
        "#labels\n",
        "\n",
        "addlabels_bars(backup_no_bar)\n",
        "addlabels_bars(backup_yes_bar)\n",
        "addlabels_bars(no_internet_bar)\n",
        "\n",
        "plt.show()"
      ]
    },
    {
      "cell_type": "markdown",
      "metadata": {
        "id": "r42Q73AfdQeD"
      },
      "source": [
        "Apesar de ainda uma maioria não ter serviço de backup, é ele mais popular entre os clientes que o serviço de segurança online. "
      ]
    },
    {
      "cell_type": "markdown",
      "metadata": {
        "id": "l4uYVlv3icjt"
      },
      "source": [
        "#DeviceProtection\n",
        "\n",
        "DeviceProtection - Se o cliente tem proteção do dispositivo ou não (Sim, Não, Sem serviço de internet). Variável categórica."
      ]
    },
    {
      "cell_type": "code",
      "execution_count": null,
      "metadata": {
        "id": "qfQ3Bp5pibXl"
      },
      "outputs": [],
      "source": [
        "df[\"DeviceProtection\"]"
      ]
    },
    {
      "cell_type": "code",
      "execution_count": null,
      "metadata": {
        "id": "A3QS504LjLFR"
      },
      "outputs": [],
      "source": [
        "df[\"DeviceProtection\"].unique()"
      ]
    },
    {
      "cell_type": "markdown",
      "metadata": {
        "id": "WnSSFxbmjXrz"
      },
      "source": [
        "Mais uma feature com 'no internet service', provavelmente todas as features relativas a segurança do cliente terão."
      ]
    },
    {
      "cell_type": "code",
      "execution_count": null,
      "metadata": {
        "id": "waClDiwUjW02"
      },
      "outputs": [],
      "source": [
        "df[\"DeviceProtection\"].describe()"
      ]
    },
    {
      "cell_type": "code",
      "execution_count": null,
      "metadata": {
        "id": "vnv0BTTnj3tC"
      },
      "outputs": [],
      "source": [
        "#porcentagem\n",
        "df[\"DeviceProtection\"].value_counts(1)"
      ]
    },
    {
      "cell_type": "code",
      "execution_count": null,
      "metadata": {
        "id": "jTyPaD64kN-4"
      },
      "outputs": [],
      "source": [
        "count_dev_protec = df.groupby('DeviceProtection')[\"customerID\"].count()\n",
        "count_dev_protec"
      ]
    },
    {
      "cell_type": "code",
      "execution_count": null,
      "metadata": {
        "id": "eoa7FIVWmid3"
      },
      "outputs": [],
      "source": [
        "#plotando\n",
        "\n",
        "indx = np.arange(0,1)\n",
        "scale_DeviceProtection = np.arange(0,4500, 500)\n",
        "list_count_dev_protec = list(count_dev_protec)\n",
        "dev_protec_no = list_count_dev_protec[0]\n",
        "dev_protec_yes = list_count_backup[2]\n",
        "no_internet = list_count_dev_protec[1]\n",
        "#criando barras\n",
        "\n",
        "bar_width = 0.1\n",
        "fig, ax = plt.subplots(figsize = [8,8])\n",
        "dev_protec_no_bar = ax.bar(indx-2*bar_width, dev_protec_no, bar_width, label = \"Sem proteção de dispositivo\", color = ['#0d5c75'])\n",
        "dev_protec_yes = ax.bar(indx, dev_protec_yes, bar_width, label = \"Proteção de dispositivo\", color = ['#199fb1'])\n",
        "no_internet_bar = ax.bar(indx+2*bar_width, no_internet, bar_width, label = \"Sem internet\", color = ['#a5d1e1'])\n",
        "\n",
        "#configurando \n",
        "\n",
        "plt.title(\"Clientes com serviço de proteção de dispositivo\")\n",
        "plt.legend()\n",
        "ax.set_xticks(indx)\n",
        "ax.set_yticks(scale_DeviceProtection)\n",
        "\n",
        "#labels\n",
        "\n",
        "addlabels_bars(dev_protec_no_bar)\n",
        "addlabels_bars(dev_protec_yes)\n",
        "addlabels_bars(no_internet_bar)\n",
        "\n",
        "plt.show()"
      ]
    },
    {
      "cell_type": "markdown",
      "metadata": {
        "id": "Y-McD9aCq2Kq"
      },
      "source": [
        "#TechSupport\n",
        "\n",
        "Se o cliente tem suporte técnico ou não (Sim, Não, Sem serviço de internet). Variável categórica."
      ]
    },
    {
      "cell_type": "code",
      "execution_count": null,
      "metadata": {
        "id": "3LWwNCnosV1H"
      },
      "outputs": [],
      "source": [
        "df[\"TechSupport\"]"
      ]
    },
    {
      "cell_type": "code",
      "execution_count": null,
      "metadata": {
        "id": "_x5Ki836sZy8"
      },
      "outputs": [],
      "source": [
        "#valores únicos\n",
        "df[\"TechSupport\"].unique()"
      ]
    },
    {
      "cell_type": "code",
      "execution_count": null,
      "metadata": {
        "id": "JJ0fNSe6sj8k"
      },
      "outputs": [],
      "source": [
        "#estatística geral\n",
        "df[\"TechSupport\"].describe()"
      ]
    },
    {
      "cell_type": "markdown",
      "metadata": {
        "id": "Ik7z5TIMssIz"
      },
      "source": [
        "A maioria dos clientes não assina suporte técnico. Aparentemente é uma tendência no que diz respeito a serviços de segurança."
      ]
    },
    {
      "cell_type": "code",
      "execution_count": null,
      "metadata": {
        "id": "COlSmh3otzT5"
      },
      "outputs": [],
      "source": [
        "df[\"TechSupport\"].value_counts(1)"
      ]
    },
    {
      "cell_type": "code",
      "execution_count": null,
      "metadata": {
        "id": "38pjJAi_uQTZ"
      },
      "outputs": [],
      "source": [
        "#contagem\n",
        "count_Tech_Sup = df.groupby(\"TechSupport\")[\"customerID\"].count()\n",
        "count_Tech_Sup"
      ]
    },
    {
      "cell_type": "code",
      "execution_count": null,
      "metadata": {
        "id": "brZwcaGXvZ5A"
      },
      "outputs": [],
      "source": [
        "#Plotando\n",
        "\n",
        "indx = np.arange(0,1)\n",
        "scale_tec_sup = np.arange(0,4500, 500)\n",
        "list_tech_sup = list(count_Tech_Sup)\n",
        "tec_sup_no = list_tech_sup[0]\n",
        "tec_sup_yes = list_tech_sup[2]\n",
        "no_internet = list_tech_sup[1]\n",
        "#criando barras\n",
        "\n",
        "bar_width = 0.1\n",
        "fig, ax = plt.subplots(figsize = [8,8])\n",
        "\n",
        "tech_sup_no_bar = ax.bar(indx-2*bar_width, tec_sup_no, bar_width, label = \"Sem suporte técnico\", color = ['#0d5c75'])\n",
        "tech_sup_yes = ax.bar(indx, tec_sup_yes, bar_width, label = \"Suporte técnico\", color = ['#199fb1'])\n",
        "no_internet_bar = ax.bar(indx+2*bar_width, no_internet, bar_width, label = \"Sem internet\", color = ['#a5d1e1'])\n",
        "\n",
        "#configurando \n",
        "\n",
        "plt.title(\"Clientes com suporte técnico\")\n",
        "plt.legend()\n",
        "ax.set_xticks(indx)\n",
        "ax.set_yticks(scale_tec_sup)\n",
        "\n",
        "#labels\n",
        "\n",
        "addlabels_bars(tech_sup_no_bar)\n",
        "addlabels_bars(tech_sup_yes)\n",
        "addlabels_bars(no_internet_bar)\n",
        "\n",
        "plt.show()"
      ]
    },
    {
      "cell_type": "markdown",
      "metadata": {
        "id": "98VZiOb1d7TM"
      },
      "source": [
        "Os serviços de segurança são bastante presentes entre os clientes, mas em todos os casos (tipos de serviços de segurança) a norma é não tê-los. Talvez oferecer algum tipo de serviço de segurança em conjunto seja uma estratégia interessante. A análise bivariada poderá produzir melhores insights."
      ]
    },
    {
      "cell_type": "markdown",
      "metadata": {
        "id": "UEuS6972xqUx"
      },
      "source": [
        "##StreamingTV\n",
        "\n",
        " Se o cliente tem steaming de TV ou não (Yes, No, No internet service). Variável categórica."
      ]
    },
    {
      "cell_type": "code",
      "execution_count": null,
      "metadata": {
        "id": "meNcHD1nx8Qe"
      },
      "outputs": [],
      "source": [
        "df[\"StreamingTV\"]"
      ]
    },
    {
      "cell_type": "code",
      "execution_count": null,
      "metadata": {
        "id": "-gsTYwFdyBvh"
      },
      "outputs": [],
      "source": [
        "#valores únicos\n",
        "df[\"StreamingTV\"].unique()"
      ]
    },
    {
      "cell_type": "code",
      "execution_count": null,
      "metadata": {
        "id": "99wMskLQyGz7"
      },
      "outputs": [],
      "source": [
        "#porcentagem\n",
        "porcent_count_streaming = df[\"StreamingTV\"].value_counts(1)\n",
        "porcent_count_streaming"
      ]
    },
    {
      "cell_type": "code",
      "execution_count": null,
      "metadata": {
        "id": "2ouISkm9VXvf"
      },
      "outputs": [],
      "source": [
        "count_streaming = df[\"StreamingTV\"].value_counts()\n",
        "count_streaming"
      ]
    },
    {
      "cell_type": "code",
      "execution_count": null,
      "metadata": {
        "id": "fBOQaKBZUkPN"
      },
      "outputs": [],
      "source": [
        "#Visualizando\n",
        "\n",
        "indx = np.arange(0,1)\n",
        "scale_streaming = np.arange(0,4000, 500)\n",
        "list_count_streaming = list(count_streaming)\n",
        "streaming_no = list_count_streaming[0]\n",
        "streaming_yes = list_count_streaming[1]\n",
        "no_internet = list_count_streaming[2]\n",
        "\n",
        "#criando barras\n",
        "\n",
        "bar_width = 0.1\n",
        "fig, ax = plt.subplots(figsize = [8,8])\n",
        "\n",
        "streaming_no_bar = ax.bar(indx-2*bar_width, streaming_no, bar_width, label = \"Sem streaming\", color = ['#0d5c75'])\n",
        "streaming_yes = ax.bar(indx, streaming_yes, bar_width, label = \"Com streaming\", color = ['#199fb1'])\n",
        "no_internet_bar = ax.bar(indx+2*bar_width, no_internet, bar_width, label = \"Sem internet\", color = ['#a5d1e1'])\n",
        "\n",
        "#configurando \n",
        "\n",
        "plt.title(\"Clientes com streming de TV\")\n",
        "plt.legend()\n",
        "ax.set_xticks(indx)\n",
        "ax.set_yticks(scale_streaming)\n",
        "\n",
        "#labels\n",
        "\n",
        "addlabels_bars(streaming_no_bar)\n",
        "addlabels_bars(streaming_yes)\n",
        "addlabels_bars(no_internet_bar)\n",
        "\n",
        "plt.show()"
      ]
    },
    {
      "cell_type": "markdown",
      "metadata": {
        "id": "4aHM39OSWsbv"
      },
      "source": [
        "Streaming de tv é um serviço popular dentre os clientes. "
      ]
    },
    {
      "cell_type": "markdown",
      "metadata": {
        "id": "ykok5HyiXLJc"
      },
      "source": [
        "##Streaming Movies\n",
        "\n",
        "Se o cliente tem streaming de filmes ou não (Sim, Não, Sem serviço de internet).Variável categórica."
      ]
    },
    {
      "cell_type": "code",
      "execution_count": null,
      "metadata": {
        "id": "a13I8g2iW0Z8"
      },
      "outputs": [],
      "source": [
        "df[\"StreamingMovies\"]"
      ]
    },
    {
      "cell_type": "code",
      "execution_count": null,
      "metadata": {
        "id": "cBLqbS1tXjTj"
      },
      "outputs": [],
      "source": [
        "#info estatísticas gerais\n",
        "df[\"StreamingMovies\"].describe()"
      ]
    },
    {
      "cell_type": "code",
      "execution_count": null,
      "metadata": {
        "id": "gsH0lo9ZXyVd"
      },
      "outputs": [],
      "source": [
        "df[\"StreamingMovies\"].unique()"
      ]
    },
    {
      "cell_type": "code",
      "execution_count": null,
      "metadata": {
        "id": "nVkm94EMYul4"
      },
      "outputs": [],
      "source": [
        "#contagem\n",
        "count_streaming_M = df[\"StreamingMovies\"].value_counts()\n",
        "count_streaming_M"
      ]
    },
    {
      "cell_type": "code",
      "execution_count": null,
      "metadata": {
        "id": "fZWsNQ_4ZaYx"
      },
      "outputs": [],
      "source": [
        "#Visualizando\n",
        "\n",
        "indx = np.arange(0,1)\n",
        "scale_streaming_M = np.arange(0,4000, 500)\n",
        "list_count_streaming_M = list(count_streaming_M)\n",
        "count_streaming_M_no = list_count_streaming_M[0]\n",
        "count_streaming_M_yes = list_count_streaming_M[1]\n",
        "no_internet = list_count_streaming_M[2]\n",
        "\n",
        "#criando barras\n",
        "\n",
        "bar_width = 0.1\n",
        "fig, ax = plt.subplots(figsize = [8,8])\n",
        "\n",
        "streaming_M_no_bar = ax.bar(indx-2*bar_width, count_streaming_M_no, bar_width, label = \"Sem streaming de filmes\", color = ['#0d5c75'])\n",
        "streaming_M_yes = ax.bar(indx, count_streaming_M_yes, bar_width, label = \"Com streaming de filmes\", color = ['#199fb1'])\n",
        "no_internet_bar = ax.bar(indx+2*bar_width, no_internet, bar_width, label = \"Sem internet\", color = ['#a5d1e1'])\n",
        "\n",
        "#configurando \n",
        "\n",
        "plt.title(\"Clientes com streming de filmes\")\n",
        "plt.legend()\n",
        "ax.set_xticks(indx)\n",
        "ax.set_yticks(scale_streaming_M)\n",
        "\n",
        "#labels\n",
        "\n",
        "addlabels_bars(streaming_M_no_bar)\n",
        "addlabels_bars(streaming_M_yes)\n",
        "addlabels_bars(no_internet_bar)\n",
        "\n",
        "plt.show()"
      ]
    },
    {
      "cell_type": "markdown",
      "metadata": {
        "id": "opx-tz6GacA0"
      },
      "source": [
        "Praticamente metade dos clientes com serviço de internet assinam serviço de streaming de filmes.\n",
        "\n",
        "Serviços de streaming tanto de TV quanto de filmes são bastante populares entre os clientes de modo que ~50% dos clientes com internet têm serviços de streaming."
      ]
    },
    {
      "cell_type": "markdown",
      "metadata": {
        "id": "iOt7wcrgbBSV"
      },
      "source": [
        "##Contract\n",
        "\n",
        "O prazo do contrato do cliente (mês a mês, um ano, dois anos). Variável categórica."
      ]
    },
    {
      "cell_type": "code",
      "source": [
        "df[\"Contract\"]"
      ],
      "metadata": {
        "id": "3tvSACFliLNP"
      },
      "execution_count": null,
      "outputs": []
    },
    {
      "cell_type": "code",
      "source": [
        "#Estatística geral\n",
        "df[\"Contract\"].describe()"
      ],
      "metadata": {
        "id": "MsN5kd9EiatX"
      },
      "execution_count": null,
      "outputs": []
    },
    {
      "cell_type": "code",
      "source": [
        "df[\"Contract\"].unique()"
      ],
      "metadata": {
        "id": "oZvS0aZ1iiyE"
      },
      "execution_count": null,
      "outputs": []
    },
    {
      "cell_type": "code",
      "source": [
        "#sem dados nulos\n",
        "df[\"Contract\"].isnull().sum()"
      ],
      "metadata": {
        "id": "lfYpBnbLilM1"
      },
      "execution_count": null,
      "outputs": []
    },
    {
      "cell_type": "code",
      "source": [
        "count_contract = df[\"Contract\"].value_counts()\n",
        "count_contract"
      ],
      "metadata": {
        "id": "qmKCSoR056bZ"
      },
      "execution_count": null,
      "outputs": []
    },
    {
      "cell_type": "code",
      "source": [
        "#Visualizando \n",
        "\n",
        "indx = np.arange(0,1)\n",
        "scale_contract = np.arange(0, 4500, 500)\n",
        "list_count_contract = list(count_contract)\n",
        "month_to_month = list_count_contract[0]\n",
        "two_year = list_count_contract[1]\n",
        "one_year = list_count_contract[2]\n",
        "\n",
        "#barras\n",
        "\n",
        "bar_width = 0.1\n",
        "fig , ax = plt.subplots(figsize = [8,8])\n",
        "month_to_month_bar = ax.bar(indx-2*bar_width, month_to_month, bar_width, label = \"Mensal\", color = ['#0d5c75'])\n",
        "one_year_bar =  ax.bar(indx, one_year, bar_width, label = \"Anual\", color = ['#a5d1e1'])\n",
        "two_year_bar =  ax.bar(indx+2*bar_width, two_year, bar_width, label = 'bianual', color = ['#199fb1']) \n",
        "#config\n",
        "\n",
        "plt.title(\"Clientes por tipo de contrato\")\n",
        "plt.legend()\n",
        "plt.ylabel(\"Frequência\")\n",
        "ax.set_xticks(indx)\n",
        "ax.set_yticks(scale_contract)\n",
        "\n",
        "#Labels\n",
        "\n",
        "addlabels_bars(month_to_month_bar)\n",
        "addlabels_bars(one_year_bar)\n",
        "addlabels_bars(two_year_bar)\n",
        "\n",
        "\n",
        "\n",
        "plt.show()\n",
        "\n",
        "\n",
        "\n"
      ],
      "metadata": {
        "id": "FW1yjvlR6HDj"
      },
      "execution_count": null,
      "outputs": []
    },
    {
      "cell_type": "markdown",
      "source": [
        "Contratos mensais (mês a mês) são aparentemente muito preferidos pelos clientes. \n",
        "\n",
        "**Pergunta**: Isso indica ocorrência de clientes novos conhecendo o serviço ou é uma preferência até entre clientes já fidelizados?"
      ],
      "metadata": {
        "id": "7nkqVWFnCfOq"
      }
    },
    {
      "cell_type": "markdown",
      "source": [
        "#PaperlessBilling\n",
        "\n",
        " Se o cliente tem faturamento sem papel ou não (Sim, Não)."
      ],
      "metadata": {
        "id": "U_pB4W-6D8s3"
      }
    },
    {
      "cell_type": "code",
      "source": [
        "df[\"PaperlessBilling\"]"
      ],
      "metadata": {
        "id": "K4n4xZxFCeA9"
      },
      "execution_count": null,
      "outputs": []
    },
    {
      "cell_type": "code",
      "source": [
        "df[\"PaperlessBilling\"].describe()"
      ],
      "metadata": {
        "id": "F0LOfRtOFdyN"
      },
      "execution_count": null,
      "outputs": []
    },
    {
      "cell_type": "code",
      "source": [
        "#Porcentagem\n",
        "df[\"PaperlessBilling\"].value_counts(1)"
      ],
      "metadata": {
        "id": "3ILDc6bbFjS9"
      },
      "execution_count": null,
      "outputs": []
    },
    {
      "cell_type": "markdown",
      "source": [
        "Aproximandamente metade dos clientes têm fatura sem papel (digital)."
      ],
      "metadata": {
        "id": "-p1mVTzccaVu"
      }
    },
    {
      "cell_type": "markdown",
      "source": [
        "##PaymentMethod\n",
        "\n",
        "O método de pagamento do cliente (Cheque eletrônico, Cheque enviado, Transferência bancária (automática), Cartão de crédito (automático))."
      ],
      "metadata": {
        "id": "-RiRDMqrckZT"
      }
    },
    {
      "cell_type": "code",
      "source": [
        "df[\"PaymentMethod\"]"
      ],
      "metadata": {
        "id": "v14aUczIcjkB"
      },
      "execution_count": null,
      "outputs": []
    },
    {
      "cell_type": "code",
      "source": [
        "df[\"PaymentMethod\"].isnull().sum()"
      ],
      "metadata": {
        "id": "OglcQIRIdD-P"
      },
      "execution_count": null,
      "outputs": []
    },
    {
      "cell_type": "code",
      "source": [
        "#métodos de pagamento mais populares\n",
        "paymant_method_count = df[\"PaymentMethod\"].value_counts()\n",
        "paymant_method_count"
      ],
      "metadata": {
        "id": "c3HHeDx0cZfk"
      },
      "execution_count": null,
      "outputs": []
    },
    {
      "cell_type": "code",
      "source": [
        "list(paymant_method_count)"
      ],
      "metadata": {
        "id": "1yRhJ_pH7KOK"
      },
      "execution_count": null,
      "outputs": []
    },
    {
      "cell_type": "code",
      "source": [
        "plt.figure(figsize=[8,8])\n",
        "barplot = plt.bar(x = list(paymant_method_count.index), height = list(paymant_method_count),\n",
        "                      color =['#0d5c75','#199fb1', '#a5d3e1', '#a5d1e1'])\n",
        "\n",
        "plt.bar_label(barplot, labels= list(paymant_method_count), padding=2)\n",
        "plt.ylim([0, 3000])\n",
        "\n",
        "plt.title(\"Formas de pagamento mais comuns\")\n",
        "plt.ylabel(\"Frequência\")\n",
        "plt.xticks(rotation=-50)\n"
      ],
      "metadata": {
        "id": "clG8EMhQ7aNm"
      },
      "execution_count": null,
      "outputs": []
    },
    {
      "cell_type": "markdown",
      "source": [
        "##MonthlyCharges\n",
        "\n",
        "MontlyCharges - O valor cobrado do cliente mensalmente. Variável numérica contínua (float)."
      ],
      "metadata": {
        "id": "IUFIOVhTbP1q"
      }
    },
    {
      "cell_type": "code",
      "source": [
        "df[\"MonthlyCharges\"]"
      ],
      "metadata": {
        "id": "396cOHaMbPD9"
      },
      "execution_count": null,
      "outputs": []
    },
    {
      "cell_type": "code",
      "source": [
        "#estatística geral\n",
        "df[\"MonthlyCharges\"].describe()"
      ],
      "metadata": {
        "id": "UT5P-yv3i-d0"
      },
      "execution_count": null,
      "outputs": []
    },
    {
      "cell_type": "markdown",
      "source": [
        "A média de valor pago mensalmente pelos clientes é de 64,76."
      ],
      "metadata": {
        "id": "oHy9WkJ9kQXp"
      }
    },
    {
      "cell_type": "code",
      "source": [
        "df[\"MonthlyCharges\"].isna().sum()"
      ],
      "metadata": {
        "id": "oGaF9C3OjXRH"
      },
      "execution_count": null,
      "outputs": []
    },
    {
      "cell_type": "code",
      "source": [
        "df[\"MonthlyCharges\"].nunique()"
      ],
      "metadata": {
        "id": "8Fx_eVo6jgrd"
      },
      "execution_count": null,
      "outputs": []
    },
    {
      "cell_type": "code",
      "source": [
        "df[\"MonthlyCharges\"].loc[df[\"MonthlyCharges\"] <= 64.76].count()"
      ],
      "metadata": {
        "id": "oYV9JDt9kfIh"
      },
      "execution_count": null,
      "outputs": []
    },
    {
      "cell_type": "markdown",
      "source": [
        "3120 clientes pagam por mês valor menor que a média."
      ],
      "metadata": {
        "id": "tNVD79nvn7j2"
      }
    },
    {
      "cell_type": "code",
      "source": [
        "df[\"MonthlyCharges\"].loc[df[\"MonthlyCharges\"] > 64.76].count()"
      ],
      "metadata": {
        "id": "2yXJZgknk7tJ"
      },
      "execution_count": null,
      "outputs": []
    },
    {
      "cell_type": "markdown",
      "source": [
        "3923 clientes pagam por mês valor maior que a média. "
      ],
      "metadata": {
        "id": "jHv52Mp1oM2n"
      }
    },
    {
      "cell_type": "code",
      "source": [
        "#plotando a distribuição da feature\n",
        "plt.figure(figsize=[8,8])\n",
        "counts, edges, bars = plt.hist(df[\"MonthlyCharges\"],\n",
        "                               edgecolor=\"white\", color = ['#199fb1'])\n",
        "plt.ylim([0,1700])\n",
        "plt.bar_label(bars)\n",
        "plt.title('Distribuição de pagamentos mensais')\n",
        "plt.xlabel('valor mensal')\n",
        "plt.ylabel('Faixa de frequência')\n",
        "  \n",
        "\n",
        "  "
      ],
      "metadata": {
        "id": "AfXUkB2uwN5v"
      },
      "execution_count": null,
      "outputs": []
    },
    {
      "cell_type": "code",
      "source": [
        "df[\"MonthlyCharges\"].value_counts()"
      ],
      "metadata": {
        "id": "hiluCX57t2NL"
      },
      "execution_count": null,
      "outputs": []
    },
    {
      "cell_type": "markdown",
      "source": [
        "Mensalidades mais baixas são mais comuns"
      ],
      "metadata": {
        "id": "nUVm511Iu199"
      }
    },
    {
      "cell_type": "markdown",
      "source": [],
      "metadata": {
        "id": "UWQ1BPUAnzxE"
      }
    },
    {
      "cell_type": "code",
      "source": [
        "df.groupby(['PaymentMethod','Churn'], as_index=False)['customerID'].count()"
      ],
      "metadata": {
        "id": "W0cewoi6inTn"
      },
      "execution_count": null,
      "outputs": []
    },
    {
      "cell_type": "code",
      "source": [
        "df.groupby(['Contract','tenure'], as_index=False)['customerID'].count()"
      ],
      "metadata": {
        "id": "5SLzLnRNnDyG"
      },
      "execution_count": null,
      "outputs": []
    },
    {
      "cell_type": "code",
      "source": [
        "contratos_mensais = df.loc[df[\"Contract\"] == 'Month-to-month']"
      ],
      "metadata": {
        "id": "lOXtnOWcxnPo"
      },
      "execution_count": null,
      "outputs": []
    },
    {
      "cell_type": "code",
      "source": [
        "contratos_mensais.Contract.loc[contratos_mensais[\"tenure\"] == 24].count()"
      ],
      "metadata": {
        "id": "NYGdgHGl5SBo"
      },
      "execution_count": null,
      "outputs": []
    },
    {
      "cell_type": "code",
      "source": [
        "df_contract_churn = df.groupby(['Contract','Churn'], as_index=False)['customerID'].count()\n",
        "df_contract_churn"
      ],
      "metadata": {
        "id": "n0EQP2sUtgBD"
      },
      "execution_count": null,
      "outputs": []
    },
    {
      "cell_type": "code",
      "source": [
        "type(df_contract_churn)"
      ],
      "metadata": {
        "id": "mrV5NOQAWW_E"
      },
      "execution_count": null,
      "outputs": []
    },
    {
      "cell_type": "code",
      "execution_count": null,
      "metadata": {
        "id": "2al-Jnl92nFA"
      },
      "outputs": [],
      "source": [
        "df.columns"
      ]
    }
  ],
  "metadata": {
    "colab": {
      "provenance": []
    },
    "kernelspec": {
      "display_name": "Python 3",
      "name": "python3"
    },
    "language_info": {
      "name": "python"
    }
  },
  "nbformat": 4,
  "nbformat_minor": 0
}